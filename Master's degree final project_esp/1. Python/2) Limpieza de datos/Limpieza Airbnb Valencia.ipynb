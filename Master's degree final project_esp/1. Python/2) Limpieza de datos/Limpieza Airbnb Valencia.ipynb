{
 "cells": [
  {
   "cell_type": "markdown",
   "metadata": {},
   "source": [
    "**Librerías y DF**"
   ]
  },
  {
   "cell_type": "code",
   "execution_count": 2,
   "metadata": {},
   "outputs": [],
   "source": [
    "import pandas as pd \n",
    "import numpy as np\n",
    "import re\n",
    "df= pd.read_csv(r\"C:\\Users\\pablo\\Documents\\GitHub\\WhiteHosting\\CSVs\\Valencia\\Airbnb Valencia (sin limpiar).csv\")"
   ]
  },
  {
   "cell_type": "markdown",
   "metadata": {},
   "source": [
    "**Limpieza**"
   ]
  },
  {
   "cell_type": "code",
   "execution_count": 3,
   "metadata": {},
   "outputs": [],
   "source": [
    "#Columna ID a str\n",
    "df[\"ID\"] = (df[\"ID\"]).astype(str)\n",
    "\n",
    "#Quitamos el € de la columna de precios\n",
    "df[\"Precio por noche Octubre\"]= df[\"Precio por noche Octubre\"].apply(lambda x: x.replace(\"€\",\"\").replace(\".\",\"\").strip())\n",
    "df[\"Precio por noche Agosto\"] = df[\"Precio por noche Agosto\"].apply(lambda x: x.replace(\"€\",\"\").replace(\".\",\"\").strip())\n",
    "\n",
    "#Cambiamos el precio no disponible por 0, y convertirlos a enteros\n",
    "def cambiar_a_nulos(x):\n",
    "    if x==\"No disponible en Octubre\" or x==\"No disponible en Agosto\":\n",
    "        return np.nan\n",
    "    else:\n",
    "        return x\n",
    "df[\"Precio por noche Octubre\"]= df[\"Precio por noche Octubre\"].apply(cambiar_a_nulos).astype('Int64')\n",
    "df[\"Precio por noche Agosto\"] = df[\"Precio por noche Agosto\"].apply(cambiar_a_nulos).astype('Int64')\n",
    "\n",
    "#Limpiamos el texto de camas, dormitorios, numero de valoraciones y viajeros\n",
    "def solo_numero(x):\n",
    "    try:\n",
    "        return int(x.split()[0])\n",
    "    except (ValueError, AttributeError):\n",
    "        return np.nan\n",
    "df[\"Camas\"]= df[\"Camas\"].apply(solo_numero).astype('Int64')\n",
    "df[\"Viajeros máximos\"]= df[\"Viajeros máximos\"].apply(solo_numero).astype('Int64')\n",
    "df[\"Dormitorios\"]= df[\"Dormitorios\"].apply(solo_numero).astype('Int64')\n",
    "df[\"Numero valoraciones\"]= df[\"Numero valoraciones\"].apply(solo_numero).astype('Int64')\n",
    "\n",
    "#Limpiamos la columna Valoracion   \n",
    "df['Valoración'] = df['Valoración'].replace('Sin valoraciones', np.nan).replace('Sin evaluaciones', np.nan).replace('Nuevo', np.nan).str.replace(',', '.').astype(float)\n",
    "\n",
    "#Limpiamos la columna del Baño, dejándomo como minimo en 1\n",
    "def solo_numero_baño(x):\n",
    "    try:\n",
    "        return int(x.split()[0])\n",
    "    except (ValueError, AttributeError):\n",
    "        return 1\n",
    "df[\"Baños\"]= df[\"Baños\"].apply(solo_numero_baño).astype('Int64')\n",
    "#Columna de tiología\n",
    "df['Tipología'] = df['Tipo de habitación'].str.split().str[:1]\n",
    "df[\"Tipología\"]= df[\"Tipología\"].astype(str).apply(lambda x: x.replace(\"['\",\"\").replace(\"']\",\"\").strip())\n",
    "\n",
    "#Añadimos columna de Precio medio\n",
    "df['Precio Medio'] = df[['Precio por noche Agosto', 'Precio por noche Octubre']].mean(axis=1)\n",
    "df['Precio Medio'] = df['Precio Medio'].round().astype(\"Int64\")\n",
    "\n",
    "#Añadir una nueva columna Título\n",
    "df['Título'] = df['Tipo de habitación'].str.split(':| en ', n=1).str[0]\n",
    "df['Título'] = df['Título'].str.strip()\n",
    "\n",
    "#Añadir una nueva columna \"Municipio\"\n",
    "df['Municipio'] = df['Tipo de habitación'].str.split(',').str[-2].str.strip()\n",
    "df['Municipio'] = df['Municipio'].str.split(' en ', n=1).str[-1]\n",
    "df['Municipio'] = df['Municipio'].str.split(' en ', n=1).str[-1]\n",
    "df['Municipio'] = df['Municipio'].replace('·','')\n",
    "df['Municipio'] = df['Municipio'].replace(regex=r'[^a-zA-Z0-9\\s]', value='')\n",
    "\n",
    "#Movemos las columnas para mejor visualización\n",
    "df = df[['ID', 'Tipo de habitación', 'Título', 'Tipología', 'Ciudad', 'Localización', 'Municipio', 'Precio por noche Agosto', 'Precio por noche Octubre', 'Precio Medio', 'Valoración', 'Numero valoraciones', 'Dormitorios', 'Baños', 'Camas', 'Viajeros máximos']]\n",
    "\n",
    "#Rellenamos los ID´s con zeros delante para tenerlos igualmente largos.\n",
    "df['ID'] = df['ID'].astype(str).str.zfill(20)\n"
   ]
  },
  {
   "cell_type": "markdown",
   "metadata": {},
   "source": [
    "**Exportar en CSV**"
   ]
  },
  {
   "cell_type": "code",
   "execution_count": 4,
   "metadata": {},
   "outputs": [],
   "source": [
    "df.to_csv(\"Airbnb Valencia Limpio.csv\", index=False)"
   ]
  }
 ],
 "metadata": {
  "kernelspec": {
   "display_name": "Python 3",
   "language": "python",
   "name": "python3"
  },
  "language_info": {
   "codemirror_mode": {
    "name": "ipython",
    "version": 3
   },
   "file_extension": ".py",
   "mimetype": "text/x-python",
   "name": "python",
   "nbconvert_exporter": "python",
   "pygments_lexer": "ipython3",
   "version": "3.12.2"
  }
 },
 "nbformat": 4,
 "nbformat_minor": 2
}
