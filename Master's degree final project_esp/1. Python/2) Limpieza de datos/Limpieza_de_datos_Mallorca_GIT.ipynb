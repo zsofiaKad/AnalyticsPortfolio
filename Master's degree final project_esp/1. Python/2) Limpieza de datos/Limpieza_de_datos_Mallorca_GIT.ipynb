{
  "cells": [
    {
      "cell_type": "markdown",
      "metadata": {
        "id": "z0gORialZTQ4"
      },
      "source": [
        "# Importar librerías y df"
      ]
    },
    {
      "cell_type": "code",
      "execution_count": 1,
      "metadata": {
        "id": "pEtT7WTQZTQ5"
      },
      "outputs": [],
      "source": [
        "import pandas as pd\n",
        "import numpy as np"
      ]
    },
    {
      "cell_type": "code",
      "execution_count": null,
      "metadata": {
        "id": "dbELx-tPZTQ6"
      },
      "outputs": [],
      "source": [
        "df1 = pd.read_csv(\"C:\\\\Users\\\\Usuario\\\\OneDrive\\\\Documentos\\\\Master Data Analytics\\\\Proyecto Júpiter\\Datasets\\\\airbnb_pmi.csv\")\n",
        "df2 = pd.read_csv(\"C:\\\\Users\\\\Usuario\\\\OneDrive\\\\Documentos\\\\Master Data Analytics\\\\Proyecto Júpiter\\Datasets\\\\airbnb_pmi2.csv\")"
      ]
    },
    {
      "cell_type": "code",
      "execution_count": null,
      "metadata": {
        "id": "oz43gAH5ZTQ6"
      },
      "outputs": [],
      "source": [
        "df1.head(3)"
      ]
    },
    {
      "cell_type": "code",
      "execution_count": null,
      "metadata": {
        "id": "1YATct_NZTQ6"
      },
      "outputs": [],
      "source": [
        "df2.head(2)"
      ]
    },
    {
      "cell_type": "markdown",
      "metadata": {
        "id": "VkPnGn7uZTQ6"
      },
      "source": [
        "# Juntar los dos DF´s"
      ]
    },
    {
      "cell_type": "code",
      "execution_count": null,
      "metadata": {
        "id": "nqrVBMMiZTQ6"
      },
      "outputs": [],
      "source": [
        "#Eliminamos la columna \"Unnamed:0\"\n",
        "df1.drop(columns=['Unnamed: 0'], inplace=True)\n",
        "df2.drop(columns=['Unnamed: 0'], inplace=True)"
      ]
    },
    {
      "cell_type": "code",
      "execution_count": null,
      "metadata": {
        "id": "a_-bz1RtZTQ7"
      },
      "outputs": [],
      "source": [
        "df = pd.merge(df1, df2, on='ID', how='outer')"
      ]
    },
    {
      "cell_type": "code",
      "execution_count": null,
      "metadata": {
        "id": "z7XybT-xZTQ7"
      },
      "outputs": [],
      "source": [
        "df.head(3)"
      ]
    },
    {
      "cell_type": "markdown",
      "metadata": {
        "id": "MM-0KBhjZTQ7"
      },
      "source": [
        "# Limpieza de datos"
      ]
    },
    {
      "cell_type": "code",
      "execution_count": null,
      "metadata": {
        "id": "C1NlTFYdZTQ7"
      },
      "outputs": [],
      "source": [
        "df.dtypes"
      ]
    },
    {
      "cell_type": "code",
      "execution_count": null,
      "metadata": {
        "id": "MXFNdCGKZTQ7"
      },
      "outputs": [],
      "source": [
        "#1. Convertimos la columna \"ID\" a un object\n",
        "df[\"ID\"] = (df[\"ID\"]).astype(str)"
      ]
    },
    {
      "cell_type": "code",
      "execution_count": null,
      "metadata": {
        "id": "UbCP2zsvZTQ7"
      },
      "outputs": [],
      "source": [
        "#2. Limpiamos las columnas de precios\n",
        "#Limpiamos el simbolo de \"€\"\n",
        "df[\"Precio por noche Octubre\"] = df[\"Precio por noche Octubre\"].apply(lambda x: x.replace(\"€\", \"\").replace(\",\", \"\").replace(\".\",\"\"))\n",
        "df[\"Precio por noche Octubre\"] = df[\"Precio por noche Octubre\"].apply(lambda x: x.replace(\",\", \"\").replace(\".\",\"\"))\n",
        "columnas_precios = [\"Precio por noche Agosto\", \"Precio por noche Octubre\"]\n",
        "\n",
        "#Reemplazamos los campos \"No disponible\" con NaN\n",
        "def reemplazar_no_disponible(valor):\n",
        "    if valor == \"No disponible en Agosto\" or valor == \"No disponible en Octubre\":\n",
        "        return pd.NA\n",
        "    else:\n",
        "        return valor\n",
        "\n",
        "#Aplicamos la función a las columnas de precios\n",
        "df[columnas_precios] = df[columnas_precios].applymap(reemplazar_no_disponible)"
      ]
    },
    {
      "cell_type": "code",
      "execution_count": null,
      "metadata": {
        "id": "_DzfUvzvZTQ7"
      },
      "outputs": [],
      "source": [
        "#Convertir a enteros excepto los NaN\n",
        "def convertir_a_entero(valor):\n",
        "    if pd.isna(valor):\n",
        "        return valor\n",
        "    else:\n",
        "        #Convertir a entero si el valor no es nulo\n",
        "        return int(float(valor))\n",
        "\n",
        "#Aplicar la función\n",
        "df['Precio por noche Agosto'] = df['Precio por noche Agosto'].apply(convertir_a_entero).astype('Int64')\n",
        "df['Precio por noche Octubre'] = df['Precio por noche Octubre'].apply(convertir_a_entero).astype('Int64')"
      ]
    },
    {
      "cell_type": "code",
      "execution_count": null,
      "metadata": {
        "id": "l5OVz5NAZTQ8"
      },
      "outputs": [],
      "source": [
        "df.dtypes"
      ]
    },
    {
      "cell_type": "code",
      "execution_count": null,
      "metadata": {
        "id": "2u7tWjOqZTQ8"
      },
      "outputs": [],
      "source": [
        "#3. Limpiar las columnas de Dormitorios, Baños y Camas\n",
        "#Función para extraer números y convertir a NaN si no hay número\n",
        "def extract_number(value):\n",
        "    try:\n",
        "        return int(value.split()[0])\n",
        "    except (ValueError, AttributeError):\n",
        "        return np.nan\n",
        "\n",
        "# Aplicar la función a las columnas\n",
        "df['Dormitorios'] = df['Dormitorios'].apply(extract_number)\n",
        "df['Baños'] = df['Baños'].apply(extract_number)\n",
        "df['Camas'] = df['Camas'].apply(extract_number)\n"
      ]
    },
    {
      "cell_type": "code",
      "execution_count": null,
      "metadata": {
        "id": "TURuY8iEZTQ8"
      },
      "outputs": [],
      "source": [
        "df.head(5)"
      ]
    },
    {
      "cell_type": "code",
      "execution_count": null,
      "metadata": {
        "id": "OCFspx8LZTQ8"
      },
      "outputs": [],
      "source": [
        "#Convertimos las columnas de Dormitorios, Baños y Camas a numero entero (por defecto son \"float\")\n",
        "df['Dormitorios'] = df['Dormitorios'].astype('Int64')\n",
        "df['Baños'] = df['Baños'].astype('Int64')\n",
        "df['Camas'] = df['Camas'].astype('Int64')"
      ]
    },
    {
      "cell_type": "code",
      "execution_count": null,
      "metadata": {
        "id": "hJ_KKUGfZTQ8"
      },
      "outputs": [],
      "source": [
        "#4. Limpiamos la columna \"Valoración\" y convertimos a \"float\"\n",
        "df['Valoración'] = df['Valoración'].replace('Sin valoraciones', np.nan).replace('Sin evaluaciones', np.nan).replace('Nuevo', np.nan)\n",
        "\n",
        "df['Valoración'] = df['Valoración'].str.replace(',', '.').astype(float)"
      ]
    },
    {
      "cell_type": "code",
      "execution_count": null,
      "metadata": {
        "id": "PmRw-E__ZTQ8"
      },
      "outputs": [],
      "source": [
        "#5. Convertimos la columna \"Numero valoraciones\" a \"integer\"\n",
        "def extract_number(value):\n",
        "    try:\n",
        "        return int(value.split()[0])\n",
        "    except (ValueError, AttributeError):\n",
        "        return np.nan\n",
        "\n",
        "#Aplicar la función y convertir a numero entero\n",
        "df['Numero valoraciones'] = df['Numero valoraciones'].apply(extract_number).astype('Int64')"
      ]
    },
    {
      "cell_type": "code",
      "execution_count": null,
      "metadata": {
        "id": "IRyGpVAOZTQ8"
      },
      "outputs": [],
      "source": [
        "#6. Limpiamos la columna \"Viajeros máximos\" y convertimos a numero entero o nulos\n",
        "def extract_number(value):\n",
        "    try:\n",
        "        return int(value.split()[0])\n",
        "    except (ValueError, AttributeError):\n",
        "        return np.nan\n",
        "\n",
        "#Aplicar la función y convertir a numero entero\n",
        "df['Viajeros máximos'] = df['Viajeros máximos'].apply(extract_number).astype('Int64')"
      ]
    },
    {
      "cell_type": "markdown",
      "metadata": {
        "id": "nPm6reo5ZTQ8"
      },
      "source": [
        "# Añadir columnas a nuestro interés"
      ]
    },
    {
      "cell_type": "code",
      "execution_count": null,
      "metadata": {
        "id": "6ohp8VKUZTQ8"
      },
      "outputs": [],
      "source": [
        "#Añadimos una nueva columna con la tipología\n",
        "df['Tipología'] = df['Tipo de habitación'].str.split().str[:1]"
      ]
    },
    {
      "cell_type": "code",
      "execution_count": null,
      "metadata": {
        "id": "uF-v3-7IZTQ8"
      },
      "outputs": [],
      "source": [
        "df.head(5)"
      ]
    },
    {
      "cell_type": "code",
      "execution_count": null,
      "metadata": {
        "id": "CCZDBDnOZTQ9"
      },
      "outputs": [],
      "source": [
        "# Añadimos columna de Precio medio (aug-oct) y excluimos los NaN\n",
        "df['Precio Medio'] = df[['Precio por noche Agosto', 'Precio por noche Octubre']].mean(axis=1)\n",
        "df['Precio Medio'] = df['Precio Medio'].round().astype('Int64')"
      ]
    },
    {
      "cell_type": "code",
      "execution_count": null,
      "metadata": {
        "id": "NlYU2p9BZTQ9"
      },
      "outputs": [],
      "source": [
        "#Añadir una nueva columna \"Título\"\n",
        "df['Título'] = df['Tipo de habitación'].str.split(':| en ', n=1).str[0]\n",
        "\n",
        "#Eliminar espacios en blanco al principio y al final de los valores\n",
        "df['Título'] = df['Título'].str.strip()"
      ]
    },
    {
      "cell_type": "code",
      "execution_count": null,
      "metadata": {
        "id": "v38ptiGQZTQ9"
      },
      "outputs": [],
      "source": [
        "#Añadir una nueva columna \"Municipio\"\n",
        "df['Municipio'] = df['Tipo de habitación'].str.split(',').str[-2].str.strip()"
      ]
    },
    {
      "cell_type": "code",
      "execution_count": null,
      "metadata": {
        "id": "E5Zw3pfPZTQ9"
      },
      "outputs": [],
      "source": [
        "df['Municipio'] = df['Municipio'].str.split(' en ', n=1).str[-1]"
      ]
    },
    {
      "cell_type": "code",
      "execution_count": null,
      "metadata": {
        "id": "TTDybQIaZTQ9"
      },
      "outputs": [],
      "source": [
        "#Seguimos limpiando hasta encontrar más \"en\"\n",
        "df['Municipio'] = df['Municipio'].str.split(' en ', n=1).str[-1]"
      ]
    },
    {
      "cell_type": "code",
      "execution_count": null,
      "metadata": {
        "id": "RLe6S2IcZTQ9"
      },
      "outputs": [],
      "source": [
        "#Limpiamos los \"·\"s\n",
        "df['Municipio'] = df['Municipio'].replace('·','')"
      ]
    },
    {
      "cell_type": "code",
      "execution_count": null,
      "metadata": {
        "id": "T0byuotWZTQ9"
      },
      "outputs": [],
      "source": [
        "print(df['Municipio'].head(15))"
      ]
    },
    {
      "cell_type": "code",
      "execution_count": null,
      "metadata": {
        "id": "gk55yflcZTQ9"
      },
      "outputs": [],
      "source": [
        "municipios_unicos = df['Municipio'].unique()\n",
        "municipios_unicos"
      ]
    },
    {
      "cell_type": "code",
      "execution_count": null,
      "metadata": {
        "id": "xEJXq-ljZTQ9"
      },
      "outputs": [],
      "source": [
        "#Movemos las columnas para mejor visualización\n",
        "df = df[['ID', 'Tipo de habitación', 'Título', 'Tipología', 'Ciudad', 'Municipio', 'GPS', 'Precio por noche Agosto', 'Precio por noche Octubre', 'Precio Medio', 'Valoración', 'Numero valoraciones', 'Dormitorios', 'Baños', 'Camas', 'Viajeros máximos', 'Amenities']]"
      ]
    },
    {
      "cell_type": "code",
      "execution_count": null,
      "metadata": {
        "id": "VR7vpTmgZTQ9"
      },
      "outputs": [],
      "source": [
        "#Rellenamos los ID´s con zeros delante para tenerlos igualmente largos.\n",
        "df['ID'] = df['ID'].astype(str).str.zfill(18)"
      ]
    },
    {
      "cell_type": "code",
      "execution_count": null,
      "metadata": {
        "id": "EN8YxWjUZTQ-"
      },
      "outputs": [],
      "source": [
        "df.columns"
      ]
    },
    {
      "cell_type": "code",
      "execution_count": null,
      "metadata": {
        "id": "nuE9pyovZTQ-",
        "outputId": "cf5662fd-a645-4f64-91eb-007cfce06316"
      },
      "outputs": [
        {
          "data": {
            "text/html": [
              "<div>\n",
              "<style scoped>\n",
              "    .dataframe tbody tr th:only-of-type {\n",
              "        vertical-align: middle;\n",
              "    }\n",
              "\n",
              "    .dataframe tbody tr th {\n",
              "        vertical-align: top;\n",
              "    }\n",
              "\n",
              "    .dataframe thead th {\n",
              "        text-align: right;\n",
              "    }\n",
              "</style>\n",
              "<table border=\"1\" class=\"dataframe\">\n",
              "  <thead>\n",
              "    <tr style=\"text-align: right;\">\n",
              "      <th></th>\n",
              "      <th>ID</th>\n",
              "      <th>Tipo de habitación</th>\n",
              "      <th>Título</th>\n",
              "      <th>Tipología</th>\n",
              "      <th>Ciudad</th>\n",
              "      <th>Municipio</th>\n",
              "      <th>GPS</th>\n",
              "      <th>Precio por noche Agosto</th>\n",
              "      <th>Precio por noche Octubre</th>\n",
              "      <th>Precio Medio</th>\n",
              "      <th>Valoración</th>\n",
              "      <th>Numero valoraciones</th>\n",
              "      <th>Dormitorios</th>\n",
              "      <th>Baños</th>\n",
              "      <th>Camas</th>\n",
              "      <th>Viajeros máximos</th>\n",
              "      <th>Amenities</th>\n",
              "    </tr>\n",
              "  </thead>\n",
              "  <tbody>\n",
              "    <tr>\n",
              "      <th>0</th>\n",
              "      <td>000000000000178456</td>\n",
              "      <td>Alojamiento entero: piso en Alcúdia, España</td>\n",
              "      <td>Alojamiento entero</td>\n",
              "      <td>[Alojamiento]</td>\n",
              "      <td>Mallorca</td>\n",
              "      <td>Alcúdia</td>\n",
              "      <td>39.82338,3.11353</td>\n",
              "      <td>&lt;NA&gt;</td>\n",
              "      <td>&lt;NA&gt;</td>\n",
              "      <td>&lt;NA&gt;</td>\n",
              "      <td>4.44</td>\n",
              "      <td>62</td>\n",
              "      <td>2</td>\n",
              "      <td>1</td>\n",
              "      <td>2</td>\n",
              "      <td>4</td>\n",
              "      <td>['Vistas al canal', 'Vistas al lago', 'Secador...</td>\n",
              "    </tr>\n",
              "    <tr>\n",
              "      <th>1</th>\n",
              "      <td>000000000000238799</td>\n",
              "      <td>Alojamiento entero: piso en Palma de Mallorca,...</td>\n",
              "      <td>Alojamiento entero</td>\n",
              "      <td>[Alojamiento]</td>\n",
              "      <td>Mallorca</td>\n",
              "      <td>Palma de Mallorca</td>\n",
              "      <td>39.56466,2.66164</td>\n",
              "      <td>&lt;NA&gt;</td>\n",
              "      <td>&lt;NA&gt;</td>\n",
              "      <td>&lt;NA&gt;</td>\n",
              "      <td>4.63</td>\n",
              "      <td>111</td>\n",
              "      <td>1</td>\n",
              "      <td>1</td>\n",
              "      <td>1</td>\n",
              "      <td>2</td>\n",
              "      <td>['Vistas a la playa', 'Vistas al perfil urbano...</td>\n",
              "    </tr>\n",
              "    <tr>\n",
              "      <th>2</th>\n",
              "      <td>000000000000291211</td>\n",
              "      <td>Alojamiento entero: adosado en Balearic Island...</td>\n",
              "      <td>Alojamiento entero</td>\n",
              "      <td>[Alojamiento]</td>\n",
              "      <td>Mallorca</td>\n",
              "      <td>Balearic Islands</td>\n",
              "      <td>39.76381,3.15481</td>\n",
              "      <td>&lt;NA&gt;</td>\n",
              "      <td>153</td>\n",
              "      <td>153</td>\n",
              "      <td>4.77</td>\n",
              "      <td>81</td>\n",
              "      <td>3</td>\n",
              "      <td>1</td>\n",
              "      <td>5</td>\n",
              "      <td>6</td>\n",
              "      <td>['Vistas al perfil urbano', 'Bañera', 'Secador...</td>\n",
              "    </tr>\n",
              "  </tbody>\n",
              "</table>\n",
              "</div>"
            ],
            "text/plain": [
              "                   ID                                 Tipo de habitación  \\\n",
              "0  000000000000178456        Alojamiento entero: piso en Alcúdia, España   \n",
              "1  000000000000238799  Alojamiento entero: piso en Palma de Mallorca,...   \n",
              "2  000000000000291211  Alojamiento entero: adosado en Balearic Island...   \n",
              "\n",
              "               Título      Tipología    Ciudad          Municipio  \\\n",
              "0  Alojamiento entero  [Alojamiento]  Mallorca            Alcúdia   \n",
              "1  Alojamiento entero  [Alojamiento]  Mallorca  Palma de Mallorca   \n",
              "2  Alojamiento entero  [Alojamiento]  Mallorca   Balearic Islands   \n",
              "\n",
              "                GPS  Precio por noche Agosto  Precio por noche Octubre  \\\n",
              "0  39.82338,3.11353                     <NA>                      <NA>   \n",
              "1  39.56466,2.66164                     <NA>                      <NA>   \n",
              "2  39.76381,3.15481                     <NA>                       153   \n",
              "\n",
              "   Precio Medio  Valoración  Numero valoraciones  Dormitorios  Baños  Camas  \\\n",
              "0          <NA>        4.44                   62            2      1      2   \n",
              "1          <NA>        4.63                  111            1      1      1   \n",
              "2           153        4.77                   81            3      1      5   \n",
              "\n",
              "   Viajeros máximos                                          Amenities  \n",
              "0                 4  ['Vistas al canal', 'Vistas al lago', 'Secador...  \n",
              "1                 2  ['Vistas a la playa', 'Vistas al perfil urbano...  \n",
              "2                 6  ['Vistas al perfil urbano', 'Bañera', 'Secador...  "
            ]
          },
          "execution_count": 183,
          "metadata": {},
          "output_type": "execute_result"
        }
      ],
      "source": [
        "df.head(3)"
      ]
    },
    {
      "cell_type": "markdown",
      "metadata": {
        "id": "PJg7G3YDZTQ-"
      },
      "source": [
        "# Guardar en un CSV"
      ]
    },
    {
      "cell_type": "code",
      "execution_count": null,
      "metadata": {
        "id": "72mtRiX2ZTQ-"
      },
      "outputs": [],
      "source": [
        "df.to_csv(\"airbnb_pmi_limpio.csv\", index=False)"
      ]
    },
    {
      "cell_type": "markdown",
      "metadata": {
        "id": "B9zGnVjcZTQ-"
      },
      "source": [
        "# Cargar CSV"
      ]
    },
    {
      "cell_type": "code",
      "execution_count": null,
      "metadata": {
        "id": "D-cGLc0GZTQ-"
      },
      "outputs": [],
      "source": [
        "df = pd.read_csv(\"C:\\\\Users\\\\Usuario\\\\OneDrive\\\\Documentos\\\\Master Data Analytics\\\\Proyecto Júpiter\\\\Datasets\\\\airbnb_pmi_limpio.csv\")"
      ]
    },
    {
      "cell_type": "code",
      "execution_count": null,
      "metadata": {
        "id": "W7AL_AJAZTQ-"
      },
      "outputs": [],
      "source": [
        "df.dtypes #pandas automaticamente cambia el tipo cuando haya nulos\n",
        "          #independiendo si ya lo hubieramos tenido bien los datos"
      ]
    },
    {
      "cell_type": "code",
      "execution_count": null,
      "metadata": {
        "id": "WIH6zAx4ZTQ-"
      },
      "outputs": [],
      "source": [
        "#Volver a cmabiar los tipos a INT\n",
        "columns_to_convert = ['Precio por noche Agosto', 'Precio por noche Octubre',\n",
        "                      'Precio Medio', 'Numero valoraciones', 'Dormitorios',\n",
        "                      'Baños', 'Camas', 'Viajeros máximos']\n",
        "\n",
        "df[columns_to_convert] = df[columns_to_convert].astype('Int64')"
      ]
    },
    {
      "cell_type": "code",
      "execution_count": null,
      "metadata": {
        "id": "LD_nrrXSZTQ-"
      },
      "outputs": [],
      "source": [
        "df.dtypes"
      ]
    },
    {
      "cell_type": "markdown",
      "metadata": {
        "id": "R8IjDe5DZTQ-"
      },
      "source": [
        "# Limpieza de datos 2"
      ]
    },
    {
      "cell_type": "code",
      "execution_count": null,
      "metadata": {
        "id": "k1LEqW4vZTQ_"
      },
      "outputs": [],
      "source": [
        "df.head(3)"
      ]
    },
    {
      "cell_type": "code",
      "execution_count": null,
      "metadata": {
        "id": "T2M4G39xZTQ_"
      },
      "outputs": [],
      "source": [
        "#Limpiar la columna 'Tipología'\n",
        "import ast\n",
        "\n",
        "df['Tipología'] = df['Tipología'].apply(lambda x: ast.literal_eval(x)[0] if isinstance(x, str) else x)\n"
      ]
    },
    {
      "cell_type": "code",
      "execution_count": null,
      "metadata": {
        "id": "lk21AK3KZTQ_"
      },
      "outputs": [],
      "source": [
        "#Cambiamos el nombre de la columna GPS a Localización\n",
        "df.rename(columns={'GPS': 'Localización'}, inplace=True)"
      ]
    },
    {
      "cell_type": "markdown",
      "metadata": {
        "id": "MhtPI96tZTQ_"
      },
      "source": [
        "# Crear DF2 para los amenities"
      ]
    },
    {
      "cell_type": "code",
      "execution_count": null,
      "metadata": {
        "id": "_jLX9kqDZTQ_"
      },
      "outputs": [],
      "source": [
        "df2 = df[['ID', 'Amenities']].copy()"
      ]
    },
    {
      "cell_type": "code",
      "execution_count": null,
      "metadata": {
        "id": "eH7O0uV9ZTQ_"
      },
      "outputs": [],
      "source": [
        "#Eliminar la columna \"Amenities\" del df original\n",
        "df.drop(columns=['Amenities'], inplace=True)"
      ]
    },
    {
      "cell_type": "code",
      "execution_count": null,
      "metadata": {
        "id": "n0WRzbi0ZTQ_"
      },
      "outputs": [],
      "source": [
        "df.head(2)"
      ]
    },
    {
      "cell_type": "code",
      "execution_count": null,
      "metadata": {
        "id": "xe543VgkZTQ_"
      },
      "outputs": [],
      "source": [
        "#Cambiamos el nombre de la columna de \"Título\" a \"Tipo de habiatción\"\n",
        "df.rename(columns={'Título': 'Tipo de Alojamiento'}, inplace=True)"
      ]
    },
    {
      "cell_type": "markdown",
      "metadata": {
        "id": "G2N1MQJ7ZTQ_"
      },
      "source": [
        "# Guardar CSV 2"
      ]
    },
    {
      "cell_type": "code",
      "execution_count": null,
      "metadata": {
        "id": "g_qhSDCRZTRA"
      },
      "outputs": [],
      "source": [
        "df.to_csv(\"airbnb_pmi_limpio2.csv\", index=False)\n",
        "\n",
        "df2.to_csv(\"airbnb_pmi_amenities.csv\", index=False)"
      ]
    },
    {
      "cell_type": "code",
      "execution_count": null,
      "metadata": {
        "id": "Bt1AJNtBZTRA"
      },
      "outputs": [],
      "source": [
        "df.head(2)"
      ]
    },
    {
      "cell_type": "code",
      "execution_count": null,
      "metadata": {
        "id": "qqu2JrfjZTRA"
      },
      "outputs": [],
      "source": [
        "df2.head(2)"
      ]
    },
    {
      "cell_type": "markdown",
      "metadata": {
        "id": "x8HhdgCxmf5p"
      },
      "source": [
        "# Limpieza de datos 3\n",
        "*Seguimos con la limpieza ya que encontramos algunas anomalias más - nos enfocamos a los valores NaN.*"
      ]
    },
    {
      "cell_type": "code",
      "execution_count": 2,
      "metadata": {
        "id": "_j_I-DqBZifa"
      },
      "outputs": [],
      "source": [
        "df0 = pd.read_csv(\"C:\\\\Users\\\\Usuario\\\\OneDrive\\\\Documentos\\\\Master Data Analytics\\\\Proyecto Júpiter\\\\Datasets\\\\PMI\\\\airbnb_pmi_limpio2.csv\")"
      ]
    },
    {
      "cell_type": "code",
      "execution_count": 7,
      "metadata": {
        "id": "Iw0OeH3NZ6u8"
      },
      "outputs": [
        {
          "data": {
            "text/html": [
              "<div>\n",
              "<style scoped>\n",
              "    .dataframe tbody tr th:only-of-type {\n",
              "        vertical-align: middle;\n",
              "    }\n",
              "\n",
              "    .dataframe tbody tr th {\n",
              "        vertical-align: top;\n",
              "    }\n",
              "\n",
              "    .dataframe thead th {\n",
              "        text-align: right;\n",
              "    }\n",
              "</style>\n",
              "<table border=\"1\" class=\"dataframe\">\n",
              "  <thead>\n",
              "    <tr style=\"text-align: right;\">\n",
              "      <th></th>\n",
              "      <th>ID</th>\n",
              "      <th>Tipo de habitación</th>\n",
              "      <th>Título</th>\n",
              "      <th>Tipología</th>\n",
              "      <th>Ciudad</th>\n",
              "      <th>Municipio</th>\n",
              "      <th>Localización</th>\n",
              "      <th>Precio por noche Agosto</th>\n",
              "      <th>Precio por noche Octubre</th>\n",
              "      <th>Precio Medio</th>\n",
              "      <th>Valoración</th>\n",
              "      <th>Numero valoraciones</th>\n",
              "      <th>Dormitorios</th>\n",
              "      <th>Baños</th>\n",
              "      <th>Camas</th>\n",
              "      <th>Viajeros máximos</th>\n",
              "    </tr>\n",
              "  </thead>\n",
              "  <tbody>\n",
              "    <tr>\n",
              "      <th>0</th>\n",
              "      <td>178456</td>\n",
              "      <td>Alojamiento entero: piso en Alcúdia, España</td>\n",
              "      <td>Alojamiento entero</td>\n",
              "      <td>Alojamiento</td>\n",
              "      <td>Mallorca</td>\n",
              "      <td>Alcúdia</td>\n",
              "      <td>39.82338,3.11353</td>\n",
              "      <td>NaN</td>\n",
              "      <td>NaN</td>\n",
              "      <td>NaN</td>\n",
              "      <td>4.44</td>\n",
              "      <td>62.0</td>\n",
              "      <td>2.0</td>\n",
              "      <td>1.0</td>\n",
              "      <td>2.0</td>\n",
              "      <td>4.0</td>\n",
              "    </tr>\n",
              "    <tr>\n",
              "      <th>1</th>\n",
              "      <td>238799</td>\n",
              "      <td>Alojamiento entero: piso en Palma de Mallorca,...</td>\n",
              "      <td>Alojamiento entero</td>\n",
              "      <td>Alojamiento</td>\n",
              "      <td>Mallorca</td>\n",
              "      <td>Palma de Mallorca</td>\n",
              "      <td>39.56466,2.66164</td>\n",
              "      <td>NaN</td>\n",
              "      <td>NaN</td>\n",
              "      <td>NaN</td>\n",
              "      <td>4.63</td>\n",
              "      <td>111.0</td>\n",
              "      <td>1.0</td>\n",
              "      <td>1.0</td>\n",
              "      <td>1.0</td>\n",
              "      <td>2.0</td>\n",
              "    </tr>\n",
              "  </tbody>\n",
              "</table>\n",
              "</div>"
            ],
            "text/plain": [
              "       ID                                 Tipo de habitación  \\\n",
              "0  178456        Alojamiento entero: piso en Alcúdia, España   \n",
              "1  238799  Alojamiento entero: piso en Palma de Mallorca,...   \n",
              "\n",
              "               Título    Tipología    Ciudad          Municipio  \\\n",
              "0  Alojamiento entero  Alojamiento  Mallorca            Alcúdia   \n",
              "1  Alojamiento entero  Alojamiento  Mallorca  Palma de Mallorca   \n",
              "\n",
              "       Localización  Precio por noche Agosto  Precio por noche Octubre  \\\n",
              "0  39.82338,3.11353                      NaN                       NaN   \n",
              "1  39.56466,2.66164                      NaN                       NaN   \n",
              "\n",
              "   Precio Medio  Valoración  Numero valoraciones  Dormitorios  Baños  Camas  \\\n",
              "0           NaN        4.44                 62.0          2.0    1.0    2.0   \n",
              "1           NaN        4.63                111.0          1.0    1.0    1.0   \n",
              "\n",
              "   Viajeros máximos  \n",
              "0               4.0  \n",
              "1               2.0  "
            ]
          },
          "execution_count": 7,
          "metadata": {},
          "output_type": "execute_result"
        }
      ],
      "source": [
        "df0.head(2)"
      ]
    },
    {
      "cell_type": "code",
      "execution_count": 4,
      "metadata": {
        "id": "DOBmoVxivuIf"
      },
      "outputs": [
        {
          "data": {
            "text/plain": [
              "2829"
            ]
          },
          "execution_count": 4,
          "metadata": {},
          "output_type": "execute_result"
        }
      ],
      "source": [
        "#Número de filas\n",
        "df0['ID'].count()"
      ]
    },
    {
      "cell_type": "code",
      "execution_count": 8,
      "metadata": {
        "colab": {
          "base_uri": "https://localhost:8080/"
        },
        "id": "MYaKg_cZs0sk",
        "outputId": "6f43baee-cb72-461c-b032-35825381c592"
      },
      "outputs": [
        {
          "name": "stdout",
          "output_type": "stream",
          "text": [
            "Cantidad de NaN en la columna -Tipo de habitación-: 213\n"
          ]
        }
      ],
      "source": [
        "#Contar las filas con valores NaN en la columna \"Tipo de Alojamiento\"\n",
        "tipo_alojamiento_nan = df0[df0['Tipo de habitación'].isna()].shape[0]\n",
        "print(\"Cantidad de NaN en la columna -Tipo de habitación-:\", tipo_alojamiento_nan)"
      ]
    },
    {
      "cell_type": "code",
      "execution_count": 9,
      "metadata": {
        "id": "mXCWjxses19C"
      },
      "outputs": [
        {
          "data": {
            "text/html": [
              "<div>\n",
              "<style scoped>\n",
              "    .dataframe tbody tr th:only-of-type {\n",
              "        vertical-align: middle;\n",
              "    }\n",
              "\n",
              "    .dataframe tbody tr th {\n",
              "        vertical-align: top;\n",
              "    }\n",
              "\n",
              "    .dataframe thead th {\n",
              "        text-align: right;\n",
              "    }\n",
              "</style>\n",
              "<table border=\"1\" class=\"dataframe\">\n",
              "  <thead>\n",
              "    <tr style=\"text-align: right;\">\n",
              "      <th></th>\n",
              "      <th>ID</th>\n",
              "      <th>Tipo de habitación</th>\n",
              "      <th>Título</th>\n",
              "      <th>Tipología</th>\n",
              "      <th>Ciudad</th>\n",
              "      <th>Municipio</th>\n",
              "      <th>Localización</th>\n",
              "      <th>Precio por noche Agosto</th>\n",
              "      <th>Precio por noche Octubre</th>\n",
              "      <th>Precio Medio</th>\n",
              "      <th>Valoración</th>\n",
              "      <th>Numero valoraciones</th>\n",
              "      <th>Dormitorios</th>\n",
              "      <th>Baños</th>\n",
              "      <th>Camas</th>\n",
              "      <th>Viajeros máximos</th>\n",
              "    </tr>\n",
              "  </thead>\n",
              "  <tbody>\n",
              "    <tr>\n",
              "      <th>6</th>\n",
              "      <td>441953</td>\n",
              "      <td>NaN</td>\n",
              "      <td>NaN</td>\n",
              "      <td>NaN</td>\n",
              "      <td>Mallorca</td>\n",
              "      <td>NaN</td>\n",
              "      <td>39.5755,2.63928</td>\n",
              "      <td>399.0</td>\n",
              "      <td>200.0</td>\n",
              "      <td>300.0</td>\n",
              "      <td>NaN</td>\n",
              "      <td>NaN</td>\n",
              "      <td>NaN</td>\n",
              "      <td>NaN</td>\n",
              "      <td>NaN</td>\n",
              "      <td>NaN</td>\n",
              "    </tr>\n",
              "    <tr>\n",
              "      <th>9</th>\n",
              "      <td>503803</td>\n",
              "      <td>NaN</td>\n",
              "      <td>NaN</td>\n",
              "      <td>NaN</td>\n",
              "      <td>Mallorca</td>\n",
              "      <td>NaN</td>\n",
              "      <td>NaN</td>\n",
              "      <td>NaN</td>\n",
              "      <td>200.0</td>\n",
              "      <td>200.0</td>\n",
              "      <td>NaN</td>\n",
              "      <td>NaN</td>\n",
              "      <td>NaN</td>\n",
              "      <td>NaN</td>\n",
              "      <td>NaN</td>\n",
              "      <td>NaN</td>\n",
              "    </tr>\n",
              "    <tr>\n",
              "      <th>20</th>\n",
              "      <td>938566</td>\n",
              "      <td>NaN</td>\n",
              "      <td>NaN</td>\n",
              "      <td>NaN</td>\n",
              "      <td>Mallorca</td>\n",
              "      <td>NaN</td>\n",
              "      <td>NaN</td>\n",
              "      <td>NaN</td>\n",
              "      <td>200.0</td>\n",
              "      <td>200.0</td>\n",
              "      <td>NaN</td>\n",
              "      <td>NaN</td>\n",
              "      <td>NaN</td>\n",
              "      <td>NaN</td>\n",
              "      <td>NaN</td>\n",
              "      <td>NaN</td>\n",
              "    </tr>\n",
              "    <tr>\n",
              "      <th>24</th>\n",
              "      <td>1040457</td>\n",
              "      <td>NaN</td>\n",
              "      <td>NaN</td>\n",
              "      <td>NaN</td>\n",
              "      <td>Mallorca</td>\n",
              "      <td>NaN</td>\n",
              "      <td>39.89435,3.07344</td>\n",
              "      <td>NaN</td>\n",
              "      <td>NaN</td>\n",
              "      <td>NaN</td>\n",
              "      <td>NaN</td>\n",
              "      <td>NaN</td>\n",
              "      <td>NaN</td>\n",
              "      <td>NaN</td>\n",
              "      <td>NaN</td>\n",
              "      <td>NaN</td>\n",
              "    </tr>\n",
              "    <tr>\n",
              "      <th>36</th>\n",
              "      <td>1391841</td>\n",
              "      <td>NaN</td>\n",
              "      <td>NaN</td>\n",
              "      <td>NaN</td>\n",
              "      <td>Mallorca</td>\n",
              "      <td>NaN</td>\n",
              "      <td>39.57628,2.6418</td>\n",
              "      <td>NaN</td>\n",
              "      <td>NaN</td>\n",
              "      <td>NaN</td>\n",
              "      <td>NaN</td>\n",
              "      <td>NaN</td>\n",
              "      <td>NaN</td>\n",
              "      <td>NaN</td>\n",
              "      <td>NaN</td>\n",
              "      <td>NaN</td>\n",
              "    </tr>\n",
              "    <tr>\n",
              "      <th>43</th>\n",
              "      <td>1681937</td>\n",
              "      <td>NaN</td>\n",
              "      <td>NaN</td>\n",
              "      <td>NaN</td>\n",
              "      <td>Mallorca</td>\n",
              "      <td>NaN</td>\n",
              "      <td>39.5738,2.64301</td>\n",
              "      <td>NaN</td>\n",
              "      <td>NaN</td>\n",
              "      <td>NaN</td>\n",
              "      <td>NaN</td>\n",
              "      <td>NaN</td>\n",
              "      <td>NaN</td>\n",
              "      <td>NaN</td>\n",
              "      <td>NaN</td>\n",
              "      <td>NaN</td>\n",
              "    </tr>\n",
              "    <tr>\n",
              "      <th>47</th>\n",
              "      <td>1803679</td>\n",
              "      <td>NaN</td>\n",
              "      <td>NaN</td>\n",
              "      <td>NaN</td>\n",
              "      <td>Mallorca</td>\n",
              "      <td>NaN</td>\n",
              "      <td>NaN</td>\n",
              "      <td>NaN</td>\n",
              "      <td>NaN</td>\n",
              "      <td>NaN</td>\n",
              "      <td>NaN</td>\n",
              "      <td>NaN</td>\n",
              "      <td>NaN</td>\n",
              "      <td>NaN</td>\n",
              "      <td>NaN</td>\n",
              "      <td>NaN</td>\n",
              "    </tr>\n",
              "    <tr>\n",
              "      <th>62</th>\n",
              "      <td>2313991</td>\n",
              "      <td>NaN</td>\n",
              "      <td>NaN</td>\n",
              "      <td>NaN</td>\n",
              "      <td>Mallorca</td>\n",
              "      <td>NaN</td>\n",
              "      <td>39.5602,2.674</td>\n",
              "      <td>NaN</td>\n",
              "      <td>NaN</td>\n",
              "      <td>NaN</td>\n",
              "      <td>NaN</td>\n",
              "      <td>NaN</td>\n",
              "      <td>NaN</td>\n",
              "      <td>NaN</td>\n",
              "      <td>NaN</td>\n",
              "      <td>NaN</td>\n",
              "    </tr>\n",
              "    <tr>\n",
              "      <th>118</th>\n",
              "      <td>4490544</td>\n",
              "      <td>NaN</td>\n",
              "      <td>NaN</td>\n",
              "      <td>NaN</td>\n",
              "      <td>Mallorca</td>\n",
              "      <td>NaN</td>\n",
              "      <td>39.56913,2.65589</td>\n",
              "      <td>200.0</td>\n",
              "      <td>200.0</td>\n",
              "      <td>200.0</td>\n",
              "      <td>NaN</td>\n",
              "      <td>NaN</td>\n",
              "      <td>NaN</td>\n",
              "      <td>NaN</td>\n",
              "      <td>NaN</td>\n",
              "      <td>NaN</td>\n",
              "    </tr>\n",
              "    <tr>\n",
              "      <th>129</th>\n",
              "      <td>5172774</td>\n",
              "      <td>NaN</td>\n",
              "      <td>NaN</td>\n",
              "      <td>NaN</td>\n",
              "      <td>Mallorca</td>\n",
              "      <td>NaN</td>\n",
              "      <td>NaN</td>\n",
              "      <td>NaN</td>\n",
              "      <td>NaN</td>\n",
              "      <td>NaN</td>\n",
              "      <td>NaN</td>\n",
              "      <td>NaN</td>\n",
              "      <td>NaN</td>\n",
              "      <td>NaN</td>\n",
              "      <td>NaN</td>\n",
              "      <td>NaN</td>\n",
              "    </tr>\n",
              "    <tr>\n",
              "      <th>140</th>\n",
              "      <td>5657279</td>\n",
              "      <td>NaN</td>\n",
              "      <td>NaN</td>\n",
              "      <td>NaN</td>\n",
              "      <td>Mallorca</td>\n",
              "      <td>NaN</td>\n",
              "      <td>39.7564,3.1551</td>\n",
              "      <td>NaN</td>\n",
              "      <td>NaN</td>\n",
              "      <td>NaN</td>\n",
              "      <td>NaN</td>\n",
              "      <td>NaN</td>\n",
              "      <td>NaN</td>\n",
              "      <td>NaN</td>\n",
              "      <td>NaN</td>\n",
              "      <td>NaN</td>\n",
              "    </tr>\n",
              "    <tr>\n",
              "      <th>161</th>\n",
              "      <td>6780620</td>\n",
              "      <td>NaN</td>\n",
              "      <td>NaN</td>\n",
              "      <td>NaN</td>\n",
              "      <td>Mallorca</td>\n",
              "      <td>NaN</td>\n",
              "      <td>39.8411,3.1311</td>\n",
              "      <td>NaN</td>\n",
              "      <td>280.0</td>\n",
              "      <td>280.0</td>\n",
              "      <td>NaN</td>\n",
              "      <td>NaN</td>\n",
              "      <td>NaN</td>\n",
              "      <td>NaN</td>\n",
              "      <td>NaN</td>\n",
              "      <td>NaN</td>\n",
              "    </tr>\n",
              "    <tr>\n",
              "      <th>170</th>\n",
              "      <td>7298619</td>\n",
              "      <td>NaN</td>\n",
              "      <td>NaN</td>\n",
              "      <td>NaN</td>\n",
              "      <td>Mallorca</td>\n",
              "      <td>NaN</td>\n",
              "      <td>39.7645,3.15496</td>\n",
              "      <td>NaN</td>\n",
              "      <td>140.0</td>\n",
              "      <td>140.0</td>\n",
              "      <td>NaN</td>\n",
              "      <td>NaN</td>\n",
              "      <td>NaN</td>\n",
              "      <td>NaN</td>\n",
              "      <td>NaN</td>\n",
              "      <td>NaN</td>\n",
              "    </tr>\n",
              "    <tr>\n",
              "      <th>178</th>\n",
              "      <td>7758344</td>\n",
              "      <td>NaN</td>\n",
              "      <td>NaN</td>\n",
              "      <td>NaN</td>\n",
              "      <td>Mallorca</td>\n",
              "      <td>NaN</td>\n",
              "      <td>39.84193,3.12731</td>\n",
              "      <td>NaN</td>\n",
              "      <td>NaN</td>\n",
              "      <td>NaN</td>\n",
              "      <td>NaN</td>\n",
              "      <td>NaN</td>\n",
              "      <td>NaN</td>\n",
              "      <td>NaN</td>\n",
              "      <td>NaN</td>\n",
              "      <td>NaN</td>\n",
              "    </tr>\n",
              "    <tr>\n",
              "      <th>183</th>\n",
              "      <td>7924729</td>\n",
              "      <td>NaN</td>\n",
              "      <td>NaN</td>\n",
              "      <td>NaN</td>\n",
              "      <td>Mallorca</td>\n",
              "      <td>NaN</td>\n",
              "      <td>39.6026,3.368</td>\n",
              "      <td>NaN</td>\n",
              "      <td>NaN</td>\n",
              "      <td>NaN</td>\n",
              "      <td>NaN</td>\n",
              "      <td>NaN</td>\n",
              "      <td>NaN</td>\n",
              "      <td>NaN</td>\n",
              "      <td>NaN</td>\n",
              "      <td>NaN</td>\n",
              "    </tr>\n",
              "    <tr>\n",
              "      <th>216</th>\n",
              "      <td>10899271</td>\n",
              "      <td>NaN</td>\n",
              "      <td>NaN</td>\n",
              "      <td>NaN</td>\n",
              "      <td>Mallorca</td>\n",
              "      <td>NaN</td>\n",
              "      <td>NaN</td>\n",
              "      <td>105.0</td>\n",
              "      <td>105.0</td>\n",
              "      <td>105.0</td>\n",
              "      <td>NaN</td>\n",
              "      <td>NaN</td>\n",
              "      <td>NaN</td>\n",
              "      <td>NaN</td>\n",
              "      <td>NaN</td>\n",
              "      <td>NaN</td>\n",
              "    </tr>\n",
              "    <tr>\n",
              "      <th>233</th>\n",
              "      <td>11787228</td>\n",
              "      <td>NaN</td>\n",
              "      <td>NaN</td>\n",
              "      <td>NaN</td>\n",
              "      <td>Mallorca</td>\n",
              "      <td>NaN</td>\n",
              "      <td>39.4838,2.7366</td>\n",
              "      <td>NaN</td>\n",
              "      <td>NaN</td>\n",
              "      <td>NaN</td>\n",
              "      <td>NaN</td>\n",
              "      <td>NaN</td>\n",
              "      <td>NaN</td>\n",
              "      <td>NaN</td>\n",
              "      <td>NaN</td>\n",
              "      <td>NaN</td>\n",
              "    </tr>\n",
              "    <tr>\n",
              "      <th>246</th>\n",
              "      <td>12217331</td>\n",
              "      <td>NaN</td>\n",
              "      <td>NaN</td>\n",
              "      <td>NaN</td>\n",
              "      <td>Mallorca</td>\n",
              "      <td>NaN</td>\n",
              "      <td>39.71085,2.62445</td>\n",
              "      <td>NaN</td>\n",
              "      <td>NaN</td>\n",
              "      <td>NaN</td>\n",
              "      <td>NaN</td>\n",
              "      <td>NaN</td>\n",
              "      <td>6.0</td>\n",
              "      <td>4.0</td>\n",
              "      <td>8.0</td>\n",
              "      <td>2.0</td>\n",
              "    </tr>\n",
              "    <tr>\n",
              "      <th>248</th>\n",
              "      <td>12252898</td>\n",
              "      <td>NaN</td>\n",
              "      <td>NaN</td>\n",
              "      <td>NaN</td>\n",
              "      <td>Mallorca</td>\n",
              "      <td>NaN</td>\n",
              "      <td>39.82821,3.10496</td>\n",
              "      <td>NaN</td>\n",
              "      <td>100.0</td>\n",
              "      <td>100.0</td>\n",
              "      <td>NaN</td>\n",
              "      <td>NaN</td>\n",
              "      <td>NaN</td>\n",
              "      <td>NaN</td>\n",
              "      <td>NaN</td>\n",
              "      <td>NaN</td>\n",
              "    </tr>\n",
              "    <tr>\n",
              "      <th>255</th>\n",
              "      <td>12493265</td>\n",
              "      <td>NaN</td>\n",
              "      <td>NaN</td>\n",
              "      <td>NaN</td>\n",
              "      <td>Mallorca</td>\n",
              "      <td>NaN</td>\n",
              "      <td>NaN</td>\n",
              "      <td>576.0</td>\n",
              "      <td>435.0</td>\n",
              "      <td>506.0</td>\n",
              "      <td>NaN</td>\n",
              "      <td>NaN</td>\n",
              "      <td>NaN</td>\n",
              "      <td>NaN</td>\n",
              "      <td>NaN</td>\n",
              "      <td>NaN</td>\n",
              "    </tr>\n",
              "  </tbody>\n",
              "</table>\n",
              "</div>"
            ],
            "text/plain": [
              "           ID Tipo de habitación Título Tipología    Ciudad Municipio  \\\n",
              "6      441953                NaN    NaN       NaN  Mallorca       NaN   \n",
              "9      503803                NaN    NaN       NaN  Mallorca       NaN   \n",
              "20     938566                NaN    NaN       NaN  Mallorca       NaN   \n",
              "24    1040457                NaN    NaN       NaN  Mallorca       NaN   \n",
              "36    1391841                NaN    NaN       NaN  Mallorca       NaN   \n",
              "43    1681937                NaN    NaN       NaN  Mallorca       NaN   \n",
              "47    1803679                NaN    NaN       NaN  Mallorca       NaN   \n",
              "62    2313991                NaN    NaN       NaN  Mallorca       NaN   \n",
              "118   4490544                NaN    NaN       NaN  Mallorca       NaN   \n",
              "129   5172774                NaN    NaN       NaN  Mallorca       NaN   \n",
              "140   5657279                NaN    NaN       NaN  Mallorca       NaN   \n",
              "161   6780620                NaN    NaN       NaN  Mallorca       NaN   \n",
              "170   7298619                NaN    NaN       NaN  Mallorca       NaN   \n",
              "178   7758344                NaN    NaN       NaN  Mallorca       NaN   \n",
              "183   7924729                NaN    NaN       NaN  Mallorca       NaN   \n",
              "216  10899271                NaN    NaN       NaN  Mallorca       NaN   \n",
              "233  11787228                NaN    NaN       NaN  Mallorca       NaN   \n",
              "246  12217331                NaN    NaN       NaN  Mallorca       NaN   \n",
              "248  12252898                NaN    NaN       NaN  Mallorca       NaN   \n",
              "255  12493265                NaN    NaN       NaN  Mallorca       NaN   \n",
              "\n",
              "         Localización  Precio por noche Agosto  Precio por noche Octubre  \\\n",
              "6     39.5755,2.63928                    399.0                     200.0   \n",
              "9                 NaN                      NaN                     200.0   \n",
              "20                NaN                      NaN                     200.0   \n",
              "24   39.89435,3.07344                      NaN                       NaN   \n",
              "36    39.57628,2.6418                      NaN                       NaN   \n",
              "43    39.5738,2.64301                      NaN                       NaN   \n",
              "47                NaN                      NaN                       NaN   \n",
              "62      39.5602,2.674                      NaN                       NaN   \n",
              "118  39.56913,2.65589                    200.0                     200.0   \n",
              "129               NaN                      NaN                       NaN   \n",
              "140    39.7564,3.1551                      NaN                       NaN   \n",
              "161    39.8411,3.1311                      NaN                     280.0   \n",
              "170   39.7645,3.15496                      NaN                     140.0   \n",
              "178  39.84193,3.12731                      NaN                       NaN   \n",
              "183     39.6026,3.368                      NaN                       NaN   \n",
              "216               NaN                    105.0                     105.0   \n",
              "233    39.4838,2.7366                      NaN                       NaN   \n",
              "246  39.71085,2.62445                      NaN                       NaN   \n",
              "248  39.82821,3.10496                      NaN                     100.0   \n",
              "255               NaN                    576.0                     435.0   \n",
              "\n",
              "     Precio Medio  Valoración  Numero valoraciones  Dormitorios  Baños  Camas  \\\n",
              "6           300.0         NaN                  NaN          NaN    NaN    NaN   \n",
              "9           200.0         NaN                  NaN          NaN    NaN    NaN   \n",
              "20          200.0         NaN                  NaN          NaN    NaN    NaN   \n",
              "24            NaN         NaN                  NaN          NaN    NaN    NaN   \n",
              "36            NaN         NaN                  NaN          NaN    NaN    NaN   \n",
              "43            NaN         NaN                  NaN          NaN    NaN    NaN   \n",
              "47            NaN         NaN                  NaN          NaN    NaN    NaN   \n",
              "62            NaN         NaN                  NaN          NaN    NaN    NaN   \n",
              "118         200.0         NaN                  NaN          NaN    NaN    NaN   \n",
              "129           NaN         NaN                  NaN          NaN    NaN    NaN   \n",
              "140           NaN         NaN                  NaN          NaN    NaN    NaN   \n",
              "161         280.0         NaN                  NaN          NaN    NaN    NaN   \n",
              "170         140.0         NaN                  NaN          NaN    NaN    NaN   \n",
              "178           NaN         NaN                  NaN          NaN    NaN    NaN   \n",
              "183           NaN         NaN                  NaN          NaN    NaN    NaN   \n",
              "216         105.0         NaN                  NaN          NaN    NaN    NaN   \n",
              "233           NaN         NaN                  NaN          NaN    NaN    NaN   \n",
              "246           NaN         NaN                  NaN          6.0    4.0    8.0   \n",
              "248         100.0         NaN                  NaN          NaN    NaN    NaN   \n",
              "255         506.0         NaN                  NaN          NaN    NaN    NaN   \n",
              "\n",
              "     Viajeros máximos  \n",
              "6                 NaN  \n",
              "9                 NaN  \n",
              "20                NaN  \n",
              "24                NaN  \n",
              "36                NaN  \n",
              "43                NaN  \n",
              "47                NaN  \n",
              "62                NaN  \n",
              "118               NaN  \n",
              "129               NaN  \n",
              "140               NaN  \n",
              "161               NaN  \n",
              "170               NaN  \n",
              "178               NaN  \n",
              "183               NaN  \n",
              "216               NaN  \n",
              "233               NaN  \n",
              "246               2.0  \n",
              "248               NaN  \n",
              "255               NaN  "
            ]
          },
          "execution_count": 9,
          "metadata": {},
          "output_type": "execute_result"
        }
      ],
      "source": [
        "df0[df0['Tipo de habitación'].isna()].head(20)"
      ]
    },
    {
      "cell_type": "code",
      "execution_count": 10,
      "metadata": {
        "id": "0pGc-cDRue_s"
      },
      "outputs": [],
      "source": [
        "#Decidimos eliminar las filas cuales tienen NaN en la columna \"Tipo de habitación\"\n",
        "df0.dropna(subset=['Tipo de habitación'], inplace=True)"
      ]
    },
    {
      "cell_type": "code",
      "execution_count": 11,
      "metadata": {
        "colab": {
          "base_uri": "https://localhost:8080/"
        },
        "id": "to_lxu98vN7I",
        "outputId": "dc34d882-f3d8-4691-e76d-4c577fe17b4e"
      },
      "outputs": [
        {
          "data": {
            "text/plain": [
              "2616"
            ]
          },
          "execution_count": 11,
          "metadata": {},
          "output_type": "execute_result"
        }
      ],
      "source": [
        "#Número de filas actuales\n",
        "df0['ID'].count()"
      ]
    },
    {
      "cell_type": "code",
      "execution_count": 12,
      "metadata": {
        "id": "0ktwaszGZ8uJ"
      },
      "outputs": [
        {
          "name": "stdout",
          "output_type": "stream",
          "text": [
            "Valores unicos: [ 1.  2.  5. nan  4.  3.  7.  6.  8.  0.]\n",
            "--------------------------\n",
            "Conteo de valores: Baños\n",
            "1.0    999\n",
            "2.0    622\n",
            "NaN    343\n",
            "5.0    275\n",
            "3.0    238\n",
            "4.0     95\n",
            "0.0     20\n",
            "6.0     15\n",
            "7.0      5\n",
            "8.0      4\n",
            "Name: count, dtype: int64\n",
            "--------------------------\n",
            "Conteo de valores 0: 20\n"
          ]
        }
      ],
      "source": [
        "#Conocemos bien los datos de la columna \"Baños\"\n",
        "print(\"Valores unicos:\", df0['Baños'].unique())\n",
        "print(\"--------------------------\")\n",
        "print(\"Conteo de valores:\", df0['Baños'].value_counts(dropna=False))\n",
        "print(\"--------------------------\")\n",
        "print(\"Conteo de valores 0:\",(df0['Baños'] == 0).sum())"
      ]
    },
    {
      "cell_type": "code",
      "execution_count": 13,
      "metadata": {
        "id": "vhRjGST3mauc"
      },
      "outputs": [],
      "source": [
        "#Reemplazamos los valores \"0\" y nan a valor \"1\", ya que no existe ningún alojamiento sin un baño.\n",
        "df0['Baños'] = df0['Baños'].fillna(0).replace(0, 1)"
      ]
    },
    {
      "cell_type": "code",
      "execution_count": 14,
      "metadata": {
        "colab": {
          "base_uri": "https://localhost:8080/"
        },
        "id": "bDJkYYK0xGYM",
        "outputId": "912cd7da-54af-4ee8-bf3e-6016b8bcff20"
      },
      "outputs": [
        {
          "name": "stdout",
          "output_type": "stream",
          "text": [
            "Numero de NaN en la columna - Localización -: 991\n"
          ]
        }
      ],
      "source": [
        "#Conocemos los valores NaN en la columnas de \"Localización\"\n",
        "print(\"Numero de NaN en la columna - Localización -:\", df0[df0['Localización'].isna()].shape[0])"
      ]
    },
    {
      "cell_type": "code",
      "execution_count": 15,
      "metadata": {
        "colab": {
          "base_uri": "https://localhost:8080/"
        },
        "id": "QEU7mec0N8gX",
        "outputId": "24f179c8-8528-449d-bc06-9b9eb6910d1c"
      },
      "outputs": [
        {
          "data": {
            "text/plain": [
              "Index(['ID', 'Tipo de habitación', 'Título', 'Tipología', 'Ciudad',\n",
              "       'Municipio', 'Localización', 'Precio por noche Agosto',\n",
              "       'Precio por noche Octubre', 'Precio Medio', 'Valoración',\n",
              "       'Numero valoraciones', 'Dormitorios', 'Baños', 'Camas',\n",
              "       'Viajeros máximos'],\n",
              "      dtype='object')"
            ]
          },
          "execution_count": 15,
          "metadata": {},
          "output_type": "execute_result"
        }
      ],
      "source": [
        "df0.columns"
      ]
    },
    {
      "cell_type": "markdown",
      "metadata": {
        "id": "MkYqqf3VyZrR"
      },
      "source": [
        "Decidimos dejar los valores NaN en el campo de 'Localización'. Serían demasiadas filas para excluir, lo cual podría perjudicar el análisis."
      ]
    },
    {
      "cell_type": "markdown",
      "metadata": {
        "id": "MffK3mFozD0P"
      },
      "source": [
        "# Guardar CSV 3"
      ]
    },
    {
      "cell_type": "code",
      "execution_count": 16,
      "metadata": {
        "id": "ZTiC4zd6x5v1"
      },
      "outputs": [],
      "source": [
        "df0.to_csv(\"airbnb_pmi_limpio3.csv\", index=False)"
      ]
    },
    {
      "cell_type": "markdown",
      "metadata": {
        "id": "bxcim-qju_h-"
      },
      "source": [
        "# Crear df df y csv final\n",
        "*Para poder juntar todos los datos de Web-scraping en un df único.*"
      ]
    },
    {
      "cell_type": "code",
      "execution_count": 17,
      "metadata": {
        "id": "jE2kklKmvVrG"
      },
      "outputs": [],
      "source": [
        "df_final = df0.copy()"
      ]
    },
    {
      "cell_type": "code",
      "execution_count": 19,
      "metadata": {
        "id": "pCSCz55CwFSa"
      },
      "outputs": [],
      "source": [
        "#Volver a cambiar los tipos a INT\n",
        "columns_to_convert = ['Precio por noche Agosto', 'Precio por noche Octubre',\n",
        "                      'Precio Medio', 'Numero valoraciones', 'Dormitorios',\n",
        "                      'Baños', 'Camas', 'Viajeros máximos']\n",
        "\n",
        "df_final[columns_to_convert] = df_final[columns_to_convert].astype('Int64')"
      ]
    },
    {
      "cell_type": "code",
      "execution_count": 20,
      "metadata": {
        "colab": {
          "base_uri": "https://localhost:8080/"
        },
        "id": "hpMO8rJYv8_h",
        "outputId": "a0c62aca-7b1d-4a58-e088-f3285189c221"
      },
      "outputs": [
        {
          "data": {
            "text/plain": [
              "ID                            int64\n",
              "Tipo de habitación           object\n",
              "Título                       object\n",
              "Tipología                    object\n",
              "Ciudad                       object\n",
              "Municipio                    object\n",
              "Localización                 object\n",
              "Precio por noche Agosto       Int64\n",
              "Precio por noche Octubre      Int64\n",
              "Precio Medio                  Int64\n",
              "Valoración                  float64\n",
              "Numero valoraciones           Int64\n",
              "Dormitorios                   Int64\n",
              "Baños                         Int64\n",
              "Camas                         Int64\n",
              "Viajeros máximos              Int64\n",
              "dtype: object"
            ]
          },
          "execution_count": 20,
          "metadata": {},
          "output_type": "execute_result"
        }
      ],
      "source": [
        "df_final.dtypes"
      ]
    },
    {
      "cell_type": "code",
      "execution_count": 21,
      "metadata": {
        "id": "RlYgP1xUwSOo"
      },
      "outputs": [],
      "source": [
        "#Rellenamos los ID´s con zeros delante para tenerlos igualmente largos.\n",
        "df_final['ID'] = df_final['ID'].astype(str).str.zfill(20)"
      ]
    },
    {
      "cell_type": "code",
      "execution_count": 22,
      "metadata": {
        "colab": {
          "base_uri": "https://localhost:8080/",
          "height": 267
        },
        "id": "DW4c_Kdsvr65",
        "outputId": "289912a4-f266-4b16-8922-094b4f1a161e"
      },
      "outputs": [
        {
          "data": {
            "text/html": [
              "<div>\n",
              "<style scoped>\n",
              "    .dataframe tbody tr th:only-of-type {\n",
              "        vertical-align: middle;\n",
              "    }\n",
              "\n",
              "    .dataframe tbody tr th {\n",
              "        vertical-align: top;\n",
              "    }\n",
              "\n",
              "    .dataframe thead th {\n",
              "        text-align: right;\n",
              "    }\n",
              "</style>\n",
              "<table border=\"1\" class=\"dataframe\">\n",
              "  <thead>\n",
              "    <tr style=\"text-align: right;\">\n",
              "      <th></th>\n",
              "      <th>ID</th>\n",
              "      <th>Tipo de habitación</th>\n",
              "      <th>Título</th>\n",
              "      <th>Tipología</th>\n",
              "      <th>Ciudad</th>\n",
              "      <th>Municipio</th>\n",
              "      <th>Localización</th>\n",
              "      <th>Precio por noche Agosto</th>\n",
              "      <th>Precio por noche Octubre</th>\n",
              "      <th>Precio Medio</th>\n",
              "      <th>Valoración</th>\n",
              "      <th>Numero valoraciones</th>\n",
              "      <th>Dormitorios</th>\n",
              "      <th>Baños</th>\n",
              "      <th>Camas</th>\n",
              "      <th>Viajeros máximos</th>\n",
              "    </tr>\n",
              "  </thead>\n",
              "  <tbody>\n",
              "    <tr>\n",
              "      <th>0</th>\n",
              "      <td>00000000000000178456</td>\n",
              "      <td>Alojamiento entero: piso en Alcúdia, España</td>\n",
              "      <td>Alojamiento entero</td>\n",
              "      <td>Alojamiento</td>\n",
              "      <td>Mallorca</td>\n",
              "      <td>Alcúdia</td>\n",
              "      <td>39.82338,3.11353</td>\n",
              "      <td>&lt;NA&gt;</td>\n",
              "      <td>&lt;NA&gt;</td>\n",
              "      <td>&lt;NA&gt;</td>\n",
              "      <td>4.44</td>\n",
              "      <td>62</td>\n",
              "      <td>2</td>\n",
              "      <td>1</td>\n",
              "      <td>2</td>\n",
              "      <td>4</td>\n",
              "    </tr>\n",
              "    <tr>\n",
              "      <th>1</th>\n",
              "      <td>00000000000000238799</td>\n",
              "      <td>Alojamiento entero: piso en Palma de Mallorca,...</td>\n",
              "      <td>Alojamiento entero</td>\n",
              "      <td>Alojamiento</td>\n",
              "      <td>Mallorca</td>\n",
              "      <td>Palma de Mallorca</td>\n",
              "      <td>39.56466,2.66164</td>\n",
              "      <td>&lt;NA&gt;</td>\n",
              "      <td>&lt;NA&gt;</td>\n",
              "      <td>&lt;NA&gt;</td>\n",
              "      <td>4.63</td>\n",
              "      <td>111</td>\n",
              "      <td>1</td>\n",
              "      <td>1</td>\n",
              "      <td>1</td>\n",
              "      <td>2</td>\n",
              "    </tr>\n",
              "    <tr>\n",
              "      <th>2</th>\n",
              "      <td>00000000000000291211</td>\n",
              "      <td>Alojamiento entero: adosado en Balearic Island...</td>\n",
              "      <td>Alojamiento entero</td>\n",
              "      <td>Alojamiento</td>\n",
              "      <td>Mallorca</td>\n",
              "      <td>Balearic Islands</td>\n",
              "      <td>39.76381,3.15481</td>\n",
              "      <td>&lt;NA&gt;</td>\n",
              "      <td>153</td>\n",
              "      <td>153</td>\n",
              "      <td>4.77</td>\n",
              "      <td>81</td>\n",
              "      <td>3</td>\n",
              "      <td>1</td>\n",
              "      <td>5</td>\n",
              "      <td>6</td>\n",
              "    </tr>\n",
              "  </tbody>\n",
              "</table>\n",
              "</div>"
            ],
            "text/plain": [
              "                     ID                                 Tipo de habitación  \\\n",
              "0  00000000000000178456        Alojamiento entero: piso en Alcúdia, España   \n",
              "1  00000000000000238799  Alojamiento entero: piso en Palma de Mallorca,...   \n",
              "2  00000000000000291211  Alojamiento entero: adosado en Balearic Island...   \n",
              "\n",
              "               Título    Tipología    Ciudad          Municipio  \\\n",
              "0  Alojamiento entero  Alojamiento  Mallorca            Alcúdia   \n",
              "1  Alojamiento entero  Alojamiento  Mallorca  Palma de Mallorca   \n",
              "2  Alojamiento entero  Alojamiento  Mallorca   Balearic Islands   \n",
              "\n",
              "       Localización  Precio por noche Agosto  Precio por noche Octubre  \\\n",
              "0  39.82338,3.11353                     <NA>                      <NA>   \n",
              "1  39.56466,2.66164                     <NA>                      <NA>   \n",
              "2  39.76381,3.15481                     <NA>                       153   \n",
              "\n",
              "   Precio Medio  Valoración  Numero valoraciones  Dormitorios  Baños  Camas  \\\n",
              "0          <NA>        4.44                   62            2      1      2   \n",
              "1          <NA>        4.63                  111            1      1      1   \n",
              "2           153        4.77                   81            3      1      5   \n",
              "\n",
              "   Viajeros máximos  \n",
              "0                 4  \n",
              "1                 2  \n",
              "2                 6  "
            ]
          },
          "execution_count": 22,
          "metadata": {},
          "output_type": "execute_result"
        }
      ],
      "source": [
        "#Visualizar columnas y las primeras filas\n",
        "df_final.head(3)"
      ]
    },
    {
      "cell_type": "code",
      "execution_count": 23,
      "metadata": {
        "id": "tgbo79FrxxgK"
      },
      "outputs": [],
      "source": [
        "df_final.to_csv(\"airbnb_pmi_final.csv\", index=False)"
      ]
    },
    {
      "cell_type": "markdown",
      "metadata": {
        "id": "78r3BRVyzXuM"
      },
      "source": [
        "***Número de ID´s finales: 2616**"
      ]
    }
  ],
  "metadata": {
    "colab": {
      "provenance": []
    },
    "kernelspec": {
      "display_name": "Python 3",
      "language": "python",
      "name": "python3"
    },
    "language_info": {
      "codemirror_mode": {
        "name": "ipython",
        "version": 3
      },
      "file_extension": ".py",
      "mimetype": "text/x-python",
      "name": "python",
      "nbconvert_exporter": "python",
      "pygments_lexer": "ipython3",
      "version": "3.11.9"
    }
  },
  "nbformat": 4,
  "nbformat_minor": 0
}
