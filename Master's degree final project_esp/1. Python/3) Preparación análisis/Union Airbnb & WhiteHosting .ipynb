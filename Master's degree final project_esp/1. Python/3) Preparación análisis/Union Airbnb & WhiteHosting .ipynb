{
 "cells": [
  {
   "cell_type": "markdown",
   "metadata": {},
   "source": [
    "**Importación de librerias y de los DF**"
   ]
  },
  {
   "cell_type": "code",
   "execution_count": null,
   "metadata": {},
   "outputs": [],
   "source": [
    "import pandas as pd \n",
    "import numpy as np\n",
    "df_airbnb= pd.read_csv(r\"C:\\Users\\pablo\\Documents\\GitHub\\WhiteHosting\\CSVs\\CSV Finales\\Airbnb Unido.csv\")\n",
    "df_whitehosting= pd.read_csv(r\"C:\\Users\\pablo\\Documents\\GitHub\\WhiteHosting\\CSVs\\WhiteHosting\\White Hosting (casi limpio).csv\")"
   ]
  },
  {
   "cell_type": "markdown",
   "metadata": {},
   "source": [
    "**Modificaciones en DF de White Hosting**"
   ]
  },
  {
   "cell_type": "code",
   "execution_count": 27,
   "metadata": {},
   "outputs": [],
   "source": [
    "#Columna ID a string, y añadimos 0s \n",
    "df_whitehosting[\"ID\"] = (df_whitehosting[\"ID\"]).astype(str)\n",
    "df_whitehosting[\"ID\"]=df_whitehosting['ID'].astype(str).str.zfill(20)\n",
    "\n",
    "#Renombramos columnas\n",
    "df_whitehosting= df_whitehosting.rename(columns={\"nombre\":\"Tipo de habitación\", \"precio\":\"Precio Medio\", \"tipo_habitacion\":\"Título\", \"capacidad\":\"Viajeros máximos\", \"banos\":\"Baños\", \"camas\":\"Camas\", \"ciudad\":\"Ciudad\", \"localizacion\": \"Localización\", \"numero_resenas\": \"Numero valoraciones\", \"fecha_insercion\":\"Fecha De Publicación\"})\n",
    "\n",
    "#Creamos la media de valoración\n",
    "df_whitehosting[\"puntuacion_precision\"]= df_whitehosting[\"puntuacion_precision\"] / 2\n",
    "df_whitehosting[\"puntuacion_limpieza\"]= df_whitehosting[\"puntuacion_limpieza\"] / 2\n",
    "df_whitehosting[\"puntuacion_valoracion\"]= df_whitehosting[\"puntuacion_valoracion\"]/10\n",
    "df_whitehosting[\"Valoración\"]= df_whitehosting[[\"puntuacion_precision\",\"puntuacion_limpieza\", \"puntuacion_checkin\", \"puntuacion_comunicacion\", \"puntuacion_ubicacion\", \"puntuacion_valor\",\"puntuacion_valoracion\"]].mean(axis=1).round(2)\n",
    "\n",
    "#Eliminamos columnas que no coinciden en Airbnb\n",
    "df_whitehosting.drop(columns=[\"id_anfitrion\", \"descripcion\", \"tiene_disponibilidad\", \"noches_minimas\", \"noches_maximas\", \"latitud\", \"longitud\", \"puntuacion_precision\",\"puntuacion_limpieza\", \"puntuacion_checkin\", \"puntuacion_comunicacion\", \"puntuacion_ubicacion\", \"puntuacion_valor\", \"puntuacion_valoracion\", \"lista_amenidades\", \"pais\"], inplace=True)\n",
    "\n",
    "#Ordenamos las columnas\n",
    "df_whitehosting = df_whitehosting[['ID', 'Tipo de habitación', 'Título', 'Ciudad', 'Localización', 'Precio Medio', 'Valoración', 'Numero valoraciones', 'Baños', 'Camas', 'Viajeros máximos', \"Fecha De Publicación\"]]\n",
    "\n",
    "#Añadimos columna de Plataforma\n",
    "df_whitehosting[\"Plataforma\"] =\"White Hosting\""
   ]
  },
  {
   "cell_type": "markdown",
   "metadata": {},
   "source": [
    "**Modificaciones en DF de Airbnb**"
   ]
  },
  {
   "cell_type": "code",
   "execution_count": 10,
   "metadata": {},
   "outputs": [],
   "source": [
    "#Eliminamos columnas que no coiciden con White Hosting\n",
    "df_airbnb.drop(columns=[\"Tipología\", \"Municipio\",\"Precio por noche Agosto\", \"Precio por noche Octubre\", \"Dormitorios\"], inplace=True)\n",
    "\n",
    "#Añadimos columna de Plataforma y Fecha de Publicación\n",
    "df_airbnb[\"Plataforma\"]= \"Airbnb\"\n",
    "df_airbnb[\"Fecha De Publicación\"]= \"2024\""
   ]
  },
  {
   "cell_type": "code",
   "execution_count": null,
   "metadata": {},
   "outputs": [],
   "source": []
  },
  {
   "cell_type": "markdown",
   "metadata": {},
   "source": [
    "**Unión de los dos DF y exportación del DF Unido**"
   ]
  },
  {
   "cell_type": "code",
   "execution_count": 11,
   "metadata": {},
   "outputs": [],
   "source": [
    "df_unido= pd.concat([df_whitehosting,df_airbnb], axis=0, ignore_index=True)\n",
    "df_unido.to_csv(\"DF Airbnb & White Hosting (solo columnas coincidentes).csv\", index=False)"
   ]
  }
 ],
 "metadata": {
  "kernelspec": {
   "display_name": "Python 3",
   "language": "python",
   "name": "python3"
  },
  "language_info": {
   "codemirror_mode": {
    "name": "ipython",
    "version": 3
   },
   "file_extension": ".py",
   "mimetype": "text/x-python",
   "name": "python",
   "nbconvert_exporter": "python",
   "pygments_lexer": "ipython3",
   "version": "3.11.9"
  }
 },
 "nbformat": 4,
 "nbformat_minor": 2
}
