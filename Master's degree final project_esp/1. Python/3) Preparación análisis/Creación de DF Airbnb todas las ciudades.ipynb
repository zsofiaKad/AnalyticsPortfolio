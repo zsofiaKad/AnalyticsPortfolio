{
 "cells": [
  {
   "cell_type": "markdown",
   "metadata": {},
   "source": [
    "**Importar librerias**"
   ]
  },
  {
   "cell_type": "code",
   "execution_count": 1,
   "metadata": {},
   "outputs": [],
   "source": [
    "import pandas as pd \n",
    "import numpy as np\n",
    "import re\n",
    "df_madrid= pd.read_csv(r\"C:\\Users\\pablo\\Documents\\GitHub\\WhiteHosting\\CSVs\\Madrid\\Airbnb Madrid Limpio.csv\")\n",
    "df_barcelona= pd.read_csv(r\"C:\\Users\\pablo\\Documents\\GitHub\\WhiteHosting\\CSVs\\Barcelona\\Airbnb Barcelona Limpio.csv\")\n",
    "df_palma= pd.read_csv(r\"C:\\Users\\pablo\\Documents\\GitHub\\WhiteHosting\\CSVs\\Palma\\Airbnb Palma Limpio.csv\")\n",
    "df_asturias= pd.read_csv(r\"C:\\Users\\pablo\\Documents\\GitHub\\WhiteHosting\\CSVs\\Asturias\\Airbnb Asturias Limpio.csv\")\n",
    "df_valencia=pd.read_csv(r\"C:\\Users\\pablo\\Documents\\GitHub\\WhiteHosting\\CSVs\\Valencia\\Airbnb Valencia Limpio.csv\")"
   ]
  },
  {
   "cell_type": "markdown",
   "metadata": {},
   "source": [
    "**Igualamos DF de Madrid y Palma**"
   ]
  },
  {
   "cell_type": "code",
   "execution_count": 2,
   "metadata": {},
   "outputs": [],
   "source": [
    "#Añadimos \n",
    "df_madrid['ID'] = df_madrid['ID'].astype(str).str.zfill(20)\n",
    "df_palma['ID'] = df_palma['ID'].astype(str).str.zfill(20)\n",
    "df_palma[\"Camas\"]= df_palma[\"Camas\"].astype('Int64')\n",
    "df_palma[\"Viajeros máximos\"]= df_palma[\"Viajeros máximos\"].astype('Int64')\n",
    "df_palma[\"Dormitorios\"]= df_palma[\"Dormitorios\"].astype('Int64')\n",
    "df_palma[\"Numero valoraciones\"]= df_palma[\"Numero valoraciones\"].astype('Int64')\n",
    "df_madrid[\"Camas\"]= df_madrid[\"Camas\"].astype('Int64')\n",
    "df_madrid[\"Viajeros máximos\"]= df_madrid[\"Viajeros máximos\"].astype('Int64')\n",
    "df_madrid[\"Dormitorios\"]= df_madrid[\"Dormitorios\"].astype('Int64')\n",
    "df_madrid[\"Numero valoraciones\"]= df_madrid[\"Numero valoraciones\"].astype('Int64')\n",
    "\n",
    "#Movemos las columnas para mejor visualización\n",
    "df_palma = df_palma[['ID', 'Tipo de habitación', 'Título', 'Tipología', 'Ciudad', 'Localización', 'Municipio', 'Precio por noche Agosto', 'Precio por noche Octubre', 'Precio Medio', 'Valoración', 'Numero valoraciones', 'Dormitorios', 'Baños', 'Camas', 'Viajeros máximos']]"
   ]
  },
  {
   "cell_type": "code",
   "execution_count": null,
   "metadata": {},
   "outputs": [],
   "source": []
  },
  {
   "cell_type": "markdown",
   "metadata": {},
   "source": [
    "**Unimos los DF y exportamos a csv**"
   ]
  },
  {
   "cell_type": "code",
   "execution_count": 6,
   "metadata": {},
   "outputs": [],
   "source": [
    "df_unico= pd.concat([df_madrid, df_palma, df_barcelona, df_valencia, df_asturias], axis=0)\n",
    "df_unico.to_csv(\"airbnb_unico.csv\", index=False)"
   ]
  }
 ],
 "metadata": {
  "kernelspec": {
   "display_name": "Python 3",
   "language": "python",
   "name": "python3"
  },
  "language_info": {
   "codemirror_mode": {
    "name": "ipython",
    "version": 3
   },
   "file_extension": ".py",
   "mimetype": "text/x-python",
   "name": "python",
   "nbconvert_exporter": "python",
   "pygments_lexer": "ipython3",
   "version": "3.12.2"
  }
 },
 "nbformat": 4,
 "nbformat_minor": 2
}
