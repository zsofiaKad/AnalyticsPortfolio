{
 "cells": [
  {
   "cell_type": "code",
   "execution_count": 33,
   "metadata": {},
   "outputs": [],
   "source": [
    "import pandas as pd\n",
    "df= pd.read_csv(r\"C:\\Users\\pablo\\Documents\\GitHub\\WhiteHosting\\Pablo\\codigos postales airbnb.csv\")\n",
    "data = pd.read_excel(r\"C:\\Users\\pablo\\Desktop\\Libro1.xlsx\", sheet_name='Hoja1')"
   ]
  },
  {
   "cell_type": "code",
   "execution_count": 34,
   "metadata": {},
   "outputs": [],
   "source": [
    "df[\"CP\"]=pd.to_numeric(df['CP'], errors='coerce').astype('Int64')\n",
    "data[\"CODIGO POSTAL\"]=data['CODIGO POSTAL'].str.extract(r'\\((\\d+)\\)')\n",
    "data= data.rename(columns={\"CODIGO POSTAL\": \"CP\"})\n",
    "data[\"CP\"]=pd.to_numeric(data['CP'], errors='coerce').astype('Int64')\n",
    "\n",
    "df_final= pd.merge(df, data, on=\"CP\")\n",
    "df_final.to_csv(\"Precio m2 por ID.csv\", index=False)"
   ]
  }
 ],
 "metadata": {
  "kernelspec": {
   "display_name": "Python 3",
   "language": "python",
   "name": "python3"
  },
  "language_info": {
   "codemirror_mode": {
    "name": "ipython",
    "version": 3
   },
   "file_extension": ".py",
   "mimetype": "text/x-python",
   "name": "python",
   "nbconvert_exporter": "python",
   "pygments_lexer": "ipython3",
   "version": "3.12.2"
  }
 },
 "nbformat": 4,
 "nbformat_minor": 2
}
