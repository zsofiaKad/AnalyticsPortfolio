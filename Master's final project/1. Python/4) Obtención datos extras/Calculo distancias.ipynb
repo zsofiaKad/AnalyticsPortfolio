{
 "cells": [
  {
   "cell_type": "markdown",
   "metadata": {},
   "source": [
    "**Importar librerias y dfs**"
   ]
  },
  {
   "cell_type": "code",
   "execution_count": 5,
   "metadata": {},
   "outputs": [],
   "source": [
    "import math\n",
    "import pandas as pd\n",
    "import numpy as np\n",
    "df= pd.read_csv(r\"C:\\Users\\pablo\\Documents\\GitHub\\WhiteHosting\\CSVs\\CSV Finales\\Airbnb Unido.csv\")\n",
    "coord= df[\"Localización\"]\n",
    "coord = coord.astype(str)"
   ]
  },
  {
   "cell_type": "markdown",
   "metadata": {},
   "source": [
    "**Calculo de distancia a Puntos de interes según coordenada de cada ID**"
   ]
  },
  {
   "cell_type": "code",
   "execution_count": 15,
   "metadata": {},
   "outputs": [],
   "source": [
    "#Definimos los puntos de interés\n",
    "lista_coordenadas = [\n",
    "    \"40.416928, -3.703534\",\n",
    "    \"43.545066666667, -5.6621222222222\",\n",
    "    \"43.3605, -5.844717\",\n",
    "    \"43.54108,-5.65229\",\n",
    "    \"43.532527, -5.38244\",\n",
    "    \"43.3086, -5.05361\",\n",
    "    \"41.37884983715051, 2.1913263885894128\",\n",
    "    \"41.37459960314058, 2.1472793427442483\",\n",
    "    \"41.39166487051936, 2.164997828924156\",\n",
    "    \"39.567706299724506, 2.6520330351041093\",\n",
    "    \"39.560176392980296, 2.6720991314302984\",\n",
    "    \"39.52444421567382, 2.7387507979932604\",\n",
    "    \"39.504455393907214, 2.5341929238797136\",\n",
    "    \"39.53733966919155, 2.450742410540395\",\n",
    "    \"39.709326862640246, 2.6221702877088586\",\n",
    "    \"39.36953455096111, 3.22568333599316\",\n",
    "    \"39.5875127188056, 3.3868993069681763\",\n",
    "    \"39.710443602728034, 3.464220050205173\",\n",
    "    \"39.840955787655666, 3.1338102973800606\",\n",
    "    \"39.78918448831611, 3.1292709405054624\",\n",
    "    \"39.76983770483271, 3.1491292231287042\",\n",
    "    \"39.905399662412556, 3.082754229696431\",\n",
    "    \"39.45731282986157, -0.35385671808545677\",\n",
    "    \"39.46788134445184, -0.37303600274226884\",\n",
    "    \"39.489803121494944, -0.3234635179940485\",\n",
    "]\n",
    "\n",
    "#Formula de calculo de distancia\n",
    "def haversine(lon1, lat1, lon2, lat2):\n",
    "    lon1, lat1, lon2, lat2 = map(math.radians, [lon1, lat1, lon2, lat2])\n",
    "    dlon = lon2 - lon1\n",
    "    dlat = lat2 - lat1\n",
    "    a = math.sin(dlat / 2)**2 + math.cos(lat1) * math.cos(lat2) * math.sin(dlon / 2)**2\n",
    "    c = 2 * math.asin(math.sqrt(a))\n",
    "    r = 6371.0\n",
    "    distance = c * r\n",
    "    return distance\n",
    "\n",
    "#Para separar las coordenadas\n",
    "def parse_coordinates(coordinate):\n",
    "    try:\n",
    "        lat, lon = map(float, coordinate.split(','))\n",
    "        # Check if lat or lon is NaN\n",
    "        if np.isnan(lat) or np.isnan(lon):\n",
    "            return None, None\n",
    "        else:\n",
    "            return lat, lon\n",
    "    except ValueError:\n",
    "        return None, None\n",
    "\n",
    "#Formula para quedarse con la distancia menor\n",
    "def find_closest_distance(base_coordinate, other_coordinates):\n",
    "    lat1, lon1 = parse_coordinates(base_coordinate)\n",
    "    if lat1 is None or lon1 is None:\n",
    "        return float('inf') \n",
    "    min_distance = float('inf') \n",
    "    for coord in other_coordinates:\n",
    "        lat2, lon2 = parse_coordinates(coord)\n",
    "        if lat2 is None or lon2 is None:\n",
    "            continue  \n",
    "        distance = haversine(lon1, lat1, lon2, lat2) \n",
    "        if distance < min_distance:\n",
    "            min_distance = distance\n",
    "    return round(min_distance, 3)\n",
    "\n",
    "lista_distancia= []\n",
    "\n",
    "for x in coord:\n",
    "    lista_distancia.append(find_closest_distance(x, lista_coordenadas))\n",
    "\n",
    "df[\"Distancia a PI\"]= lista_distancia"
   ]
  },
  {
   "cell_type": "markdown",
   "metadata": {},
   "source": [
    "**Exportar el nuevo df**"
   ]
  },
  {
   "cell_type": "code",
   "execution_count": 19,
   "metadata": {},
   "outputs": [],
   "source": [
    "df.to_csv(\"Airbnb Unido.csv\")"
   ]
  }
 ],
 "metadata": {
  "kernelspec": {
   "display_name": "Python 3",
   "language": "python",
   "name": "python3"
  },
  "language_info": {
   "codemirror_mode": {
    "name": "ipython",
    "version": 3
   },
   "file_extension": ".py",
   "mimetype": "text/x-python",
   "name": "python",
   "nbconvert_exporter": "python",
   "pygments_lexer": "ipython3",
   "version": "3.12.2"
  }
 },
 "nbformat": 4,
 "nbformat_minor": 2
}
