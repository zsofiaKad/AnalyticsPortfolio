{
 "cells": [
  {
   "cell_type": "code",
   "execution_count": 2,
   "metadata": {},
   "outputs": [],
   "source": [
    "import pandas as pd\n",
    "import re\n",
    "from selenium import webdriver\n",
    "from bs4 import BeautifulSoup as bs\n",
    "from time import sleep\n",
    "from selenium.webdriver.common.by import By\n",
    "from selenium.webdriver.support.ui import WebDriverWait\n",
    "from selenium.webdriver.support import expected_conditions as EC\n",
    "from selenium.webdriver.chrome.options import Options\n",
    "from selenium.webdriver.chrome.service import Service\n",
    "from webdriver_manager.chrome import ChromeDriverManager\n",
    "df= pd.read_csv(r\"C:\\Users\\pablo\\Documents\\GitHub\\WhiteHosting\\CSVs\\CSV Finales\\Airbnb Unido.csv\")\n",
    "ids= df[\"ID\"]\n",
    "coord= df[\"Localización\"]"
   ]
  },
  {
   "cell_type": "code",
   "execution_count": 3,
   "metadata": {},
   "outputs": [],
   "source": [
    "opts= Options()\n",
    "opts.add_argument (\"user-agent=Mozilla/5.0 (Macintosh; Intel Mac OS X 10_15_7) AppleWebKit/537.36 (KHTML, like Gecko) Chrome/123.0.0.0 Safari/537.36\")\n",
    "#opts.add_argument(\"--headless\")\n",
    "#opts.add_argument('--blink-settings=imagesEnabled=false')\n",
    "driver= webdriver.Chrome(\n",
    "    service=Service(ChromeDriverManager().install()),\n",
    "    options=opts\n",
    ")\n",
    "\n",
    "url= \"https://www.google.es/maps/\"\n",
    "lista_cp= []\n",
    "def strip_cp(direccion):\n",
    "    pattern= r'\\b\\d{5}\\b'\n",
    "    match= re.search(pattern, direccion)\n",
    "    if match:\n",
    "        return match.group(0)\n",
    "    else:\n",
    "        return None\n",
    "\n",
    "driver.get(url)\n",
    "sleep(2)\n",
    "driver.find_element(\"xpath\", '//*[@aria-label=\"Aceptar todo\"]').click()\n",
    "\n",
    "\n",
    "for x in coord[8000:]:   \n",
    "    \n",
    "    driver.find_element(\"xpath\", '//*[@role=\"combobox\"]').send_keys(x)\n",
    "    driver.find_element(\"xpath\", '//*[@aria-label=\"Búsqueda\"]').click()\n",
    "    sleep(2.1)\n",
    "    html= driver.page_source\n",
    "    soup= bs(html, \"lxml\")\n",
    "    direccion= soup.find(\"span\",{\"class\":\"DkEaL\"})\n",
    "    if direccion is None:\n",
    "        lista_cp.append(None)\n",
    "    else:\n",
    "        direccion= direccion.text.strip()\n",
    "        lista_cp.append(strip_cp(direccion))\n",
    "    try:\n",
    "        element= WebDriverWait(driver, 5).until(EC.element_to_be_clickable((\"xpath\", '//*[@aria-label=\"Cerrar\"]')))\n",
    "        element.click()\n",
    "    except:\n",
    "        pass\n",
    "\n",
    "driver.close()"
   ]
  },
  {
   "cell_type": "code",
   "execution_count": 21,
   "metadata": {},
   "outputs": [],
   "source": [
    "airbnb_cp1= pd.DataFrame({\"ID\": ids[8000:], \"CP\": lista_cp})\n",
    "airbnb_cp1.to_csv(\"airbnb_cp4.csv\")"
   ]
  },
  {
   "cell_type": "code",
   "execution_count": 22,
   "metadata": {},
   "outputs": [],
   "source": [
    "df1=pd.read_csv(r\"C:\\Users\\pablo\\Documents\\GitHub\\WhiteHosting\\Pablo\\airbnb_cp1.csv\")\n",
    "df2=pd.read_csv(r\"C:\\Users\\pablo\\Documents\\GitHub\\WhiteHosting\\Pablo\\airbnb_cp2.csv\")\n",
    "df3=pd.read_csv(r\"C:\\Users\\pablo\\Documents\\GitHub\\WhiteHosting\\Pablo\\airbnb_cp3.csv\")\n",
    "df4=pd.read_csv(r\"C:\\Users\\pablo\\Documents\\GitHub\\WhiteHosting\\Pablo\\airbnb_cp4.csv\")"
   ]
  },
  {
   "cell_type": "code",
   "execution_count": 26,
   "metadata": {},
   "outputs": [],
   "source": [
    "df_total= pd.concat([df1, df2, df3, df4], ignore_index=True)\n",
    "df_total=df_total.drop(columns=[\"Unnamed: 0\"])\n",
    "df_total[\"CP\"]=pd.to_numeric(df_total['CP'], errors='coerce').astype('Int64')"
   ]
  },
  {
   "cell_type": "code",
   "execution_count": 37,
   "metadata": {},
   "outputs": [],
   "source": [
    "df_total.to_csv(\"codigos postales airbnb.csv\", index=False)"
   ]
  }
 ],
 "metadata": {
  "kernelspec": {
   "display_name": "Python 3",
   "language": "python",
   "name": "python3"
  },
  "language_info": {
   "codemirror_mode": {
    "name": "ipython",
    "version": 3
   },
   "file_extension": ".py",
   "mimetype": "text/x-python",
   "name": "python",
   "nbconvert_exporter": "python",
   "pygments_lexer": "ipython3",
   "version": "3.12.2"
  }
 },
 "nbformat": 4,
 "nbformat_minor": 2
}
