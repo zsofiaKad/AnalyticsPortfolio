{
  "cells": [
    {
      "cell_type": "markdown",
      "metadata": {
        "id": "jg_sOX8OrWNP"
      },
      "source": [
        "# AMENITIES"
      ]
    },
    {
      "cell_type": "code",
      "execution_count": 1,
      "metadata": {
        "id": "N0dzzwxrrVKT"
      },
      "outputs": [],
      "source": [
        "import pandas as pd\n",
        "import numpy as np"
      ]
    },
    {
      "cell_type": "markdown",
      "metadata": {},
      "source": [
        "## Comprobar listas de \"amenities\" por ciudad"
      ]
    },
    {
      "cell_type": "code",
      "execution_count": 2,
      "metadata": {
        "id": "o-yxks6jrcE5"
      },
      "outputs": [],
      "source": [
        "df_pmi = pd.read_csv(\"C:\\\\Users\\\\Usuario\\\\OneDrive\\\\Documentos\\\\Master Data Analytics\\\\Proyecto Júpiter\\\\Datasets\\\\Amenities\\\\Archiv\\\\airbnb_pmi_amenities.csv\")"
      ]
    },
    {
      "cell_type": "code",
      "execution_count": 3,
      "metadata": {
        "colab": {
          "base_uri": "https://localhost:8080/",
          "height": 143
        },
        "id": "WPZ86GfvsBYg",
        "outputId": "365261ec-e6b8-4c55-d22e-c54604b47ce4"
      },
      "outputs": [
        {
          "data": {
            "text/html": [
              "<div>\n",
              "<style scoped>\n",
              "    .dataframe tbody tr th:only-of-type {\n",
              "        vertical-align: middle;\n",
              "    }\n",
              "\n",
              "    .dataframe tbody tr th {\n",
              "        vertical-align: top;\n",
              "    }\n",
              "\n",
              "    .dataframe thead th {\n",
              "        text-align: right;\n",
              "    }\n",
              "</style>\n",
              "<table border=\"1\" class=\"dataframe\">\n",
              "  <thead>\n",
              "    <tr style=\"text-align: right;\">\n",
              "      <th></th>\n",
              "      <th>ID</th>\n",
              "      <th>Amenities</th>\n",
              "    </tr>\n",
              "  </thead>\n",
              "  <tbody>\n",
              "    <tr>\n",
              "      <th>0</th>\n",
              "      <td>178456</td>\n",
              "      <td>['Vistas al canal', 'Vistas al lago', 'Secador...</td>\n",
              "    </tr>\n",
              "  </tbody>\n",
              "</table>\n",
              "</div>"
            ],
            "text/plain": [
              "       ID                                          Amenities\n",
              "0  178456  ['Vistas al canal', 'Vistas al lago', 'Secador..."
            ]
          },
          "execution_count": 3,
          "metadata": {},
          "output_type": "execute_result"
        }
      ],
      "source": [
        "df_pmi.head(1)"
      ]
    },
    {
      "cell_type": "code",
      "execution_count": 4,
      "metadata": {},
      "outputs": [
        {
          "name": "stdout",
          "output_type": "stream",
          "text": [
            "El número de filas con NaN es en el df_pmi: 710\n"
          ]
        }
      ],
      "source": [
        "#Contar filas con valores NaN en 'Lista Amenities'\n",
        "filas_NaN_pmi = df_pmi['Amenities'].isna().sum()\n",
        "print(f\"El número de filas con NaN es en el df_pmi: {filas_NaN_pmi}\")"
      ]
    },
    {
      "cell_type": "code",
      "execution_count": 6,
      "metadata": {},
      "outputs": [],
      "source": [
        "df_mad = pd.read_csv(\"C:\\\\Users\\\\Usuario\\\\OneDrive\\\\Documentos\\\\Master Data Analytics\\\\Proyecto Júpiter\\\\Datasets\\\\Amenities\\\\Archiv\\\\airbnb_madrid_amenities.csv\")"
      ]
    },
    {
      "cell_type": "code",
      "execution_count": 7,
      "metadata": {},
      "outputs": [
        {
          "data": {
            "text/html": [
              "<div>\n",
              "<style scoped>\n",
              "    .dataframe tbody tr th:only-of-type {\n",
              "        vertical-align: middle;\n",
              "    }\n",
              "\n",
              "    .dataframe tbody tr th {\n",
              "        vertical-align: top;\n",
              "    }\n",
              "\n",
              "    .dataframe thead th {\n",
              "        text-align: right;\n",
              "    }\n",
              "</style>\n",
              "<table border=\"1\" class=\"dataframe\">\n",
              "  <thead>\n",
              "    <tr style=\"text-align: right;\">\n",
              "      <th></th>\n",
              "      <th>Unnamed: 0</th>\n",
              "      <th>ID</th>\n",
              "      <th>Lista Amenities</th>\n",
              "    </tr>\n",
              "  </thead>\n",
              "  <tbody>\n",
              "    <tr>\n",
              "      <th>0</th>\n",
              "      <td>0</td>\n",
              "      <td>3586833</td>\n",
              "      <td>['Secador de pelo', 'Agua caliente', 'Lavadora...</td>\n",
              "    </tr>\n",
              "  </tbody>\n",
              "</table>\n",
              "</div>"
            ],
            "text/plain": [
              "   Unnamed: 0       ID                                    Lista Amenities\n",
              "0           0  3586833  ['Secador de pelo', 'Agua caliente', 'Lavadora..."
            ]
          },
          "execution_count": 7,
          "metadata": {},
          "output_type": "execute_result"
        }
      ],
      "source": [
        "df_mad.head(1)"
      ]
    },
    {
      "cell_type": "code",
      "execution_count": 8,
      "metadata": {},
      "outputs": [
        {
          "name": "stdout",
          "output_type": "stream",
          "text": [
            "El número de filas con NaN es en el df_mad: 105\n"
          ]
        }
      ],
      "source": [
        "#Contar filas con valores NaN en 'Lista Amenities'\n",
        "filas_NaN_mad = df_mad['Lista Amenities'].isna().sum()\n",
        "print(f\"El número de filas con NaN es en el df_mad: {filas_NaN_mad}\")"
      ]
    },
    {
      "cell_type": "code",
      "execution_count": 9,
      "metadata": {},
      "outputs": [],
      "source": [
        "df_bcn = pd.read_csv(\"C:\\\\Users\\\\Usuario\\\\OneDrive\\\\Documentos\\\\Master Data Analytics\\\\Proyecto Júpiter\\\\Datasets\\\\Amenities\\\\Archiv\\\\airbnb_barcelona_amenities.csv\")"
      ]
    },
    {
      "cell_type": "code",
      "execution_count": 10,
      "metadata": {},
      "outputs": [
        {
          "data": {
            "text/html": [
              "<div>\n",
              "<style scoped>\n",
              "    .dataframe tbody tr th:only-of-type {\n",
              "        vertical-align: middle;\n",
              "    }\n",
              "\n",
              "    .dataframe tbody tr th {\n",
              "        vertical-align: top;\n",
              "    }\n",
              "\n",
              "    .dataframe thead th {\n",
              "        text-align: right;\n",
              "    }\n",
              "</style>\n",
              "<table border=\"1\" class=\"dataframe\">\n",
              "  <thead>\n",
              "    <tr style=\"text-align: right;\">\n",
              "      <th></th>\n",
              "      <th>Unnamed: 0</th>\n",
              "      <th>ID</th>\n",
              "      <th>Lista Amenities</th>\n",
              "    </tr>\n",
              "  </thead>\n",
              "  <tbody>\n",
              "    <tr>\n",
              "      <th>0</th>\n",
              "      <td>0</td>\n",
              "      <td>17403344</td>\n",
              "      <td>NaN</td>\n",
              "    </tr>\n",
              "  </tbody>\n",
              "</table>\n",
              "</div>"
            ],
            "text/plain": [
              "   Unnamed: 0        ID Lista Amenities\n",
              "0           0  17403344             NaN"
            ]
          },
          "execution_count": 10,
          "metadata": {},
          "output_type": "execute_result"
        }
      ],
      "source": [
        "df_bcn.head(1)"
      ]
    },
    {
      "cell_type": "code",
      "execution_count": 11,
      "metadata": {},
      "outputs": [
        {
          "name": "stdout",
          "output_type": "stream",
          "text": [
            "El número de filas con NaN es en el df_bcn: 1560\n"
          ]
        }
      ],
      "source": [
        "#Contar filas con valores NaN en 'Lista Amenities'\n",
        "filas_NaN_bcn = df_bcn['Lista Amenities'].isna().sum()\n",
        "print(f\"El número de filas con NaN es en el df_bcn: {filas_NaN_bcn}\")"
      ]
    },
    {
      "cell_type": "code",
      "execution_count": 12,
      "metadata": {},
      "outputs": [],
      "source": [
        "df_vlc = pd.read_csv(\"C:\\\\Users\\\\Usuario\\\\OneDrive\\\\Documentos\\\\Master Data Analytics\\\\Proyecto Júpiter\\\\Datasets\\\\Amenities\\\\Archiv\\\\airbnb_valencia_amenities.csv\")"
      ]
    },
    {
      "cell_type": "code",
      "execution_count": 13,
      "metadata": {},
      "outputs": [
        {
          "data": {
            "text/html": [
              "<div>\n",
              "<style scoped>\n",
              "    .dataframe tbody tr th:only-of-type {\n",
              "        vertical-align: middle;\n",
              "    }\n",
              "\n",
              "    .dataframe tbody tr th {\n",
              "        vertical-align: top;\n",
              "    }\n",
              "\n",
              "    .dataframe thead th {\n",
              "        text-align: right;\n",
              "    }\n",
              "</style>\n",
              "<table border=\"1\" class=\"dataframe\">\n",
              "  <thead>\n",
              "    <tr style=\"text-align: right;\">\n",
              "      <th></th>\n",
              "      <th>ID</th>\n",
              "      <th>Lista Amenities</th>\n",
              "    </tr>\n",
              "  </thead>\n",
              "  <tbody>\n",
              "    <tr>\n",
              "      <th>0</th>\n",
              "      <td>1148493583486283660</td>\n",
              "      <td>['Secador de pelo', 'Productos de limpieza', '...</td>\n",
              "    </tr>\n",
              "  </tbody>\n",
              "</table>\n",
              "</div>"
            ],
            "text/plain": [
              "                    ID                                    Lista Amenities\n",
              "0  1148493583486283660  ['Secador de pelo', 'Productos de limpieza', '..."
            ]
          },
          "execution_count": 13,
          "metadata": {},
          "output_type": "execute_result"
        }
      ],
      "source": [
        "df_vlc.head(1)"
      ]
    },
    {
      "cell_type": "code",
      "execution_count": 14,
      "metadata": {},
      "outputs": [
        {
          "name": "stdout",
          "output_type": "stream",
          "text": [
            "El número de filas con NaN es en el df_vlc: 153\n"
          ]
        }
      ],
      "source": [
        "#Contar filas con valores NaN en 'Lista Amenities'\n",
        "filas_NaN_vlc = df_vlc['Lista Amenities'].isna().sum()\n",
        "print(f\"El número de filas con NaN es en el df_vlc: {filas_NaN_vlc}\")\n"
      ]
    },
    {
      "cell_type": "code",
      "execution_count": 15,
      "metadata": {},
      "outputs": [],
      "source": [
        "df_ovd = pd.read_csv(\"C:\\\\Users\\\\Usuario\\\\OneDrive\\\\Documentos\\\\Master Data Analytics\\\\Proyecto Júpiter\\\\Datasets\\\\Amenities\\\\Archiv\\\\airbnb_gijonoviedo_amenities.csv\")"
      ]
    },
    {
      "cell_type": "code",
      "execution_count": 16,
      "metadata": {},
      "outputs": [
        {
          "data": {
            "text/html": [
              "<div>\n",
              "<style scoped>\n",
              "    .dataframe tbody tr th:only-of-type {\n",
              "        vertical-align: middle;\n",
              "    }\n",
              "\n",
              "    .dataframe tbody tr th {\n",
              "        vertical-align: top;\n",
              "    }\n",
              "\n",
              "    .dataframe thead th {\n",
              "        text-align: right;\n",
              "    }\n",
              "</style>\n",
              "<table border=\"1\" class=\"dataframe\">\n",
              "  <thead>\n",
              "    <tr style=\"text-align: right;\">\n",
              "      <th></th>\n",
              "      <th>Unnamed: 0</th>\n",
              "      <th>ID</th>\n",
              "      <th>Lista Amenities</th>\n",
              "    </tr>\n",
              "  </thead>\n",
              "  <tbody>\n",
              "    <tr>\n",
              "      <th>0</th>\n",
              "      <td>0</td>\n",
              "      <td>970291990719745713</td>\n",
              "      <td>['Secador de pelo', 'Productos de limpieza', '...</td>\n",
              "    </tr>\n",
              "  </tbody>\n",
              "</table>\n",
              "</div>"
            ],
            "text/plain": [
              "   Unnamed: 0                  ID  \\\n",
              "0           0  970291990719745713   \n",
              "\n",
              "                                     Lista Amenities  \n",
              "0  ['Secador de pelo', 'Productos de limpieza', '...  "
            ]
          },
          "execution_count": 16,
          "metadata": {},
          "output_type": "execute_result"
        }
      ],
      "source": [
        "df_ovd.head(1)"
      ]
    },
    {
      "cell_type": "code",
      "execution_count": 17,
      "metadata": {},
      "outputs": [
        {
          "name": "stdout",
          "output_type": "stream",
          "text": [
            "El número de filas con NaN es en el df_ovd: 50\n"
          ]
        }
      ],
      "source": [
        "#Contar filas con valores NaN en 'Lista Amenities'\n",
        "filas_NaN_ovd = df_ovd['Lista Amenities'].isna().sum()\n",
        "print(f\"El número de filas con NaN es en el df_ovd: {filas_NaN_ovd}\")\n"
      ]
    },
    {
      "cell_type": "code",
      "execution_count": 18,
      "metadata": {},
      "outputs": [],
      "source": [
        "df_wh = pd.read_csv(\"C:\\\\Users\\\\Usuario\\\\OneDrive\\\\Documentos\\\\GitHub\\WhiteHosting\\\\CSVs\\\\WhiteHosting\\\\WhiteHosting estructurado2.csv\")"
      ]
    },
    {
      "cell_type": "code",
      "execution_count": 19,
      "metadata": {},
      "outputs": [
        {
          "data": {
            "text/html": [
              "<div>\n",
              "<style scoped>\n",
              "    .dataframe tbody tr th:only-of-type {\n",
              "        vertical-align: middle;\n",
              "    }\n",
              "\n",
              "    .dataframe tbody tr th {\n",
              "        vertical-align: top;\n",
              "    }\n",
              "\n",
              "    .dataframe thead th {\n",
              "        text-align: right;\n",
              "    }\n",
              "</style>\n",
              "<table border=\"1\" class=\"dataframe\">\n",
              "  <thead>\n",
              "    <tr style=\"text-align: right;\">\n",
              "      <th></th>\n",
              "      <th>ID</th>\n",
              "      <th>Lista_amenidades</th>\n",
              "    </tr>\n",
              "  </thead>\n",
              "  <tbody>\n",
              "    <tr>\n",
              "      <th>0</th>\n",
              "      <td>36187629</td>\n",
              "      <td>{TV,Wifi,\"Air conditioning\",Kitchen,\"Smoking a...</td>\n",
              "    </tr>\n",
              "  </tbody>\n",
              "</table>\n",
              "</div>"
            ],
            "text/plain": [
              "         ID                                   Lista_amenidades\n",
              "0  36187629  {TV,Wifi,\"Air conditioning\",Kitchen,\"Smoking a..."
            ]
          },
          "execution_count": 19,
          "metadata": {},
          "output_type": "execute_result"
        }
      ],
      "source": [
        "df_wh_ame = df_wh[['ID', 'Lista_amenidades']]\n",
        "df_wh_ame.head(1)"
      ]
    },
    {
      "cell_type": "code",
      "execution_count": 20,
      "metadata": {},
      "outputs": [
        {
          "name": "stdout",
          "output_type": "stream",
          "text": [
            "El número de filas con NaN es en el df_vlc: 1\n"
          ]
        }
      ],
      "source": [
        "#Contar filas con valores NaN en 'Lista_amenidades'\n",
        "filas_NaN = df_wh_ame['Lista_amenidades'].isna().sum()\n",
        "print(f\"El número de filas con NaN es en el df_vlc: {filas_NaN}\")"
      ]
    },
    {
      "cell_type": "code",
      "execution_count": 21,
      "metadata": {},
      "outputs": [],
      "source": [
        "#Cambiamos el nombre de \"Amenities\" a \"Lista Amenities\" en el df_pmi\n",
        "df_pmi.rename(columns={'Amenities': 'Lista Amenities'}, inplace=True)"
      ]
    },
    {
      "cell_type": "code",
      "execution_count": 22,
      "metadata": {},
      "outputs": [
        {
          "name": "stderr",
          "output_type": "stream",
          "text": [
            "C:\\Users\\Usuario\\AppData\\Local\\Temp\\ipykernel_13280\\68374191.py:2: SettingWithCopyWarning: \n",
            "A value is trying to be set on a copy of a slice from a DataFrame\n",
            "\n",
            "See the caveats in the documentation: https://pandas.pydata.org/pandas-docs/stable/user_guide/indexing.html#returning-a-view-versus-a-copy\n",
            "  df_wh_ame.rename(columns={'Lista_amenidades': 'Lista Amenities'}, inplace=True)\n"
          ]
        }
      ],
      "source": [
        "#Cambiamos el nombre de \"Lista_amenidades\" a \"Lista Amenities\" en el df_wh_ame\n",
        "df_wh_ame.rename(columns={'Lista_amenidades': 'Lista Amenities'}, inplace=True)"
      ]
    },
    {
      "cell_type": "code",
      "execution_count": 23,
      "metadata": {},
      "outputs": [],
      "source": [
        "#Eliminamos la columna \"Unnamed:0\" en los df_mad, df_bcn, df_ovd\n",
        "df_mad.drop(columns=['Unnamed: 0'], inplace=True)\n",
        "df_bcn.drop(columns=['Unnamed: 0'], inplace=True)\n",
        "df_ovd.drop(columns=['Unnamed: 0'], inplace=True)"
      ]
    },
    {
      "cell_type": "code",
      "execution_count": 24,
      "metadata": {},
      "outputs": [],
      "source": [
        "#Eliminamos las filas con NaN\n",
        "df_pmi = df_pmi.dropna(subset=['Lista Amenities'])\n",
        "df_mad = df_mad.dropna(subset=['Lista Amenities'])\n",
        "df_bcn = df_bcn.dropna(subset=['Lista Amenities'])\n",
        "df_vlc = df_vlc.dropna(subset=['Lista Amenities'])\n",
        "df_ovd = df_ovd.dropna(subset=['Lista Amenities'])\n",
        "df_wh_ame = df_wh_ame.dropna(subset=['Lista Amenities'])"
      ]
    },
    {
      "cell_type": "markdown",
      "metadata": {},
      "source": [
        "## Crear df unico para los \"Amenities\" de Airbnb"
      ]
    },
    {
      "cell_type": "code",
      "execution_count": 25,
      "metadata": {},
      "outputs": [
        {
          "data": {
            "text/html": [
              "<div>\n",
              "<style scoped>\n",
              "    .dataframe tbody tr th:only-of-type {\n",
              "        vertical-align: middle;\n",
              "    }\n",
              "\n",
              "    .dataframe tbody tr th {\n",
              "        vertical-align: top;\n",
              "    }\n",
              "\n",
              "    .dataframe thead th {\n",
              "        text-align: right;\n",
              "    }\n",
              "</style>\n",
              "<table border=\"1\" class=\"dataframe\">\n",
              "  <thead>\n",
              "    <tr style=\"text-align: right;\">\n",
              "      <th></th>\n",
              "      <th>ID</th>\n",
              "      <th>Lista Amenities</th>\n",
              "    </tr>\n",
              "  </thead>\n",
              "  <tbody>\n",
              "    <tr>\n",
              "      <th>0</th>\n",
              "      <td>178456</td>\n",
              "      <td>['Vistas al canal', 'Vistas al lago', 'Secador...</td>\n",
              "    </tr>\n",
              "    <tr>\n",
              "      <th>1</th>\n",
              "      <td>238799</td>\n",
              "      <td>['Vistas a la playa', 'Vistas al perfil urbano...</td>\n",
              "    </tr>\n",
              "    <tr>\n",
              "      <th>2</th>\n",
              "      <td>291211</td>\n",
              "      <td>['Vistas al perfil urbano', 'Bañera', 'Secador...</td>\n",
              "    </tr>\n",
              "    <tr>\n",
              "      <th>3</th>\n",
              "      <td>328541</td>\n",
              "      <td>['Vistas al patio', 'Vistas al perfil urbano',...</td>\n",
              "    </tr>\n",
              "    <tr>\n",
              "      <th>4</th>\n",
              "      <td>441930</td>\n",
              "      <td>['Secador de pelo', 'Agua caliente', 'Lavadora...</td>\n",
              "    </tr>\n",
              "  </tbody>\n",
              "</table>\n",
              "</div>"
            ],
            "text/plain": [
              "       ID                                    Lista Amenities\n",
              "0  178456  ['Vistas al canal', 'Vistas al lago', 'Secador...\n",
              "1  238799  ['Vistas a la playa', 'Vistas al perfil urbano...\n",
              "2  291211  ['Vistas al perfil urbano', 'Bañera', 'Secador...\n",
              "3  328541  ['Vistas al patio', 'Vistas al perfil urbano',...\n",
              "4  441930  ['Secador de pelo', 'Agua caliente', 'Lavadora..."
            ]
          },
          "execution_count": 25,
          "metadata": {},
          "output_type": "execute_result"
        }
      ],
      "source": [
        "#Combinar los DataFrames en uno solo\n",
        "df = pd.concat([df_pmi, df_mad, df_bcn, df_vlc, df_ovd, df_wh_ame], ignore_index=True)\n",
        "\n",
        "df.head(5)"
      ]
    },
    {
      "cell_type": "code",
      "execution_count": 26,
      "metadata": {},
      "outputs": [
        {
          "data": {
            "text/plain": [
              "(18444, 2)"
            ]
          },
          "execution_count": 26,
          "metadata": {},
          "output_type": "execute_result"
        }
      ],
      "source": [
        "df.shape"
      ]
    },
    {
      "cell_type": "markdown",
      "metadata": {
        "id": "gOghdFA5uxS0"
      },
      "source": [
        "# Confirmar datos relevantes"
      ]
    },
    {
      "cell_type": "markdown",
      "metadata": {
        "id": "bvywas5Fu9AE"
      },
      "source": [
        "Decidimos seleccionar los siguientes datos, los cuales podrían tener un mayor impacto en el precio:\n",
        "1. Vistas: Vistas al cana / Vistas al mar / Vistas al lago / Vistas a la playa / Vistas a la montaña / Vistas al puerto\n",
        "1/2. Vistas: Sí/No\n",
        "2. Primera línea: Sí/No\n",
        "3. Wifi: Sí/No\n",
        "4. Aire acondicionado: Sí/No\n",
        "5. Aparcamiento: gratuito / de pago\n",
        "5/2. Aparcamiento: Sí/No"
      ]
    },
    {
      "cell_type": "code",
      "execution_count": 27,
      "metadata": {
        "colab": {
          "base_uri": "https://localhost:8080/"
        },
        "id": "9tURJ0-y2Dw1",
        "outputId": "9fb0763f-5d55-4a7b-f8df-96eae2e61958"
      },
      "outputs": [
        {
          "data": {
            "text/plain": [
              "ID                  int64\n",
              "Lista Amenities    object\n",
              "dtype: object"
            ]
          },
          "execution_count": 27,
          "metadata": {},
          "output_type": "execute_result"
        }
      ],
      "source": [
        "df.dtypes"
      ]
    },
    {
      "cell_type": "code",
      "execution_count": 28,
      "metadata": {},
      "outputs": [],
      "source": [
        "#Cambiamos tipo de dato de la columna \"ID\"\n",
        "df['ID'] = df['ID'].astype(str)"
      ]
    },
    {
      "cell_type": "code",
      "execution_count": 29,
      "metadata": {},
      "outputs": [
        {
          "data": {
            "text/plain": [
              "(18444, 2)"
            ]
          },
          "execution_count": 29,
          "metadata": {},
          "output_type": "execute_result"
        }
      ],
      "source": [
        "df.shape"
      ]
    },
    {
      "cell_type": "code",
      "execution_count": 30,
      "metadata": {},
      "outputs": [
        {
          "data": {
            "text/html": [
              "<div>\n",
              "<style scoped>\n",
              "    .dataframe tbody tr th:only-of-type {\n",
              "        vertical-align: middle;\n",
              "    }\n",
              "\n",
              "    .dataframe tbody tr th {\n",
              "        vertical-align: top;\n",
              "    }\n",
              "\n",
              "    .dataframe thead th {\n",
              "        text-align: right;\n",
              "    }\n",
              "</style>\n",
              "<table border=\"1\" class=\"dataframe\">\n",
              "  <thead>\n",
              "    <tr style=\"text-align: right;\">\n",
              "      <th></th>\n",
              "      <th>ID</th>\n",
              "      <th>Lista Amenities</th>\n",
              "    </tr>\n",
              "  </thead>\n",
              "  <tbody>\n",
              "    <tr>\n",
              "      <th>0</th>\n",
              "      <td>178456</td>\n",
              "      <td>['Vistas al canal', 'Vistas al lago', 'Secador...</td>\n",
              "    </tr>\n",
              "    <tr>\n",
              "      <th>1</th>\n",
              "      <td>238799</td>\n",
              "      <td>['Vistas a la playa', 'Vistas al perfil urbano...</td>\n",
              "    </tr>\n",
              "    <tr>\n",
              "      <th>2</th>\n",
              "      <td>291211</td>\n",
              "      <td>['Vistas al perfil urbano', 'Bañera', 'Secador...</td>\n",
              "    </tr>\n",
              "    <tr>\n",
              "      <th>3</th>\n",
              "      <td>328541</td>\n",
              "      <td>['Vistas al patio', 'Vistas al perfil urbano',...</td>\n",
              "    </tr>\n",
              "    <tr>\n",
              "      <th>4</th>\n",
              "      <td>441930</td>\n",
              "      <td>['Secador de pelo', 'Agua caliente', 'Lavadora...</td>\n",
              "    </tr>\n",
              "  </tbody>\n",
              "</table>\n",
              "</div>"
            ],
            "text/plain": [
              "       ID                                    Lista Amenities\n",
              "0  178456  ['Vistas al canal', 'Vistas al lago', 'Secador...\n",
              "1  238799  ['Vistas a la playa', 'Vistas al perfil urbano...\n",
              "2  291211  ['Vistas al perfil urbano', 'Bañera', 'Secador...\n",
              "3  328541  ['Vistas al patio', 'Vistas al perfil urbano',...\n",
              "4  441930  ['Secador de pelo', 'Agua caliente', 'Lavadora..."
            ]
          },
          "execution_count": 30,
          "metadata": {},
          "output_type": "execute_result"
        }
      ],
      "source": [
        "df.head(5)"
      ]
    },
    {
      "cell_type": "markdown",
      "metadata": {},
      "source": [
        "Comprobación de ID´s duplicados"
      ]
    },
    {
      "cell_type": "code",
      "execution_count": 31,
      "metadata": {},
      "outputs": [
        {
          "data": {
            "text/html": [
              "<div>\n",
              "<style scoped>\n",
              "    .dataframe tbody tr th:only-of-type {\n",
              "        vertical-align: middle;\n",
              "    }\n",
              "\n",
              "    .dataframe tbody tr th {\n",
              "        vertical-align: top;\n",
              "    }\n",
              "\n",
              "    .dataframe thead th {\n",
              "        text-align: right;\n",
              "    }\n",
              "</style>\n",
              "<table border=\"1\" class=\"dataframe\">\n",
              "  <thead>\n",
              "    <tr style=\"text-align: right;\">\n",
              "      <th></th>\n",
              "      <th>ID</th>\n",
              "      <th>Lista Amenities</th>\n",
              "    </tr>\n",
              "  </thead>\n",
              "  <tbody>\n",
              "    <tr>\n",
              "      <th>7097</th>\n",
              "      <td>11416659</td>\n",
              "      <td>['Secador de pelo', 'Champú', 'Agua caliente',...</td>\n",
              "    </tr>\n",
              "    <tr>\n",
              "      <th>9985</th>\n",
              "      <td>11416659</td>\n",
              "      <td>[\"Essentials\", \"Dishes and silverware\", \"Heati...</td>\n",
              "    </tr>\n",
              "    <tr>\n",
              "      <th>12170</th>\n",
              "      <td>11658641</td>\n",
              "      <td>[\"Dishes and silverware\", \"Beachfront\", \"Carbo...</td>\n",
              "    </tr>\n",
              "    <tr>\n",
              "      <th>183</th>\n",
              "      <td>11658641</td>\n",
              "      <td>['Vistas a la bahía', 'Vistas a la playa', 'Vi...</td>\n",
              "    </tr>\n",
              "    <tr>\n",
              "      <th>5171</th>\n",
              "      <td>11989301</td>\n",
              "      <td>['Vistas al perfil urbano', 'Secador de pelo',...</td>\n",
              "    </tr>\n",
              "    <tr>\n",
              "      <th>...</th>\n",
              "      <td>...</td>\n",
              "      <td>...</td>\n",
              "    </tr>\n",
              "    <tr>\n",
              "      <th>18188</th>\n",
              "      <td>8517585</td>\n",
              "      <td>{TV,Internet,Wifi,Kitchen,\"Pets allowed\",Break...</td>\n",
              "    </tr>\n",
              "    <tr>\n",
              "      <th>9531</th>\n",
              "      <td>899254</td>\n",
              "      <td>{TV,Wifi,\"Air conditioning\",Kitchen,\"Paid park...</td>\n",
              "    </tr>\n",
              "    <tr>\n",
              "      <th>7204</th>\n",
              "      <td>899254</td>\n",
              "      <td>['Secador de pelo', 'Champú', 'Agua caliente',...</td>\n",
              "    </tr>\n",
              "    <tr>\n",
              "      <th>15772</th>\n",
              "      <td>9899127</td>\n",
              "      <td>{TV,\"Cable TV\",Internet,Wifi,Pool,Kitchen,\"Fre...</td>\n",
              "    </tr>\n",
              "    <tr>\n",
              "      <th>160</th>\n",
              "      <td>9899127</td>\n",
              "      <td>['Bañera', 'Secador de pelo', 'Bidé', 'Agua ca...</td>\n",
              "    </tr>\n",
              "  </tbody>\n",
              "</table>\n",
              "<p>330 rows × 2 columns</p>\n",
              "</div>"
            ],
            "text/plain": [
              "             ID                                    Lista Amenities\n",
              "7097   11416659  ['Secador de pelo', 'Champú', 'Agua caliente',...\n",
              "9985   11416659  [\"Essentials\", \"Dishes and silverware\", \"Heati...\n",
              "12170  11658641  [\"Dishes and silverware\", \"Beachfront\", \"Carbo...\n",
              "183    11658641  ['Vistas a la bahía', 'Vistas a la playa', 'Vi...\n",
              "5171   11989301  ['Vistas al perfil urbano', 'Secador de pelo',...\n",
              "...         ...                                                ...\n",
              "18188   8517585  {TV,Internet,Wifi,Kitchen,\"Pets allowed\",Break...\n",
              "9531     899254  {TV,Wifi,\"Air conditioning\",Kitchen,\"Paid park...\n",
              "7204     899254  ['Secador de pelo', 'Champú', 'Agua caliente',...\n",
              "15772   9899127  {TV,\"Cable TV\",Internet,Wifi,Pool,Kitchen,\"Fre...\n",
              "160     9899127  ['Bañera', 'Secador de pelo', 'Bidé', 'Agua ca...\n",
              "\n",
              "[330 rows x 2 columns]"
            ]
          },
          "execution_count": 31,
          "metadata": {},
          "output_type": "execute_result"
        }
      ],
      "source": [
        "#Comprobamos los duplicados\n",
        "duplicados = df[df.duplicated(subset=['ID'], keep=False)].sort_values(by='ID')\n",
        "duplicados"
      ]
    },
    {
      "cell_type": "code",
      "execution_count": 61,
      "metadata": {},
      "outputs": [
        {
          "data": {
            "text/plain": [
              "['Secador de pelo',\n",
              " 'Champú',\n",
              " 'Agua caliente',\n",
              " 'Lavadora',\n",
              " 'Servicios básicosToallas, sábanas, jabón y papel higiénico',\n",
              " 'Perchas',\n",
              " 'Plancha',\n",
              " 'Televisión de alta definición de 48\\xa0pulgadas',\n",
              " 'Sistema de aire acondicionado sin conductos tipo split',\n",
              " 'Calefacción',\n",
              " 'Wifi',\n",
              " 'Zona para trabajarEn una zona común',\n",
              " 'CocinaCocina disponible para el uso de los huéspedes',\n",
              " 'Frigorífico',\n",
              " 'Microondas',\n",
              " 'Utensilios básicos de cocinaCazuelas y sartenes, aceite, sal y pimienta',\n",
              " 'Platos y cubiertosCuencos, palillos, platos, tazas, etc.',\n",
              " 'Fogón',\n",
              " 'Horno',\n",
              " 'Cafetera',\n",
              " 'Patio o balcón (privada)',\n",
              " 'Aparcamiento gratuito en la calle',\n",
              " 'Admite mascotasLos animales de asistencia siempre están permitidos',\n",
              " 'No disponible: SecadoraSecadora',\n",
              " 'No disponible: Detector de humoDetector de humoNo hay detector de humo en la propiedad.',\n",
              " 'No disponible: Detector de monóxido de carbonoDetector de monóxido de carbonoNo hay detector de monóxido de carbono en la propiedad.']"
            ]
          },
          "execution_count": 61,
          "metadata": {},
          "output_type": "execute_result"
        }
      ],
      "source": [
        "#Comprobamos las dos primeras filas con el ID 11416659\n",
        "lista1 = duplicados.iloc[0][\"Lista Amenities\"]\n",
        "lista1"
      ]
    },
    {
      "cell_type": "code",
      "execution_count": 32,
      "metadata": {},
      "outputs": [
        {
          "data": {
            "text/plain": [
              "'[\"Essentials\", \"Dishes and silverware\", \"Heating\", \"Dedicated workspace\", \"Cooking basics\", \"Shampoo\", \"Patio or balcony\", \"Iron\", \"TV\", \"Coffee maker\", \"Hangers\", \"Hair dryer\", \"Washer\", \"Air conditioning\", \"Stove\", \"Wifi\", \"Microwave\", \"Hot water\", \"Refrigerator\", \"Oven\", \"Kitchen\", \"Free street parking\"]'"
            ]
          },
          "execution_count": 32,
          "metadata": {},
          "output_type": "execute_result"
        }
      ],
      "source": [
        "lista2 = duplicados.iloc[1][\"Lista Amenities\"]\n",
        "lista2"
      ]
    },
    {
      "cell_type": "markdown",
      "metadata": {},
      "source": [
        "Después de revisar ambas listas, podemos ver que todos los elementos de la Lista 1 tienen una correspondencia directa en la Lista 2, aunque algunos términos están expresados de manera diferente o más detallada en la Lista 1. Por lo tanto, decidimos eliminar los duplicados."
      ]
    },
    {
      "cell_type": "code",
      "execution_count": 33,
      "metadata": {},
      "outputs": [
        {
          "data": {
            "text/html": [
              "<div>\n",
              "<style scoped>\n",
              "    .dataframe tbody tr th:only-of-type {\n",
              "        vertical-align: middle;\n",
              "    }\n",
              "\n",
              "    .dataframe tbody tr th {\n",
              "        vertical-align: top;\n",
              "    }\n",
              "\n",
              "    .dataframe thead th {\n",
              "        text-align: right;\n",
              "    }\n",
              "</style>\n",
              "<table border=\"1\" class=\"dataframe\">\n",
              "  <thead>\n",
              "    <tr style=\"text-align: right;\">\n",
              "      <th></th>\n",
              "      <th>ID</th>\n",
              "      <th>Lista Amenities</th>\n",
              "    </tr>\n",
              "  </thead>\n",
              "  <tbody>\n",
              "    <tr>\n",
              "      <th>0</th>\n",
              "      <td>178456</td>\n",
              "      <td>['Vistas al canal', 'Vistas al lago', 'Secador...</td>\n",
              "    </tr>\n",
              "    <tr>\n",
              "      <th>1</th>\n",
              "      <td>238799</td>\n",
              "      <td>['Vistas a la playa', 'Vistas al perfil urbano...</td>\n",
              "    </tr>\n",
              "    <tr>\n",
              "      <th>2</th>\n",
              "      <td>291211</td>\n",
              "      <td>['Vistas al perfil urbano', 'Bañera', 'Secador...</td>\n",
              "    </tr>\n",
              "    <tr>\n",
              "      <th>3</th>\n",
              "      <td>328541</td>\n",
              "      <td>['Vistas al patio', 'Vistas al perfil urbano',...</td>\n",
              "    </tr>\n",
              "    <tr>\n",
              "      <th>4</th>\n",
              "      <td>441930</td>\n",
              "      <td>['Secador de pelo', 'Agua caliente', 'Lavadora...</td>\n",
              "    </tr>\n",
              "    <tr>\n",
              "      <th>...</th>\n",
              "      <td>...</td>\n",
              "      <td>...</td>\n",
              "    </tr>\n",
              "    <tr>\n",
              "      <th>18439</th>\n",
              "      <td>3701970</td>\n",
              "      <td>{TV,\"Air conditioning\",Kitchen,\"Smoking allowe...</td>\n",
              "    </tr>\n",
              "    <tr>\n",
              "      <th>18440</th>\n",
              "      <td>3809219</td>\n",
              "      <td>{TV,\"Cable TV\",Internet,Wifi,\"Air conditioning...</td>\n",
              "    </tr>\n",
              "    <tr>\n",
              "      <th>18441</th>\n",
              "      <td>4845783</td>\n",
              "      <td>{TV,Internet,Wifi,Pool,Kitchen,Elevator,\"Free ...</td>\n",
              "    </tr>\n",
              "    <tr>\n",
              "      <th>18442</th>\n",
              "      <td>2495345</td>\n",
              "      <td>{\"Wireless Internet\",Kitchen,\"Buzzer/wireless ...</td>\n",
              "    </tr>\n",
              "    <tr>\n",
              "      <th>18443</th>\n",
              "      <td>23441002</td>\n",
              "      <td>{TV,Wifi,\"Air conditioning\",Kitchen,\"Paid park...</td>\n",
              "    </tr>\n",
              "  </tbody>\n",
              "</table>\n",
              "<p>18279 rows × 2 columns</p>\n",
              "</div>"
            ],
            "text/plain": [
              "             ID                                    Lista Amenities\n",
              "0        178456  ['Vistas al canal', 'Vistas al lago', 'Secador...\n",
              "1        238799  ['Vistas a la playa', 'Vistas al perfil urbano...\n",
              "2        291211  ['Vistas al perfil urbano', 'Bañera', 'Secador...\n",
              "3        328541  ['Vistas al patio', 'Vistas al perfil urbano',...\n",
              "4        441930  ['Secador de pelo', 'Agua caliente', 'Lavadora...\n",
              "...         ...                                                ...\n",
              "18439   3701970  {TV,\"Air conditioning\",Kitchen,\"Smoking allowe...\n",
              "18440   3809219  {TV,\"Cable TV\",Internet,Wifi,\"Air conditioning...\n",
              "18441   4845783  {TV,Internet,Wifi,Pool,Kitchen,Elevator,\"Free ...\n",
              "18442   2495345  {\"Wireless Internet\",Kitchen,\"Buzzer/wireless ...\n",
              "18443  23441002  {TV,Wifi,\"Air conditioning\",Kitchen,\"Paid park...\n",
              "\n",
              "[18279 rows x 2 columns]"
            ]
          },
          "execution_count": 33,
          "metadata": {},
          "output_type": "execute_result"
        }
      ],
      "source": [
        "#Eliminamos ID´s duplicados\n",
        "df.drop_duplicates(subset=['ID'])"
      ]
    },
    {
      "cell_type": "markdown",
      "metadata": {},
      "source": [
        "Limpiamos el df con los datos de Airbnb y WhiteHosting"
      ]
    },
    {
      "cell_type": "code",
      "execution_count": 34,
      "metadata": {},
      "outputs": [],
      "source": [
        "import ast\n",
        "\n",
        "#Convertimos la columna 'Lista Amenities' de string a lista\n",
        "def safe_literal_eval(val):\n",
        "    try:\n",
        "        #Intentamos evaluar la cadena como una lista\n",
        "        evaluated = ast.literal_eval(val)\n",
        "        #Aseguramos que el resultado sea una lista\n",
        "        if isinstance(evaluated, list):\n",
        "            return evaluated\n",
        "        else:\n",
        "            return val  #Devolvemos el valor original si no es una lista válida\n",
        "    except (ValueError, SyntaxError):\n",
        "        return val  #Devolvemos el valor original si ocurre un error\n",
        "\n",
        "df[\"Lista Amenities\"] = df[\"Lista Amenities\"].apply(safe_literal_eval)\n",
        "\n",
        "#Definimos una función para limpiar los amenities de los \"No disponible\"\n",
        "def limpiar_amenities(amenities):\n",
        "    if isinstance(amenities, list):\n",
        "        #Filtramos los amenities que no contienen 'No disponible'\n",
        "        cleaned_amenities = [amenity for amenity in amenities if 'No disponible' not in amenity]\n",
        "        return cleaned_amenities\n",
        "    else:\n",
        "        return amenities\n",
        "\n",
        "#Aplicamos la función a la columna 'Lista Amenities'\n",
        "df[\"Lista Amenities\"] = df[\"Lista Amenities\"].apply(limpiar_amenities)"
      ]
    },
    {
      "cell_type": "code",
      "execution_count": 35,
      "metadata": {
        "colab": {
          "base_uri": "https://localhost:8080/"
        },
        "collapsed": true,
        "id": "CnKp2mpe3t6a",
        "outputId": "63790eb9-84ae-4fac-fe5e-8cf471da9495"
      },
      "outputs": [
        {
          "data": {
            "text/plain": [
              "['Vistas al canal',\n",
              " 'Vistas al lago',\n",
              " 'Secador de pelo',\n",
              " 'Champú',\n",
              " 'Agua caliente',\n",
              " 'Lavadora en el alojamiento (Gratis)',\n",
              " 'Servicios básicosToallas, sábanas, jabón y papel higiénico',\n",
              " 'Perchas',\n",
              " 'Ropa de cama',\n",
              " 'Almohadas y mantas adicionales',\n",
              " 'Plancha',\n",
              " 'TV',\n",
              " 'Cuna',\n",
              " 'Parque/cunas de viaje',\n",
              " 'Libros y juguetes para niños',\n",
              " 'Trona',\n",
              " 'Calefacción',\n",
              " 'Wifi',\n",
              " 'Zona para trabajarEn una habitación con puerta',\n",
              " 'CocinaCocina disponible para el uso de los huéspedes',\n",
              " 'Frigorífico',\n",
              " 'Microondas',\n",
              " 'Utensilios básicos de cocinaCazuelas y sartenes, aceite, sal y pimienta',\n",
              " 'Platos y cubiertosCuencos, palillos, platos, tazas, etc.',\n",
              " 'Lavavajillas',\n",
              " 'Cocina de gas',\n",
              " 'Horno',\n",
              " 'Cafetera',\n",
              " 'Acceso a la playa, primera líneaLos huéspedes pueden disfrutar de una playa cercana',\n",
              " 'Acceso al lagoLos huéspedes pueden llegar a un lago a través de un sendero o un muelle',\n",
              " 'Entrada independienteEntrada por otra calle o edificio',\n",
              " 'Patio o balcón (privada)',\n",
              " 'Patio trasero privado: Con valla en todo el perímetroUn espacio abierto en la propiedad generalmente cubierto de césped',\n",
              " 'Mobiliario exterior',\n",
              " 'Hamaca',\n",
              " 'Comedor al aire libre',\n",
              " 'Barbacoa',\n",
              " 'Aparcamiento gratuito en las instalaciones',\n",
              " 'Aparcamiento gratuito en la calle',\n",
              " 'Cargador para coches eléctricosLos huéspedes pueden cargar sus vehículos eléctricos en la propiedad',\n",
              " 'Apto para fumadores',\n",
              " 'Llegada autónoma',\n",
              " 'Caja de seguridad para llaves']"
            ]
          },
          "execution_count": 35,
          "metadata": {},
          "output_type": "execute_result"
        }
      ],
      "source": [
        "#Comprobamos si ha funcionado (OK)\n",
        "df.iloc[0][\"Lista Amenities\"]"
      ]
    },
    {
      "cell_type": "code",
      "execution_count": 36,
      "metadata": {},
      "outputs": [
        {
          "data": {
            "text/plain": [
              "'{TV,Kitchen,\"Free parking on premises\",\"Paid parking off premises\",\"Smoking allowed\",\"Free street parking\",Washer,\"First aid kit\",Hangers,\"Hair dryer\",Iron,\"Laptop friendly workspace\",\"Hot water\",\"Bed linens\",Microwave,\"Coffee maker\",Refrigerator,\"Dishes and silverware\",\"Cooking basics\",Oven,Stove,\"Cleaning before checkout\",\"Disabled parking spot\",Beachfront}'"
            ]
          },
          "execution_count": 36,
          "metadata": {},
          "output_type": "execute_result"
        }
      ],
      "source": [
        "#Comprobamos si ha funcionado (OK)\n",
        "df.iloc[12888][\"Lista Amenities\"]"
      ]
    },
    {
      "cell_type": "markdown",
      "metadata": {},
      "source": [
        "## Crear una copia de seguridad"
      ]
    },
    {
      "cell_type": "code",
      "execution_count": 37,
      "metadata": {},
      "outputs": [],
      "source": [
        "df_backup = df.copy()\n",
        "\n",
        "# Opcionalmente, puedes guardar esta copia en un archivo CSV para mayor seguridad\n",
        "df_backup.to_csv('backup_df_amenities.csv', index=False)\n"
      ]
    },
    {
      "cell_type": "markdown",
      "metadata": {
        "id": "PSv9Qflm6CxT"
      },
      "source": [
        "## Crear nuevo df con las columnas definidas"
      ]
    },
    {
      "cell_type": "code",
      "execution_count": 38,
      "metadata": {
        "id": "Ca3Wxt1G4dZM"
      },
      "outputs": [
        {
          "data": {
            "text/html": [
              "<div>\n",
              "<style scoped>\n",
              "    .dataframe tbody tr th:only-of-type {\n",
              "        vertical-align: middle;\n",
              "    }\n",
              "\n",
              "    .dataframe tbody tr th {\n",
              "        vertical-align: top;\n",
              "    }\n",
              "\n",
              "    .dataframe thead th {\n",
              "        text-align: right;\n",
              "    }\n",
              "</style>\n",
              "<table border=\"1\" class=\"dataframe\">\n",
              "  <thead>\n",
              "    <tr style=\"text-align: right;\">\n",
              "      <th></th>\n",
              "      <th>ID</th>\n",
              "      <th>Vistas</th>\n",
              "      <th>Primera línea</th>\n",
              "      <th>Wifi</th>\n",
              "      <th>Aire acondicionado</th>\n",
              "      <th>Aparcamiento</th>\n",
              "    </tr>\n",
              "  </thead>\n",
              "  <tbody>\n",
              "    <tr>\n",
              "      <th>0</th>\n",
              "      <td>178456</td>\n",
              "      <td>Vistas al canal</td>\n",
              "      <td>Acceso a la playa, primera líneaLos huéspedes ...</td>\n",
              "      <td>Wifi</td>\n",
              "      <td>No disponible</td>\n",
              "      <td>Aparcamiento gratuito en las instalaciones</td>\n",
              "    </tr>\n",
              "    <tr>\n",
              "      <th>1</th>\n",
              "      <td>238799</td>\n",
              "      <td>Vistas a la playa</td>\n",
              "      <td>Acceso a la playa, primera líneaLos huéspedes ...</td>\n",
              "      <td>Wifi</td>\n",
              "      <td>Aire acondicionado</td>\n",
              "      <td>Aparcamiento gratuito en la calle</td>\n",
              "    </tr>\n",
              "    <tr>\n",
              "      <th>2</th>\n",
              "      <td>291211</td>\n",
              "      <td>No disponible</td>\n",
              "      <td>No disponible</td>\n",
              "      <td>Wifi</td>\n",
              "      <td>Aire acondicionado centralizado</td>\n",
              "      <td>Aparcamiento gratuito en las instalaciones</td>\n",
              "    </tr>\n",
              "    <tr>\n",
              "      <th>3</th>\n",
              "      <td>328541</td>\n",
              "      <td>No disponible</td>\n",
              "      <td>No disponible</td>\n",
              "      <td>Wifi</td>\n",
              "      <td>Sistema de aire acondicionado sin conductos ti...</td>\n",
              "      <td>No disponible</td>\n",
              "    </tr>\n",
              "    <tr>\n",
              "      <th>4</th>\n",
              "      <td>441930</td>\n",
              "      <td>No disponible</td>\n",
              "      <td>Acceso a la playa, primera líneaLos huéspedes ...</td>\n",
              "      <td>Wifi</td>\n",
              "      <td>No disponible</td>\n",
              "      <td>Aparcamiento gratuito en la calle</td>\n",
              "    </tr>\n",
              "  </tbody>\n",
              "</table>\n",
              "</div>"
            ],
            "text/plain": [
              "       ID             Vistas  \\\n",
              "0  178456    Vistas al canal   \n",
              "1  238799  Vistas a la playa   \n",
              "2  291211      No disponible   \n",
              "3  328541      No disponible   \n",
              "4  441930      No disponible   \n",
              "\n",
              "                                       Primera línea  Wifi  \\\n",
              "0  Acceso a la playa, primera líneaLos huéspedes ...  Wifi   \n",
              "1  Acceso a la playa, primera líneaLos huéspedes ...  Wifi   \n",
              "2                                      No disponible  Wifi   \n",
              "3                                      No disponible  Wifi   \n",
              "4  Acceso a la playa, primera líneaLos huéspedes ...  Wifi   \n",
              "\n",
              "                                  Aire acondicionado  \\\n",
              "0                                      No disponible   \n",
              "1                                 Aire acondicionado   \n",
              "2                    Aire acondicionado centralizado   \n",
              "3  Sistema de aire acondicionado sin conductos ti...   \n",
              "4                                      No disponible   \n",
              "\n",
              "                                 Aparcamiento  \n",
              "0  Aparcamiento gratuito en las instalaciones  \n",
              "1           Aparcamiento gratuito en la calle  \n",
              "2  Aparcamiento gratuito en las instalaciones  \n",
              "3                               No disponible  \n",
              "4           Aparcamiento gratuito en la calle  "
            ]
          },
          "execution_count": 38,
          "metadata": {},
          "output_type": "execute_result"
        }
      ],
      "source": [
        "#Función para encontrar valores específicos en 'Lista Amenities'\n",
        "def buscar_amenity(amenities, keywords):\n",
        "    #Verificamos si amenities es una lista válida\n",
        "    if isinstance(amenities, list):\n",
        "        for amenity in amenities:\n",
        "            for keyword in keywords:\n",
        "                if keyword.lower() in str(amenity).lower():\n",
        "                    return amenity\n",
        "    return \"No disponible\"\n",
        "\n",
        "#Definimos las listas de palabras clave para cada nueva columna\n",
        "vistas_keywords = [\"Vistas al canal\", \"Vistas al mar\", \"Vistas al lago\", \"Vistas a la playa\", \"Vistas a la montaña\", \"Vistas al puerto\", \"View\"]\n",
        "primera_linea_keywords = [\"Primera línea\", \"First line\"]\n",
        "wifi_keywords = [\"Wifi\"]\n",
        "aire_acondicionado_keywords = [\"Aire acondicionado\", \"Air conditioning\"]\n",
        "aparcamiento_keywords = [\"aparcamiento\", \"parking\"]\n",
        "\n",
        "#Creamos el nuevo DataFrame con las columnas requeridas\n",
        "nuevo_data = {\n",
        "    \"ID\": df[\"ID\"],\n",
        "    \"Vistas\": df[\"Lista Amenities\"].apply(lambda x: buscar_amenity(x, vistas_keywords)),\n",
        "    \"Primera línea\": df[\"Lista Amenities\"].apply(lambda x: buscar_amenity(x, primera_linea_keywords)),\n",
        "    \"Wifi\": df[\"Lista Amenities\"].apply(lambda x: buscar_amenity(x, wifi_keywords)),\n",
        "    \"Aire acondicionado\": df[\"Lista Amenities\"].apply(lambda x: buscar_amenity(x, aire_acondicionado_keywords)),\n",
        "    \"Aparcamiento\": df[\"Lista Amenities\"].apply(lambda x: buscar_amenity(x, aparcamiento_keywords))\n",
        "}\n",
        "\n",
        "df_nuevo = pd.DataFrame(nuevo_data)\n",
        "\n",
        "df_nuevo.head()"
      ]
    },
    {
      "cell_type": "code",
      "execution_count": 39,
      "metadata": {
        "id": "z78DY1Nu8Yyv"
      },
      "outputs": [],
      "source": [
        "df1 = df_nuevo.copy()"
      ]
    },
    {
      "cell_type": "code",
      "execution_count": 40,
      "metadata": {},
      "outputs": [],
      "source": [
        "#Guardamos el df_nuevo en CSV por si lo nesesitamos\n",
        "df_nuevo.to_csv('amenitiesALL_sin limpiar.csv', index=False)"
      ]
    },
    {
      "cell_type": "code",
      "execution_count": 170,
      "metadata": {},
      "outputs": [],
      "source": [
        "#Cargar datos (Opcional)\n",
        "df1 = pd.read_csv(\"C:\\\\Users\\\\Usuario\\\\OneDrive\\\\Documentos\\\\GitHub\\\\WhiteHosting\\\\Zsofia\\\\amenitiesALL_sin limpiar.csv\")"
      ]
    },
    {
      "cell_type": "markdown",
      "metadata": {
        "id": "ISxrg4Ig6MfC"
      },
      "source": [
        "## Limpiar df_nuevo"
      ]
    },
    {
      "cell_type": "markdown",
      "metadata": {
        "id": "RuUKDlfk_Nhw"
      },
      "source": [
        "### 1) \"Vistas\""
      ]
    },
    {
      "cell_type": "code",
      "execution_count": 171,
      "metadata": {
        "colab": {
          "base_uri": "https://localhost:8080/"
        },
        "id": "5x3cQ78T-w-J",
        "outputId": "3be7e36c-e77a-4022-fbac-00a5ae74d3e2"
      },
      "outputs": [
        {
          "data": {
            "text/plain": [
              "array(['Vistas al canal', 'Vistas a la playa', 'No disponible',\n",
              "       'Vistas al mar', 'Vistas a la montaña', 'Vistas al puerto',\n",
              "       'Vistas al puerto deportivo', 'Vistas al lago',\n",
              "       'Cámaras de seguridad en los exteriores de la propiedadThere are two security cameras in the aisle outside of the guests room and there is no acces and view to privet parts such as guests room.'],\n",
              "      dtype=object)"
            ]
          },
          "execution_count": 171,
          "metadata": {},
          "output_type": "execute_result"
        }
      ],
      "source": [
        "df1['Vistas'].unique()"
      ]
    },
    {
      "cell_type": "code",
      "execution_count": 172,
      "metadata": {
        "id": "QKgBkXai_Ley"
      },
      "outputs": [],
      "source": [
        "#Reemplazar el nombre \"Vistas al puerto deportivo\" por \"Vistas al puerto\"\n",
        "df1['Vistas'] = df1['Vistas'].replace('Vistas al puerto deportivo', 'Vistas al puerto')\n",
        "\n",
        "#Reemplazar el nombre \"Cámaras de seguriad....\" por \"No disponible\"\n",
        "df1['Vistas'] = df1['Vistas'].replace('Cámaras de seguridad en los exteriores de la propiedadThere are two security cameras in the aisle outside of the guests room and there is no acces and view to privet parts such as guests room.', 'No disponible')"
      ]
    },
    {
      "cell_type": "code",
      "execution_count": 173,
      "metadata": {},
      "outputs": [],
      "source": [
        "#Añadir una columna más con Vistas Sí o No\n",
        "df1['Vistas Sí/No'] = df1['Vistas'].apply(lambda x: 'Sí' if x != 'No disponible' else 'No')"
      ]
    },
    {
      "cell_type": "markdown",
      "metadata": {
        "id": "j-E29zVI_e9F"
      },
      "source": [
        "### 2) \"Primera línea\""
      ]
    },
    {
      "cell_type": "code",
      "execution_count": 174,
      "metadata": {
        "id": "BQYpj9NP40Ve"
      },
      "outputs": [],
      "source": [
        "#Limpiar la columna \"Primera línea\"\n",
        "df1['Primera línea'] = df1['Primera línea'].str.split('Los huéspedes').str[0]\n"
      ]
    },
    {
      "cell_type": "code",
      "execution_count": 175,
      "metadata": {
        "colab": {
          "base_uri": "https://localhost:8080/"
        },
        "id": "MBno8rvW9zr3",
        "outputId": "d7a92c15-acac-4728-80a8-1254ee56956b"
      },
      "outputs": [
        {
          "data": {
            "text/plain": [
              "array(['Acceso a la playa, primera línea', 'No disponible',\n",
              "       'Acceso compartido a la playa (primera línea)',\n",
              "       'Acceso privado a la playa (primera línea)'], dtype=object)"
            ]
          },
          "execution_count": 175,
          "metadata": {},
          "output_type": "execute_result"
        }
      ],
      "source": [
        "df1['Primera línea'].unique()"
      ]
    },
    {
      "cell_type": "code",
      "execution_count": 176,
      "metadata": {
        "id": "vavqM6Xw96N6"
      },
      "outputs": [],
      "source": [
        "#Decidimos solo diferenciar si tiene acceso a la playa o no\n",
        "df1['Primera línea'] = df1['Primera línea'].map({'No disponible': 'No',\n",
        "                                                 'Acceso a la playa, primera línea': 'Sí',\n",
        "                                                 'Acceso compartido a la playa (primera línea)': 'Sí',\n",
        "                                                 'Acceso privado a la playa (primera línea)': 'Sí'})"
      ]
    },
    {
      "cell_type": "markdown",
      "metadata": {
        "id": "UV17PiMC_qDm"
      },
      "source": [
        "### 3) \"Wifi\""
      ]
    },
    {
      "cell_type": "code",
      "execution_count": 177,
      "metadata": {
        "id": "IvT-1kCS-nvj"
      },
      "outputs": [],
      "source": [
        "#Decidimos solo diferenciar si tiene Wifi o no\n",
        "df1['Wifi'] = df1['Wifi'].map({'No disponible': 'No',\n",
        "                               'Wifi': 'Sí'})"
      ]
    },
    {
      "cell_type": "code",
      "execution_count": 178,
      "metadata": {
        "colab": {
          "base_uri": "https://localhost:8080/"
        },
        "id": "d1xiWEh7ADaT",
        "outputId": "27355abd-53a2-46e3-8403-181f52651e76"
      },
      "outputs": [
        {
          "data": {
            "text/plain": [
              "671"
            ]
          },
          "execution_count": 178,
          "metadata": {},
          "output_type": "execute_result"
        }
      ],
      "source": [
        "df1['Wifi'].isna().sum()"
      ]
    },
    {
      "cell_type": "code",
      "execution_count": 179,
      "metadata": {
        "id": "vxibJH91BlXQ"
      },
      "outputs": [
        {
          "name": "stderr",
          "output_type": "stream",
          "text": [
            "C:\\Users\\Usuario\\AppData\\Local\\Temp\\ipykernel_13280\\626750077.py:2: FutureWarning: A value is trying to be set on a copy of a DataFrame or Series through chained assignment using an inplace method.\n",
            "The behavior will change in pandas 3.0. This inplace method will never work because the intermediate object on which we are setting values always behaves as a copy.\n",
            "\n",
            "For example, when doing 'df[col].method(value, inplace=True)', try using 'df.method({col: value}, inplace=True)' or df[col] = df[col].method(value) instead, to perform the operation inplace on the original object.\n",
            "\n",
            "\n",
            "  df1['Wifi'].fillna('No', inplace=True)\n"
          ]
        }
      ],
      "source": [
        "#Reemplazar los valores NaN por \"No\"\n",
        "df1['Wifi'].fillna('No', inplace=True)"
      ]
    },
    {
      "cell_type": "markdown",
      "metadata": {
        "id": "9nr0xi0hBr24"
      },
      "source": [
        "### 4) \"Aire acondicionado\""
      ]
    },
    {
      "cell_type": "code",
      "execution_count": 180,
      "metadata": {
        "colab": {
          "base_uri": "https://localhost:8080/"
        },
        "id": "yX6-iKAzB8_q",
        "outputId": "7da8c140-261a-4d53-986d-65ac2c15b436"
      },
      "outputs": [
        {
          "data": {
            "text/plain": [
              "array(['No disponible', 'Aire acondicionado',\n",
              "       'Aire acondicionado centralizado',\n",
              "       'Sistema de aire acondicionado sin conductos tipo split',\n",
              "       'Aire acondicionado de ventana', 'Aire acondicionado portátil',\n",
              "       'Air conditioning', 'Portable air conditioning',\n",
              "       'Central air conditioning'], dtype=object)"
            ]
          },
          "execution_count": 180,
          "metadata": {},
          "output_type": "execute_result"
        }
      ],
      "source": [
        "df1['Aire acondicionado'].unique()"
      ]
    },
    {
      "cell_type": "code",
      "execution_count": 181,
      "metadata": {
        "id": "CjyMQuNxBq6M"
      },
      "outputs": [],
      "source": [
        "#Decidimos solo diferenciar si tiene Aire acondicionado o no\n",
        "df1['Aire acondicionado'] = df1['Aire acondicionado'].map({'No disponible': 'No',\n",
        "                                                           'Aire acondicionado': 'Sí',\n",
        "                                                           'Aire acondicionado centralizado': 'Sí',\n",
        "                                                           'Sistema de aire acondicionado sin conductos tipo split': 'Sí',\n",
        "                                                           'Aire acondicionado de ventana': 'Sí',\n",
        "                                                           'Aire acondicionado portátil': 'Sí',\n",
        "                                                           'Air conditioning': 'Sí',\n",
        "                                                           'Portable air conditioning': 'Sí',\n",
        "                                                           'Central air conditioning': 'Sí'})"
      ]
    },
    {
      "cell_type": "markdown",
      "metadata": {
        "id": "opTt6ioOCgVN"
      },
      "source": [
        "### 5) \"Aparcamiento\""
      ]
    },
    {
      "cell_type": "code",
      "execution_count": 182,
      "metadata": {
        "id": "sP8NOYB9Ceij"
      },
      "outputs": [
        {
          "data": {
            "text/plain": [
              "array(['Aparcamiento gratuito en las instalaciones',\n",
              "       'Aparcamiento gratuito en la calle', 'No disponible',\n",
              "       'Aparcamiento de pago en garaje fuera de la propiedad',\n",
              "       'Aparcamiento de pago fuera de las instalaciones',\n",
              "       'Aparcamiento gratuito en un garaje residencial en la propiedad: 1\\xa0plaza',\n",
              "       'Aparcamiento gratuito en garaje en la propiedad',\n",
              "       'Aparcamiento de pago en la propiedad',\n",
              "       'Aparcamiento de pago en las instalaciones',\n",
              "       'Aparcamiento de pago fuera de la propiedad',\n",
              "       'Aparcamiento gratuito en la entrada dentro de la propiedad: 2\\xa0plazas',\n",
              "       'Aparcamiento techado gratuito en la propiedad: 4\\xa0plazas',\n",
              "       'Aparcamiento gratuito en la entrada dentro de la propiedad: 1\\xa0plaza',\n",
              "       'Aparcamiento gratuito en un garaje residencial en la propiedad: 2\\xa0plazas',\n",
              "       'Aparcamiento gratuito en garaje en la propiedad: 1\\xa0plaza',\n",
              "       'Aparcamiento techado gratuito en la propiedad: 1\\xa0plaza',\n",
              "       'Aparcamiento gratuito en la propiedad: 1\\xa0plaza',\n",
              "       'Aparcamiento de pago en la calle fuera de la propiedad',\n",
              "       'Aparcamiento gratuito en la entrada dentro de la propiedad',\n",
              "       'Aparcamiento gratuito en un garaje residencial en la propiedad',\n",
              "       'Cámaras de seguridad en los exteriores de la propiedadZona piscina y su acceso. Pasillos exteriores. Zona parking y sus accesos. Bar piscina.',\n",
              "       'Aparcamiento de pago en la propiedad: 1\\xa0plaza',\n",
              "       'Aparcamiento gratuito en la propiedad: 4\\xa0plazas',\n",
              "       'Aparcamiento gratuito en la propiedad: 7\\xa0plazas',\n",
              "       'Aparcamiento gratuito en la entrada dentro de la propiedad: 5\\xa0plazas',\n",
              "       'Aparcamiento gratuito en la entrada dentro de la propiedad: 4\\xa0plazas',\n",
              "       'Aparcamiento techado gratuito en la propiedad: 2\\xa0plazas',\n",
              "       'Aparcamiento de pago en garaje en la propiedad',\n",
              "       'Aparcamiento de pago en garaje en la propiedad: 1\\xa0plaza',\n",
              "       'Cámaras de seguridad en los exteriores de la propiedadNo hi ha cameras, sólo en el parking',\n",
              "       'Aparcamiento de pago en garaje en la propiedad: 6\\xa0plazas',\n",
              "       'Aparcamiento techado gratuito en la propiedad',\n",
              "       'Cámaras de seguridad en los exteriores de la propiedadParking, zonas comunes',\n",
              "       'Aparcamiento de pago en garaje en la propiedad: 8\\xa0plazas',\n",
              "       'Aparcamiento de pago en garaje en la propiedad: 2\\xa0plazas',\n",
              "       'Cámaras de seguridad en los exteriores de la propiedadCámaras en la zona de entrada y parking',\n",
              "       'Aparcamiento gratuito en la entrada dentro de la propiedad: 6\\xa0plazas',\n",
              "       'Aparcamiento gratuito en garaje en la propiedad: 100\\xa0plazas',\n",
              "       'Aparcamiento gratuito en la entrada dentro de la propiedad: 3\\xa0plazas',\n",
              "       'Aparcamiento gratuito en garaje en la propiedad: 2\\xa0plazas',\n",
              "       'Aparcamiento gratuito en la propiedad: 8\\xa0plazas',\n",
              "       'Aparcamiento gratuito en la propiedad: 100\\xa0plazas',\n",
              "       'Aparcamiento gratuito en la entrada dentro de la propiedad: 10\\xa0plazas',\n",
              "       'Aparcamiento gratuito en la entrada dentro de la propiedad: 20\\xa0plazas',\n",
              "       'Aparcamiento gratuito en la propiedad: 10\\xa0plazas',\n",
              "       'Aparcamiento gratuito en la entrada dentro de la propiedad: 7\\xa0plazas',\n",
              "       'Cámaras de seguridad en los exteriores de la propiedadEn el aparcamiento',\n",
              "       'Free parking on premises', 'Free street parking',\n",
              "       'Paid parking off premises', 'Paid parking on premises',\n",
              "       'Paid parking garage off premises', 'Parking',\n",
              "       'Paid parking garage on premises – 1 space',\n",
              "       'Paid parking garage on premises',\n",
              "       'Free driveway parking on premises – 1 space'], dtype=object)"
            ]
          },
          "execution_count": 182,
          "metadata": {},
          "output_type": "execute_result"
        }
      ],
      "source": [
        "df1['Aparcamiento'].unique()"
      ]
    },
    {
      "cell_type": "code",
      "execution_count": 183,
      "metadata": {
        "colab": {
          "base_uri": "https://localhost:8080/"
        },
        "id": "XhhlMZdhDPuI",
        "outputId": "69a78b2e-79f2-4b31-89fd-df4e81654278"
      },
      "outputs": [
        {
          "name": "stdout",
          "output_type": "stream",
          "text": [
            "['Gratuito' 'No disponible' 'De pago']\n"
          ]
        }
      ],
      "source": [
        "def simplificar_aparcamiento(valor):\n",
        "    if isinstance(valor, str):\n",
        "        if 'gratuito' in valor.lower() or 'free' in valor.lower():\n",
        "            return 'Gratuito'\n",
        "        elif 'de pago' in valor.lower() or 'paid' in valor.lower():\n",
        "            return 'De pago'\n",
        "    return 'No disponible'\n",
        "\n",
        "#Aplicar la función\n",
        "df1['Aparcamiento'] = df1['Aparcamiento'].apply(simplificar_aparcamiento)\n",
        "\n",
        "#Imprimir los valores únicos para comprobar\n",
        "print(df1['Aparcamiento'].unique())"
      ]
    },
    {
      "cell_type": "code",
      "execution_count": 184,
      "metadata": {},
      "outputs": [],
      "source": [
        "#Añadimos una columna más con Aparcamiento Sí o No\n",
        "df1['Aparcamiento Sí/No'] = df1['Aparcamiento'].apply(lambda x: 'Sí' if x != 'No disponible' else 'No')"
      ]
    },
    {
      "cell_type": "code",
      "execution_count": 185,
      "metadata": {},
      "outputs": [
        {
          "data": {
            "text/html": [
              "<div>\n",
              "<style scoped>\n",
              "    .dataframe tbody tr th:only-of-type {\n",
              "        vertical-align: middle;\n",
              "    }\n",
              "\n",
              "    .dataframe tbody tr th {\n",
              "        vertical-align: top;\n",
              "    }\n",
              "\n",
              "    .dataframe thead th {\n",
              "        text-align: right;\n",
              "    }\n",
              "</style>\n",
              "<table border=\"1\" class=\"dataframe\">\n",
              "  <thead>\n",
              "    <tr style=\"text-align: right;\">\n",
              "      <th></th>\n",
              "      <th>ID</th>\n",
              "      <th>Vistas</th>\n",
              "      <th>Primera línea</th>\n",
              "      <th>Wifi</th>\n",
              "      <th>Aire acondicionado</th>\n",
              "      <th>Aparcamiento</th>\n",
              "      <th>Vistas Sí/No</th>\n",
              "      <th>Aparcamiento Sí/No</th>\n",
              "    </tr>\n",
              "  </thead>\n",
              "  <tbody>\n",
              "    <tr>\n",
              "      <th>0</th>\n",
              "      <td>178456</td>\n",
              "      <td>Vistas al canal</td>\n",
              "      <td>Sí</td>\n",
              "      <td>Sí</td>\n",
              "      <td>No</td>\n",
              "      <td>Gratuito</td>\n",
              "      <td>Sí</td>\n",
              "      <td>Sí</td>\n",
              "    </tr>\n",
              "    <tr>\n",
              "      <th>1</th>\n",
              "      <td>238799</td>\n",
              "      <td>Vistas a la playa</td>\n",
              "      <td>Sí</td>\n",
              "      <td>Sí</td>\n",
              "      <td>Sí</td>\n",
              "      <td>Gratuito</td>\n",
              "      <td>Sí</td>\n",
              "      <td>Sí</td>\n",
              "    </tr>\n",
              "  </tbody>\n",
              "</table>\n",
              "</div>"
            ],
            "text/plain": [
              "       ID             Vistas Primera línea Wifi Aire acondicionado  \\\n",
              "0  178456    Vistas al canal            Sí   Sí                 No   \n",
              "1  238799  Vistas a la playa            Sí   Sí                 Sí   \n",
              "\n",
              "  Aparcamiento Vistas Sí/No Aparcamiento Sí/No  \n",
              "0     Gratuito           Sí                 Sí  \n",
              "1     Gratuito           Sí                 Sí  "
            ]
          },
          "execution_count": 185,
          "metadata": {},
          "output_type": "execute_result"
        }
      ],
      "source": [
        "df1.head(2)"
      ]
    },
    {
      "cell_type": "markdown",
      "metadata": {},
      "source": [
        "## Reorganizamos las columnas"
      ]
    },
    {
      "cell_type": "code",
      "execution_count": 186,
      "metadata": {},
      "outputs": [],
      "source": [
        "df_amenities_final = df1[['ID', 'Vistas Sí/No', 'Vistas', 'Primera línea', 'Wifi', 'Aire acondicionado', 'Aparcamiento Sí/No', 'Aparcamiento']]"
      ]
    },
    {
      "cell_type": "code",
      "execution_count": 187,
      "metadata": {},
      "outputs": [
        {
          "data": {
            "text/html": [
              "<div>\n",
              "<style scoped>\n",
              "    .dataframe tbody tr th:only-of-type {\n",
              "        vertical-align: middle;\n",
              "    }\n",
              "\n",
              "    .dataframe tbody tr th {\n",
              "        vertical-align: top;\n",
              "    }\n",
              "\n",
              "    .dataframe thead th {\n",
              "        text-align: right;\n",
              "    }\n",
              "</style>\n",
              "<table border=\"1\" class=\"dataframe\">\n",
              "  <thead>\n",
              "    <tr style=\"text-align: right;\">\n",
              "      <th></th>\n",
              "      <th>ID</th>\n",
              "      <th>Vistas Sí/No</th>\n",
              "      <th>Vistas</th>\n",
              "      <th>Primera línea</th>\n",
              "      <th>Wifi</th>\n",
              "      <th>Aire acondicionado</th>\n",
              "      <th>Aparcamiento Sí/No</th>\n",
              "      <th>Aparcamiento</th>\n",
              "    </tr>\n",
              "  </thead>\n",
              "  <tbody>\n",
              "    <tr>\n",
              "      <th>0</th>\n",
              "      <td>178456</td>\n",
              "      <td>Sí</td>\n",
              "      <td>Vistas al canal</td>\n",
              "      <td>Sí</td>\n",
              "      <td>Sí</td>\n",
              "      <td>No</td>\n",
              "      <td>Sí</td>\n",
              "      <td>Gratuito</td>\n",
              "    </tr>\n",
              "    <tr>\n",
              "      <th>1</th>\n",
              "      <td>238799</td>\n",
              "      <td>Sí</td>\n",
              "      <td>Vistas a la playa</td>\n",
              "      <td>Sí</td>\n",
              "      <td>Sí</td>\n",
              "      <td>Sí</td>\n",
              "      <td>Sí</td>\n",
              "      <td>Gratuito</td>\n",
              "    </tr>\n",
              "    <tr>\n",
              "      <th>2</th>\n",
              "      <td>291211</td>\n",
              "      <td>No</td>\n",
              "      <td>No disponible</td>\n",
              "      <td>No</td>\n",
              "      <td>Sí</td>\n",
              "      <td>Sí</td>\n",
              "      <td>Sí</td>\n",
              "      <td>Gratuito</td>\n",
              "    </tr>\n",
              "    <tr>\n",
              "      <th>3</th>\n",
              "      <td>328541</td>\n",
              "      <td>No</td>\n",
              "      <td>No disponible</td>\n",
              "      <td>No</td>\n",
              "      <td>Sí</td>\n",
              "      <td>Sí</td>\n",
              "      <td>No</td>\n",
              "      <td>No disponible</td>\n",
              "    </tr>\n",
              "    <tr>\n",
              "      <th>4</th>\n",
              "      <td>441930</td>\n",
              "      <td>No</td>\n",
              "      <td>No disponible</td>\n",
              "      <td>Sí</td>\n",
              "      <td>Sí</td>\n",
              "      <td>No</td>\n",
              "      <td>Sí</td>\n",
              "      <td>Gratuito</td>\n",
              "    </tr>\n",
              "  </tbody>\n",
              "</table>\n",
              "</div>"
            ],
            "text/plain": [
              "       ID Vistas Sí/No             Vistas Primera línea Wifi  \\\n",
              "0  178456           Sí    Vistas al canal            Sí   Sí   \n",
              "1  238799           Sí  Vistas a la playa            Sí   Sí   \n",
              "2  291211           No      No disponible            No   Sí   \n",
              "3  328541           No      No disponible            No   Sí   \n",
              "4  441930           No      No disponible            Sí   Sí   \n",
              "\n",
              "  Aire acondicionado Aparcamiento Sí/No   Aparcamiento  \n",
              "0                 No                 Sí       Gratuito  \n",
              "1                 Sí                 Sí       Gratuito  \n",
              "2                 Sí                 Sí       Gratuito  \n",
              "3                 Sí                 No  No disponible  \n",
              "4                 No                 Sí       Gratuito  "
            ]
          },
          "execution_count": 187,
          "metadata": {},
          "output_type": "execute_result"
        }
      ],
      "source": [
        "df_amenities_final.head(5)"
      ]
    },
    {
      "cell_type": "markdown",
      "metadata": {},
      "source": [
        "## Comprobamos los tipos de datos"
      ]
    },
    {
      "cell_type": "code",
      "execution_count": 188,
      "metadata": {},
      "outputs": [
        {
          "data": {
            "text/plain": [
              "ID                     int64\n",
              "Vistas Sí/No          object\n",
              "Vistas                object\n",
              "Primera línea         object\n",
              "Wifi                  object\n",
              "Aire acondicionado    object\n",
              "Aparcamiento Sí/No    object\n",
              "Aparcamiento          object\n",
              "dtype: object"
            ]
          },
          "execution_count": 188,
          "metadata": {},
          "output_type": "execute_result"
        }
      ],
      "source": [
        "df_amenities_final.dtypes"
      ]
    },
    {
      "cell_type": "code",
      "execution_count": 189,
      "metadata": {},
      "outputs": [],
      "source": [
        "#Convertir Sí/No a 1/0 y tipo int para poder realizar analisis cuantitativos más adelante\n",
        "df_amenities_final[\"Vistas Sí/No\"] = df_amenities_final[\"Vistas Sí/No\"].map({\"Sí\": 1, \"No\": 0}).astype(int)\n",
        "df_amenities_final[\"Primera línea\"] = df_amenities_final[\"Primera línea\"].map({\"Sí\": 1, \"No\": 0}).astype(int)\n",
        "df_amenities_final[\"Wifi\"] = df_amenities_final[\"Wifi\"].map({\"Sí\": 1, \"No\": 0}).astype(int)\n",
        "df_amenities_final[\"Aire acondicionado\"] = df_amenities_final[\"Aire acondicionado\"].map({\"Sí\": 1, \"No\": 0}).astype(int)\n",
        "df_amenities_final[\"Aparcamiento Sí/No\"] = df_amenities_final[\"Aparcamiento Sí/No\"].map({\"Sí\": 1, \"No\": 0}).astype(int)"
      ]
    },
    {
      "cell_type": "code",
      "execution_count": 190,
      "metadata": {},
      "outputs": [
        {
          "data": {
            "text/plain": [
              "ID                     int64\n",
              "Vistas Sí/No           int32\n",
              "Vistas                object\n",
              "Primera línea          int32\n",
              "Wifi                   int32\n",
              "Aire acondicionado     int32\n",
              "Aparcamiento Sí/No     int32\n",
              "Aparcamiento          object\n",
              "dtype: object"
            ]
          },
          "execution_count": 190,
          "metadata": {},
          "output_type": "execute_result"
        }
      ],
      "source": [
        "df_amenities_final.dtypes"
      ]
    },
    {
      "cell_type": "code",
      "execution_count": 191,
      "metadata": {},
      "outputs": [
        {
          "data": {
            "text/html": [
              "<div>\n",
              "<style scoped>\n",
              "    .dataframe tbody tr th:only-of-type {\n",
              "        vertical-align: middle;\n",
              "    }\n",
              "\n",
              "    .dataframe tbody tr th {\n",
              "        vertical-align: top;\n",
              "    }\n",
              "\n",
              "    .dataframe thead th {\n",
              "        text-align: right;\n",
              "    }\n",
              "</style>\n",
              "<table border=\"1\" class=\"dataframe\">\n",
              "  <thead>\n",
              "    <tr style=\"text-align: right;\">\n",
              "      <th></th>\n",
              "      <th>ID</th>\n",
              "      <th>Vistas Sí/No</th>\n",
              "      <th>Vistas</th>\n",
              "      <th>Primera línea</th>\n",
              "      <th>Wifi</th>\n",
              "      <th>Aire acondicionado</th>\n",
              "      <th>Aparcamiento Sí/No</th>\n",
              "      <th>Aparcamiento</th>\n",
              "    </tr>\n",
              "  </thead>\n",
              "  <tbody>\n",
              "    <tr>\n",
              "      <th>0</th>\n",
              "      <td>178456</td>\n",
              "      <td>1</td>\n",
              "      <td>Vistas al canal</td>\n",
              "      <td>1</td>\n",
              "      <td>1</td>\n",
              "      <td>0</td>\n",
              "      <td>1</td>\n",
              "      <td>Gratuito</td>\n",
              "    </tr>\n",
              "    <tr>\n",
              "      <th>1</th>\n",
              "      <td>238799</td>\n",
              "      <td>1</td>\n",
              "      <td>Vistas a la playa</td>\n",
              "      <td>1</td>\n",
              "      <td>1</td>\n",
              "      <td>1</td>\n",
              "      <td>1</td>\n",
              "      <td>Gratuito</td>\n",
              "    </tr>\n",
              "    <tr>\n",
              "      <th>2</th>\n",
              "      <td>291211</td>\n",
              "      <td>0</td>\n",
              "      <td>No disponible</td>\n",
              "      <td>0</td>\n",
              "      <td>1</td>\n",
              "      <td>1</td>\n",
              "      <td>1</td>\n",
              "      <td>Gratuito</td>\n",
              "    </tr>\n",
              "  </tbody>\n",
              "</table>\n",
              "</div>"
            ],
            "text/plain": [
              "       ID  Vistas Sí/No             Vistas  Primera línea  Wifi  \\\n",
              "0  178456             1    Vistas al canal              1     1   \n",
              "1  238799             1  Vistas a la playa              1     1   \n",
              "2  291211             0      No disponible              0     1   \n",
              "\n",
              "   Aire acondicionado  Aparcamiento Sí/No Aparcamiento  \n",
              "0                   0                   1     Gratuito  \n",
              "1                   1                   1     Gratuito  \n",
              "2                   1                   1     Gratuito  "
            ]
          },
          "execution_count": 191,
          "metadata": {},
          "output_type": "execute_result"
        }
      ],
      "source": [
        "df_amenities_final.head(3)"
      ]
    },
    {
      "cell_type": "markdown",
      "metadata": {
        "id": "LeqH03QTD6_h"
      },
      "source": [
        "# Guardar en CSV"
      ]
    },
    {
      "cell_type": "code",
      "execution_count": 192,
      "metadata": {
        "id": "kyrOjR7l7TuK"
      },
      "outputs": [],
      "source": [
        "df_amenities_final.to_csv('amenities_final.csv', index=False)"
      ]
    },
    {
      "cell_type": "markdown",
      "metadata": {},
      "source": [
        "# Cargar df"
      ]
    },
    {
      "cell_type": "code",
      "execution_count": 194,
      "metadata": {},
      "outputs": [],
      "source": [
        "#Cargar df\n",
        "df = pd.read_csv(\"C:\\\\Users\\\\Usuario\\\\OneDrive\\\\Documentos\\\\GitHub\\\\WhiteHosting\\\\CSVs\\\\amenities_final.csv\")"
      ]
    },
    {
      "cell_type": "code",
      "execution_count": 195,
      "metadata": {},
      "outputs": [
        {
          "data": {
            "text/html": [
              "<div>\n",
              "<style scoped>\n",
              "    .dataframe tbody tr th:only-of-type {\n",
              "        vertical-align: middle;\n",
              "    }\n",
              "\n",
              "    .dataframe tbody tr th {\n",
              "        vertical-align: top;\n",
              "    }\n",
              "\n",
              "    .dataframe thead th {\n",
              "        text-align: right;\n",
              "    }\n",
              "</style>\n",
              "<table border=\"1\" class=\"dataframe\">\n",
              "  <thead>\n",
              "    <tr style=\"text-align: right;\">\n",
              "      <th></th>\n",
              "      <th>ID</th>\n",
              "      <th>Vistas Sí/No</th>\n",
              "      <th>Vistas</th>\n",
              "      <th>Primera línea</th>\n",
              "      <th>Wifi</th>\n",
              "      <th>Aire acondicionado</th>\n",
              "      <th>Aparcamiento Sí/No</th>\n",
              "      <th>Aparcamiento</th>\n",
              "    </tr>\n",
              "  </thead>\n",
              "  <tbody>\n",
              "    <tr>\n",
              "      <th>0</th>\n",
              "      <td>178456</td>\n",
              "      <td>1</td>\n",
              "      <td>Vistas al canal</td>\n",
              "      <td>1</td>\n",
              "      <td>1</td>\n",
              "      <td>0</td>\n",
              "      <td>1</td>\n",
              "      <td>Gratuito</td>\n",
              "    </tr>\n",
              "    <tr>\n",
              "      <th>1</th>\n",
              "      <td>238799</td>\n",
              "      <td>1</td>\n",
              "      <td>Vistas a la playa</td>\n",
              "      <td>1</td>\n",
              "      <td>1</td>\n",
              "      <td>1</td>\n",
              "      <td>1</td>\n",
              "      <td>Gratuito</td>\n",
              "    </tr>\n",
              "  </tbody>\n",
              "</table>\n",
              "</div>"
            ],
            "text/plain": [
              "       ID  Vistas Sí/No             Vistas  Primera línea  Wifi  \\\n",
              "0  178456             1    Vistas al canal              1     1   \n",
              "1  238799             1  Vistas a la playa              1     1   \n",
              "\n",
              "   Aire acondicionado  Aparcamiento Sí/No Aparcamiento  \n",
              "0                   0                   1     Gratuito  \n",
              "1                   1                   1     Gratuito  "
            ]
          },
          "execution_count": 195,
          "metadata": {},
          "output_type": "execute_result"
        }
      ],
      "source": [
        "df.head(2)"
      ]
    },
    {
      "cell_type": "code",
      "execution_count": null,
      "metadata": {},
      "outputs": [],
      "source": []
    }
  ],
  "metadata": {
    "colab": {
      "provenance": [],
      "toc_visible": true
    },
    "kernelspec": {
      "display_name": "Python 3",
      "name": "python3"
    },
    "language_info": {
      "codemirror_mode": {
        "name": "ipython",
        "version": 3
      },
      "file_extension": ".py",
      "mimetype": "text/x-python",
      "name": "python",
      "nbconvert_exporter": "python",
      "pygments_lexer": "ipython3",
      "version": "3.11.9"
    }
  },
  "nbformat": 4,
  "nbformat_minor": 0
}
