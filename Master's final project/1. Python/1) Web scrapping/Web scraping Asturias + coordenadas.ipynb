{
 "cells": [
  {
   "cell_type": "code",
   "execution_count": 2,
   "metadata": {},
   "outputs": [],
   "source": [
    "#PASO 1\n",
    "\n",
    "import pandas as pd\n",
    "from selenium import webdriver\n",
    "from bs4 import BeautifulSoup as bs\n",
    "from time import sleep\n",
    "from selenium.webdriver.common.by import By\n",
    "from selenium.webdriver.chrome.options import Options\n",
    "from selenium.webdriver.chrome.service import Service\n",
    "from webdriver_manager.chrome import ChromeDriverManager"
   ]
  },
  {
   "cell_type": "code",
   "execution_count": 4,
   "metadata": {},
   "outputs": [],
   "source": [
    "#PASO 2\n",
    "\n",
    "df = pd.read_csv(r\"C:\\Users\\marco\\OneDrive\\Documentos\\GitHub\\WhiteHosting\\Marco\\AsturiasDF_limpio.csv\")\n",
    "lista_ids = df[\"ID\"]"
   ]
  },
  {
   "cell_type": "code",
   "execution_count": 6,
   "metadata": {},
   "outputs": [],
   "source": [
    "#PASO 3\n",
    "\n",
    "lista_coordenadas=[]\n",
    "opts= Options()\n",
    "opts.add_argument (\"user-agent=Mozilla/5.0 (Macintosh; Intel Mac OS X 10_15_7) AppleWebKit/537.36 (KHTML, like Gecko) Chrome/123.0.0.0 Safari/537.36\")\n",
    "opts.add_argument(\"--headless\")\n",
    "#opts.add_argument('--blink-settings=imagesEnabled=false')    /// Desactivado porque da error si no las coordenadas\n",
    "driver= webdriver.Chrome(\n",
    "    service=Service(ChromeDriverManager().install()),\n",
    "    options=opts\n",
    ")\n",
    "for x in lista_ids:\n",
    "    url_hab_ago= f\"https://www.airbnb.es/rooms/{x}?source_impression_id=p3_1713604628_Lgj1zTSBQ4yrgaUA&check_in=2024-08-12&guests=1&adults=1&check_out=2024-08-18\"\n",
    "    driver.get(url_hab_ago)\n",
    "    sleep (2)\n",
    "    try:\n",
    "        driver.find_element(\"xpath\", '//*[@aria-label=\"Cerrar\"]').click()\n",
    "    except:\n",
    "        pass\n",
    "    try:\n",
    "        mapa = driver.find_element(\"xpath\", '//*[@data-section-id=\"LOCATION_DEFAULT\"]')\n",
    "        driver.execute_script(\"arguments[0].scrollIntoView(true);\", mapa)\n",
    "    except:\n",
    "        pass\n",
    "    sleep (1)\n",
    "    html=driver.page_source\n",
    "    soup_ago= bs(html, \"lxml\")\n",
    "\n",
    "    #COORDENADAS\n",
    "    coord0= soup_ago.find(\"div\", {\"style\":\"margin: 0px 5px; z-index: 1000000; position: absolute; left: 0px; bottom: 0px;\"})\n",
    "    if coord0 is not None:\n",
    "        coord1= str(coord0)\n",
    "        index= coord1.find(\"maps?ll\")\n",
    "        index2= coord1.find(\"&amp\")\n",
    "        lista_coordenadas.append(coord1[index+8:index2])\n",
    "    else:\n",
    "        lista_coordenadas.append(None)\n",
    "\n",
    "driver.close()"
   ]
  },
  {
   "cell_type": "code",
   "execution_count": 7,
   "metadata": {},
   "outputs": [],
   "source": [
    "#4 PASO\n",
    "\n",
    "df[\"Localización\"] = lista_coordenadas"
   ]
  },
  {
   "cell_type": "code",
   "execution_count": 8,
   "metadata": {},
   "outputs": [],
   "source": [
    "#5 PASO\n",
    "\n",
    "df.to_csv(\"AsturiasDF_limpio_con_coordenadas.csv\", index=False)"
   ]
  }
 ],
 "metadata": {
  "kernelspec": {
   "display_name": "Python 3",
   "language": "python",
   "name": "python3"
  },
  "language_info": {
   "codemirror_mode": {
    "name": "ipython",
    "version": 3
   },
   "file_extension": ".py",
   "mimetype": "text/x-python",
   "name": "python",
   "nbconvert_exporter": "python",
   "pygments_lexer": "ipython3",
   "version": "3.12.3"
  }
 },
 "nbformat": 4,
 "nbformat_minor": 2
}
