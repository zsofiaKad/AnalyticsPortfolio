{
 "cells": [
  {
   "cell_type": "markdown",
   "metadata": {},
   "source": [
    "**Summer Olympic Games**\n",
    "\n",
    "*From 1896 to 2024.*\n",
    "\n",
    "Dataset from Kaggle: https://www.kaggle.com/datasets/stefanydeoliveira/summer-olympics-medals-1896-2024/data\n",
    "\n",
    "Data Analyst: ***Zsófia Kadler***\n",
    "\n",
    "Historical Coverage: The dataset includes detailed records from the early days of the Olympics, starting in Athens 1896, all the way through the 2024 Summer Games in Paris. It captures a wide array of events, sports, and athletes over time.\n",
    "\n",
    "Columns explication:\n",
    "\n",
    "- **player_id:** Unique identifier for each athlete.\n",
    "- **Name:** Name of the athlete.\n",
    "- **Sex:** Gender of the athlete (Male (M) /Female (F)).\n",
    "- **Team:** Country the athlete represented.\n",
    "- **NOC:** National Olympic Committee code for the country.\n",
    "- **Year:** Year of the Olympic Games.\n",
    "- **Season:** Season of the Olympic Games (Summer).\n",
    "- **City:** Host city of the Olympic Games.\n",
    "- **Sport:** Sport category in which the athlete competed.\n",
    "- **Event:** Specific event within the sport.\n",
    "- **Medal:** Type of medal awarded (Gold, Silver, Bronze) or \"No medal\" if not awarded."
   ]
  },
  {
   "cell_type": "markdown",
   "metadata": {},
   "source": [
    "# Install libraries & load data"
   ]
  },
  {
   "cell_type": "code",
   "execution_count": 46,
   "metadata": {},
   "outputs": [],
   "source": [
    "# Import libreries\n",
    "import pandas as pd\n",
    "import numpy as np\n",
    "import matplotlib.pyplot as plt\n",
    "import seaborn as sns"
   ]
  },
  {
   "cell_type": "code",
   "execution_count": 47,
   "metadata": {},
   "outputs": [],
   "source": [
    "df = pd.read_csv(\"C:\\\\Users\\\\Usuario\\\\OneDrive\\\\Documentos\\\\Zsofia Data Analytics\\\\Olympic games project\\\\olympics_dataset.csv\")"
   ]
  },
  {
   "cell_type": "code",
   "execution_count": 48,
   "metadata": {},
   "outputs": [
    {
     "data": {
      "text/html": [
       "<div>\n",
       "<style scoped>\n",
       "    .dataframe tbody tr th:only-of-type {\n",
       "        vertical-align: middle;\n",
       "    }\n",
       "\n",
       "    .dataframe tbody tr th {\n",
       "        vertical-align: top;\n",
       "    }\n",
       "\n",
       "    .dataframe thead th {\n",
       "        text-align: right;\n",
       "    }\n",
       "</style>\n",
       "<table border=\"1\" class=\"dataframe\">\n",
       "  <thead>\n",
       "    <tr style=\"text-align: right;\">\n",
       "      <th></th>\n",
       "      <th>player_id</th>\n",
       "      <th>Name</th>\n",
       "      <th>Sex</th>\n",
       "      <th>Team</th>\n",
       "      <th>NOC</th>\n",
       "      <th>Year</th>\n",
       "      <th>Season</th>\n",
       "      <th>City</th>\n",
       "      <th>Sport</th>\n",
       "      <th>Event</th>\n",
       "      <th>Medal</th>\n",
       "    </tr>\n",
       "  </thead>\n",
       "  <tbody>\n",
       "    <tr>\n",
       "      <th>0</th>\n",
       "      <td>0</td>\n",
       "      <td>A Dijiang</td>\n",
       "      <td>M</td>\n",
       "      <td>China</td>\n",
       "      <td>CHN</td>\n",
       "      <td>1992</td>\n",
       "      <td>Summer</td>\n",
       "      <td>Barcelona</td>\n",
       "      <td>Basketball</td>\n",
       "      <td>Basketball Men's Basketball</td>\n",
       "      <td>No medal</td>\n",
       "    </tr>\n",
       "    <tr>\n",
       "      <th>1</th>\n",
       "      <td>1</td>\n",
       "      <td>A Lamusi</td>\n",
       "      <td>M</td>\n",
       "      <td>China</td>\n",
       "      <td>CHN</td>\n",
       "      <td>2012</td>\n",
       "      <td>Summer</td>\n",
       "      <td>London</td>\n",
       "      <td>Judo</td>\n",
       "      <td>Judo Men's Extra-Lightweight</td>\n",
       "      <td>No medal</td>\n",
       "    </tr>\n",
       "  </tbody>\n",
       "</table>\n",
       "</div>"
      ],
      "text/plain": [
       "   player_id       Name Sex   Team  NOC  Year  Season       City       Sport  \\\n",
       "0          0  A Dijiang   M  China  CHN  1992  Summer  Barcelona  Basketball   \n",
       "1          1   A Lamusi   M  China  CHN  2012  Summer     London        Judo   \n",
       "\n",
       "                          Event     Medal  \n",
       "0   Basketball Men's Basketball  No medal  \n",
       "1  Judo Men's Extra-Lightweight  No medal  "
      ]
     },
     "execution_count": 48,
     "metadata": {},
     "output_type": "execute_result"
    }
   ],
   "source": [
    "df.head(2)"
   ]
  },
  {
   "cell_type": "markdown",
   "metadata": {},
   "source": [
    "# Checking structure & columns "
   ]
  },
  {
   "cell_type": "code",
   "execution_count": 49,
   "metadata": {},
   "outputs": [
    {
     "name": "stdout",
     "output_type": "stream",
     "text": [
      "<class 'pandas.core.frame.DataFrame'>\n",
      "RangeIndex: 252565 entries, 0 to 252564\n",
      "Data columns (total 11 columns):\n",
      " #   Column     Non-Null Count   Dtype \n",
      "---  ------     --------------   ----- \n",
      " 0   player_id  252565 non-null  int64 \n",
      " 1   Name       252565 non-null  object\n",
      " 2   Sex        252565 non-null  object\n",
      " 3   Team       252565 non-null  object\n",
      " 4   NOC        252565 non-null  object\n",
      " 5   Year       252565 non-null  int64 \n",
      " 6   Season     252565 non-null  object\n",
      " 7   City       252565 non-null  object\n",
      " 8   Sport      252565 non-null  object\n",
      " 9   Event      252565 non-null  object\n",
      " 10  Medal      252565 non-null  object\n",
      "dtypes: int64(2), object(9)\n",
      "memory usage: 21.2+ MB\n"
     ]
    },
    {
     "data": {
      "text/plain": [
       "(252565, 11)"
      ]
     },
     "execution_count": 49,
     "metadata": {},
     "output_type": "execute_result"
    }
   ],
   "source": [
    "# Check structure\n",
    "df.info()\n",
    "df.shape"
   ]
  },
  {
   "cell_type": "code",
   "execution_count": 50,
   "metadata": {},
   "outputs": [
    {
     "data": {
      "text/plain": [
       "(252565, 11)"
      ]
     },
     "execution_count": 50,
     "metadata": {},
     "output_type": "execute_result"
    }
   ],
   "source": [
    "# Remove duplicates\n",
    "df.drop_duplicates(inplace=True)\n",
    "df.shape"
   ]
  },
  {
   "cell_type": "code",
   "execution_count": 51,
   "metadata": {},
   "outputs": [
    {
     "name": "stdout",
     "output_type": "stream",
     "text": [
      "Missing values per column:\n",
      "           Missing Values  Percentage\n",
      "player_id               0         0.0\n",
      "Name                    0         0.0\n",
      "Sex                     0         0.0\n",
      "Team                    0         0.0\n",
      "NOC                     0         0.0\n",
      "Year                    0         0.0\n",
      "Season                  0         0.0\n",
      "City                    0         0.0\n",
      "Sport                   0         0.0\n",
      "Event                   0         0.0\n",
      "Medal                   0         0.0\n"
     ]
    }
   ],
   "source": [
    "# Check for missing values\n",
    "missing_values = df.isnull().sum()\n",
    "total_entries = df.shape[0]\n",
    "missing_percentage = (missing_values / total_entries) * 100\n",
    "print(\"Missing values per column:\")\n",
    "print(pd.DataFrame({'Missing Values': missing_values, 'Percentage': missing_percentage}))"
   ]
  },
  {
   "cell_type": "code",
   "execution_count": 53,
   "metadata": {},
   "outputs": [],
   "source": [
    "# Handle inconsistencies\n",
    "df.rename(columns={'Sex': 'Gender'}, inplace=True)\n",
    "df['Gender'] = df['Gender'].replace({'M': 'Male', 'F': 'Female'})\n",
    "\n",
    "# Rename column 'player_id'\n",
    "df.rename(columns={'player_id': 'ID'}, inplace=True)"
   ]
  },
  {
   "cell_type": "code",
   "execution_count": 54,
   "metadata": {},
   "outputs": [
    {
     "data": {
      "text/plain": [
       "ID         int64\n",
       "Name      object\n",
       "Gender    object\n",
       "Team      object\n",
       "NOC       object\n",
       "Year       int64\n",
       "Season    object\n",
       "City      object\n",
       "Sport     object\n",
       "Event     object\n",
       "Medal     object\n",
       "dtype: object"
      ]
     },
     "execution_count": 54,
     "metadata": {},
     "output_type": "execute_result"
    }
   ],
   "source": [
    "# Check datatypes\n",
    "df.dtypes # we don´t change the data tyepes as we will correct them later in PowerBI"
   ]
  },
  {
   "cell_type": "code",
   "execution_count": 55,
   "metadata": {},
   "outputs": [
    {
     "name": "stdout",
     "output_type": "stream",
     "text": [
      "Distinct values in 'ID':\n",
      "[      0       1       2 ... 1972077 1899865 1924402]\n",
      "\n",
      "Distinct values in 'Name':\n",
      "['A Dijiang' 'A Lamusi' 'Gunnar Aaby' ... 'Emanuela Liuzzi' 'Isayah Boers'\n",
      " 'Charlie Carvell']\n",
      "\n",
      "Distinct values in 'Gender':\n",
      "['Male' 'Female']\n",
      "\n",
      "Distinct values in 'Team':\n",
      "['China' 'Denmark' 'Denmark/Sweden' ... 'Lao PDR' 'DR Congo' 'DPR Korea']\n",
      "\n",
      "Distinct values in 'NOC':\n",
      "['CHN' 'DEN' 'NED' 'FIN' 'NOR' 'ROU' 'EST' 'FRA' 'MAR' 'ESP' 'EGY' 'IRI'\n",
      " 'BUL' 'ITA' 'CHA' 'AZE' 'SUD' 'RUS' 'ARG' 'CUB' 'BLR' 'GRE' 'CMR' 'TUR'\n",
      " 'CHI' 'MEX' 'USA' 'URS' 'NCA' 'HUN' 'NGR' 'ALG' 'KUW' 'BRN' 'PAK' 'IRQ'\n",
      " 'UAR' 'LIB' 'QAT' 'MAS' 'GER' 'CAN' 'IRL' 'AUS' 'RSA' 'ERI' 'TAN' 'JOR'\n",
      " 'TUN' 'LBA' 'BEL' 'DJI' 'PLE' 'COM' 'KAZ' 'BRU' 'IND' 'KSA' 'SYR' 'MDV'\n",
      " 'ETH' 'UAE' 'YAR' 'INA' 'PHI' 'SGP' 'UZB' 'KGZ' 'TJK' 'EUN' 'JPN' 'CGO'\n",
      " 'SUI' 'BRA' 'GDR' 'MON' 'ISR' 'URU' 'SWE' 'SRI' 'ARM' 'CIV' 'KEN' 'BEN'\n",
      " 'GBR' 'GHA' 'SOM' 'NIG' 'MLI' 'AFG' 'POL' 'CRC' 'PAN' 'GEO' 'SLO' 'GUY'\n",
      " 'NZL' 'POR' 'PAR' 'ANG' 'VEN' 'COL' 'FRG' 'BAN' 'PER' 'ESA' 'PUR' 'UGA'\n",
      " 'HON' 'ECU' 'TKM' 'MRI' 'SEY' 'TCH' 'LUX' 'MTN' 'SKN' 'TTO' 'DOM' 'VIN'\n",
      " 'JAM' 'LBR' 'SUR' 'NEP' 'MGL' 'AUT' 'PLW' 'LTU' 'TOG' 'NAM' 'AHO' 'UKR'\n",
      " 'ISL' 'ASA' 'SAM' 'RWA' 'CRO' 'DMA' 'HAI' 'MLT' 'CYP' 'GUI' 'BIZ' 'YMD'\n",
      " 'THA' 'BER' 'ANZ' 'SCG' 'SLE' 'PNG' 'YEM' 'IOA' 'OMA' 'FIJ' 'VAN' 'MDA'\n",
      " 'BAH' 'GUA' 'YUG' 'LAT' 'SRB' 'IVB' 'MOZ' 'ISV' 'CAF' 'MAD' 'MAL' 'BIH'\n",
      " 'GUM' 'CAY' 'SVK' 'BAR' 'GBS' 'TLS' 'COD' 'GAB' 'SMR' 'LAO' 'BOT' 'ROT'\n",
      " 'KOR' 'CAM' 'PRK' 'SOL' 'SEN' 'CPV' 'CZE' 'CRT' 'GEQ' 'BOL' 'SAA' 'ANT'\n",
      " 'AND' 'ZIM' 'GRN' 'HKG' 'LCA' 'FSM' 'MYA' 'MAW' 'ZAM' 'RHO' 'TPE' 'STP'\n",
      " 'MKD' 'BOH' 'LIE' 'MNE' 'GAM' 'COK' 'ALB' 'WIF' 'SWZ' 'BUR' 'NBO' 'BDI'\n",
      " 'ARU' 'NRU' 'VNM' 'VIE' 'BHU' 'MHL' 'KIR' 'UNK' 'TUV' 'TGA' 'NFL' 'KOS'\n",
      " 'SSD' 'LES' 'ROC' 'EOR' 'LBN' 'AIN']\n",
      "\n",
      "Distinct values in 'Year':\n",
      "[1992 2012 1920 1900 1932 1952 2000 1996 1912 1924 1948 2008 2016 2004\n",
      " 1984 1968 1972 1988 1936 1956 1960 1928 1976 1980 1964 1906 1904 1908\n",
      " 1896 2020 2024]\n",
      "\n",
      "Distinct values in 'Season':\n",
      "['Summer']\n",
      "\n",
      "Distinct values in 'City':\n",
      "['Barcelona' 'London' 'Antwerpen' 'Paris' 'Los Angeles' 'Helsinki'\n",
      " 'Sydney' 'Atlanta' 'Stockholm' 'Beijing' 'Rio de Janeiro' 'Athina'\n",
      " 'Mexico City' 'Munich' 'Seoul' 'Berlin' 'Melbourne' 'Roma' 'Amsterdam'\n",
      " 'Montreal' 'Moskva' 'Tokyo' 'St. Louis']\n",
      "\n",
      "Distinct values in 'Sport':\n",
      "['Basketball' 'Judo' 'Football' 'Tug-Of-War' 'Athletics' 'Swimming'\n",
      " 'Badminton' 'Sailing' 'Gymnastics' 'Art Competitions' 'Handball'\n",
      " 'Weightlifting' 'Wrestling' 'Water Polo' 'Hockey' 'Rowing' 'Fencing'\n",
      " 'Equestrianism' 'Shooting' 'Boxing' 'Taekwondo' 'Cycling' 'Diving'\n",
      " 'Canoeing' 'Tennis' 'Modern Pentathlon' 'Golf' 'Softball' 'Archery'\n",
      " 'Volleyball' 'Synchronized Swimming' 'Table Tennis' 'Baseball'\n",
      " 'Rhythmic Gymnastics' 'Rugby Sevens' 'Trampolining' 'Beach Volleyball'\n",
      " 'Triathlon' 'Rugby' 'Lacrosse' 'Polo' 'Cricket' 'Ice Hockey' 'Racquets'\n",
      " 'Motorboating' 'Croquet' 'Figure Skating' 'Jeu De Paume' 'Roque'\n",
      " 'Basque Pelota' 'Alpinism' 'Aeronautics' 'Cycling Road'\n",
      " 'Artistic Gymnastics' 'Karate' 'Baseball/Softball'\n",
      " 'Trampoline Gymnastics' 'Marathon Swimming' 'Canoe Slalom' 'Surfing'\n",
      " 'Canoe Sprint' 'Cycling BMX Racing' 'Equestrian' 'Artistic Swimming'\n",
      " 'Cycling Track' 'Skateboarding' 'Cycling Mountain Bike' '3x3 Basketball'\n",
      " 'Cycling BMX Freestyle' 'Sport Climbing' 'Marathon Swimming, Swimming'\n",
      " 'Breaking' 'Cycling Road, Cycling Track'\n",
      " 'Cycling Road, Cycling Mountain Bike' 'Cycling Road, Triathlon'\n",
      " '3x3 Basketball, Basketball']\n",
      "\n",
      "Distinct values in 'Event':\n",
      "[\"Basketball Men's Basketball\" \"Judo Men's Extra-Lightweight\"\n",
      " \"Football Men's Football\" ... \"Men's 4 x 200m Freestyle Relay\"\n",
      " \"Women's Synchronised 3m Springboard\" 'Mixed Relay']\n",
      "\n",
      "Distinct values in 'Medal':\n",
      "['No medal' 'Gold' 'Bronze' 'Silver']\n",
      "\n"
     ]
    }
   ],
   "source": [
    "# Display distinct values for each column\n",
    "for column in df.columns:\n",
    "    print(f\"Distinct values in '{column}':\")\n",
    "    print(df[column].unique())\n",
    "    print()"
   ]
  },
  {
   "cell_type": "code",
   "execution_count": 98,
   "metadata": {},
   "outputs": [
    {
     "data": {
      "text/html": [
       "<div>\n",
       "<style scoped>\n",
       "    .dataframe tbody tr th:only-of-type {\n",
       "        vertical-align: middle;\n",
       "    }\n",
       "\n",
       "    .dataframe tbody tr th {\n",
       "        vertical-align: top;\n",
       "    }\n",
       "\n",
       "    .dataframe thead th {\n",
       "        text-align: right;\n",
       "    }\n",
       "</style>\n",
       "<table border=\"1\" class=\"dataframe\">\n",
       "  <thead>\n",
       "    <tr style=\"text-align: right;\">\n",
       "      <th></th>\n",
       "      <th>ID</th>\n",
       "      <th>Name</th>\n",
       "      <th>Gender</th>\n",
       "      <th>Team</th>\n",
       "      <th>NOC</th>\n",
       "      <th>Year</th>\n",
       "      <th>Season</th>\n",
       "      <th>City</th>\n",
       "      <th>Sport</th>\n",
       "      <th>Event</th>\n",
       "      <th>Medal</th>\n",
       "    </tr>\n",
       "  </thead>\n",
       "  <tbody>\n",
       "    <tr>\n",
       "      <th>92998</th>\n",
       "      <td>112701</td>\n",
       "      <td>Zoltn Kammerer</td>\n",
       "      <td>Male</td>\n",
       "      <td>Hungary</td>\n",
       "      <td>HUN</td>\n",
       "      <td>1996</td>\n",
       "      <td>Summer</td>\n",
       "      <td>Atlanta</td>\n",
       "      <td>Canoeing</td>\n",
       "      <td>Canoeing Men's Kayak Singles, 1,000 metres</td>\n",
       "      <td>No medal</td>\n",
       "    </tr>\n",
       "    <tr>\n",
       "      <th>92999</th>\n",
       "      <td>112702</td>\n",
       "      <td>Zoltn Kammerer</td>\n",
       "      <td>Male</td>\n",
       "      <td>Hungary</td>\n",
       "      <td>HUN</td>\n",
       "      <td>2000</td>\n",
       "      <td>Summer</td>\n",
       "      <td>Sydney</td>\n",
       "      <td>Canoeing</td>\n",
       "      <td>Canoeing Men's Kayak Doubles, 500 metres</td>\n",
       "      <td>Gold</td>\n",
       "    </tr>\n",
       "    <tr>\n",
       "      <th>93000</th>\n",
       "      <td>112703</td>\n",
       "      <td>Zoltn Kammerer</td>\n",
       "      <td>Male</td>\n",
       "      <td>Hungary</td>\n",
       "      <td>HUN</td>\n",
       "      <td>2000</td>\n",
       "      <td>Summer</td>\n",
       "      <td>Sydney</td>\n",
       "      <td>Canoeing</td>\n",
       "      <td>Canoeing Men's Kayak Fours, 1,000 metres</td>\n",
       "      <td>Gold</td>\n",
       "    </tr>\n",
       "    <tr>\n",
       "      <th>93001</th>\n",
       "      <td>112704</td>\n",
       "      <td>Zoltn Kammerer</td>\n",
       "      <td>Male</td>\n",
       "      <td>Hungary</td>\n",
       "      <td>HUN</td>\n",
       "      <td>2004</td>\n",
       "      <td>Summer</td>\n",
       "      <td>Athina</td>\n",
       "      <td>Canoeing</td>\n",
       "      <td>Canoeing Men's Kayak Doubles, 500 metres</td>\n",
       "      <td>No medal</td>\n",
       "    </tr>\n",
       "    <tr>\n",
       "      <th>93002</th>\n",
       "      <td>112705</td>\n",
       "      <td>Zoltn Kammerer</td>\n",
       "      <td>Male</td>\n",
       "      <td>Hungary</td>\n",
       "      <td>HUN</td>\n",
       "      <td>2004</td>\n",
       "      <td>Summer</td>\n",
       "      <td>Athina</td>\n",
       "      <td>Canoeing</td>\n",
       "      <td>Canoeing Men's Kayak Fours, 1,000 metres</td>\n",
       "      <td>Gold</td>\n",
       "    </tr>\n",
       "    <tr>\n",
       "      <th>93003</th>\n",
       "      <td>112706</td>\n",
       "      <td>Zoltn Kammerer</td>\n",
       "      <td>Male</td>\n",
       "      <td>Hungary</td>\n",
       "      <td>HUN</td>\n",
       "      <td>2008</td>\n",
       "      <td>Summer</td>\n",
       "      <td>Beijing</td>\n",
       "      <td>Canoeing</td>\n",
       "      <td>Canoeing Men's Kayak Doubles, 500 metres</td>\n",
       "      <td>No medal</td>\n",
       "    </tr>\n",
       "    <tr>\n",
       "      <th>93004</th>\n",
       "      <td>112707</td>\n",
       "      <td>Zoltn Kammerer</td>\n",
       "      <td>Male</td>\n",
       "      <td>Hungary</td>\n",
       "      <td>HUN</td>\n",
       "      <td>2008</td>\n",
       "      <td>Summer</td>\n",
       "      <td>Beijing</td>\n",
       "      <td>Canoeing</td>\n",
       "      <td>Canoeing Men's Kayak Doubles, 1,000 metres</td>\n",
       "      <td>No medal</td>\n",
       "    </tr>\n",
       "    <tr>\n",
       "      <th>93005</th>\n",
       "      <td>112708</td>\n",
       "      <td>Zoltn Kammerer</td>\n",
       "      <td>Male</td>\n",
       "      <td>Hungary</td>\n",
       "      <td>HUN</td>\n",
       "      <td>2012</td>\n",
       "      <td>Summer</td>\n",
       "      <td>London</td>\n",
       "      <td>Canoeing</td>\n",
       "      <td>Canoeing Men's Kayak Fours, 1,000 metres</td>\n",
       "      <td>Silver</td>\n",
       "    </tr>\n",
       "  </tbody>\n",
       "</table>\n",
       "</div>"
      ],
      "text/plain": [
       "           ID            Name Gender     Team  NOC  Year  Season     City  \\\n",
       "92998  112701  Zoltn Kammerer   Male  Hungary  HUN  1996  Summer  Atlanta   \n",
       "92999  112702  Zoltn Kammerer   Male  Hungary  HUN  2000  Summer   Sydney   \n",
       "93000  112703  Zoltn Kammerer   Male  Hungary  HUN  2000  Summer   Sydney   \n",
       "93001  112704  Zoltn Kammerer   Male  Hungary  HUN  2004  Summer   Athina   \n",
       "93002  112705  Zoltn Kammerer   Male  Hungary  HUN  2004  Summer   Athina   \n",
       "93003  112706  Zoltn Kammerer   Male  Hungary  HUN  2008  Summer  Beijing   \n",
       "93004  112707  Zoltn Kammerer   Male  Hungary  HUN  2008  Summer  Beijing   \n",
       "93005  112708  Zoltn Kammerer   Male  Hungary  HUN  2012  Summer   London   \n",
       "\n",
       "          Sport                                       Event     Medal  \n",
       "92998  Canoeing  Canoeing Men's Kayak Singles, 1,000 metres  No medal  \n",
       "92999  Canoeing    Canoeing Men's Kayak Doubles, 500 metres      Gold  \n",
       "93000  Canoeing    Canoeing Men's Kayak Fours, 1,000 metres      Gold  \n",
       "93001  Canoeing    Canoeing Men's Kayak Doubles, 500 metres  No medal  \n",
       "93002  Canoeing    Canoeing Men's Kayak Fours, 1,000 metres      Gold  \n",
       "93003  Canoeing    Canoeing Men's Kayak Doubles, 500 metres  No medal  \n",
       "93004  Canoeing  Canoeing Men's Kayak Doubles, 1,000 metres  No medal  \n",
       "93005  Canoeing    Canoeing Men's Kayak Fours, 1,000 metres    Silver  "
      ]
     },
     "execution_count": 98,
     "metadata": {},
     "output_type": "execute_result"
    }
   ],
   "source": [
    "# Check if the ID column is correct\n",
    "# Filter all rows where the Name contains 'Kammerer' from canoeing sport - Kammerer Zoltán\n",
    "kammerer_data = df[df['Name'].str.contains('Kammerer', case=False, na=False)]\n",
    "\n",
    "# Display the filtered data\n",
    "kammerer_data"
   ]
  },
  {
   "cell_type": "markdown",
   "metadata": {},
   "source": [
    "## Note\n",
    "\n",
    "*The Name column is a bit chaotic, but we can still understand the associations. However, the names are not correctly written. It's important to note that the ID is different for each row, even if the name is the same, so we cannot use this column properly.*"
   ]
  },
  {
   "cell_type": "code",
   "execution_count": 99,
   "metadata": {},
   "outputs": [],
   "source": [
    "# Drop the 'ID' column \n",
    "df = df.drop(columns=['ID'])"
   ]
  },
  {
   "cell_type": "markdown",
   "metadata": {},
   "source": [
    "# Create a csv"
   ]
  },
  {
   "cell_type": "code",
   "execution_count": 100,
   "metadata": {},
   "outputs": [],
   "source": [
    "# Save the DataFrame to a CSV file\n",
    "df.to_csv('summer_olympic_dataset_1986_2024.csv', index=False)"
   ]
  },
  {
   "cell_type": "markdown",
   "metadata": {},
   "source": [
    "# Data Analysis"
   ]
  },
  {
   "cell_type": "code",
   "execution_count": 101,
   "metadata": {},
   "outputs": [],
   "source": [
    "df = pd.read_csv(\"C:\\\\Users\\\\Usuario\\\\OneDrive\\\\Documentos\\\\Zsofia Data Analytics\\\\Olympic games project\\\\summer_olympic_dataset_1986_2024.csv\")"
   ]
  },
  {
   "cell_type": "code",
   "execution_count": 102,
   "metadata": {},
   "outputs": [
    {
     "data": {
      "text/html": [
       "<div>\n",
       "<style scoped>\n",
       "    .dataframe tbody tr th:only-of-type {\n",
       "        vertical-align: middle;\n",
       "    }\n",
       "\n",
       "    .dataframe tbody tr th {\n",
       "        vertical-align: top;\n",
       "    }\n",
       "\n",
       "    .dataframe thead th {\n",
       "        text-align: right;\n",
       "    }\n",
       "</style>\n",
       "<table border=\"1\" class=\"dataframe\">\n",
       "  <thead>\n",
       "    <tr style=\"text-align: right;\">\n",
       "      <th></th>\n",
       "      <th>Name</th>\n",
       "      <th>Gender</th>\n",
       "      <th>Team</th>\n",
       "      <th>NOC</th>\n",
       "      <th>Year</th>\n",
       "      <th>Season</th>\n",
       "      <th>City</th>\n",
       "      <th>Sport</th>\n",
       "      <th>Event</th>\n",
       "      <th>Medal</th>\n",
       "    </tr>\n",
       "  </thead>\n",
       "  <tbody>\n",
       "    <tr>\n",
       "      <th>0</th>\n",
       "      <td>A Dijiang</td>\n",
       "      <td>Male</td>\n",
       "      <td>China</td>\n",
       "      <td>CHN</td>\n",
       "      <td>1992</td>\n",
       "      <td>Summer</td>\n",
       "      <td>Barcelona</td>\n",
       "      <td>Basketball</td>\n",
       "      <td>Basketball Men's Basketball</td>\n",
       "      <td>No medal</td>\n",
       "    </tr>\n",
       "    <tr>\n",
       "      <th>1</th>\n",
       "      <td>A Lamusi</td>\n",
       "      <td>Male</td>\n",
       "      <td>China</td>\n",
       "      <td>CHN</td>\n",
       "      <td>2012</td>\n",
       "      <td>Summer</td>\n",
       "      <td>London</td>\n",
       "      <td>Judo</td>\n",
       "      <td>Judo Men's Extra-Lightweight</td>\n",
       "      <td>No medal</td>\n",
       "    </tr>\n",
       "  </tbody>\n",
       "</table>\n",
       "</div>"
      ],
      "text/plain": [
       "        Name Gender   Team  NOC  Year  Season       City       Sport  \\\n",
       "0  A Dijiang   Male  China  CHN  1992  Summer  Barcelona  Basketball   \n",
       "1   A Lamusi   Male  China  CHN  2012  Summer     London        Judo   \n",
       "\n",
       "                          Event     Medal  \n",
       "0   Basketball Men's Basketball  No medal  \n",
       "1  Judo Men's Extra-Lightweight  No medal  "
      ]
     },
     "execution_count": 102,
     "metadata": {},
     "output_type": "execute_result"
    }
   ],
   "source": [
    "df.head(2)"
   ]
  },
  {
   "cell_type": "code",
   "execution_count": 103,
   "metadata": {},
   "outputs": [
    {
     "name": "stdout",
     "output_type": "stream",
     "text": [
      "Percentage of Male to Female participants:\n",
      " Gender\n",
      "Male      70.692297\n",
      "Female    29.307703\n",
      "Name: proportion, dtype: float64\n"
     ]
    }
   ],
   "source": [
    "# Percentage of Male to Female participants\n",
    "gender_counts = df['Gender'].value_counts(normalize=True) * 100\n",
    "print(\"Percentage of Male to Female participants:\\n\", gender_counts)"
   ]
  },
  {
   "cell_type": "code",
   "execution_count": 104,
   "metadata": {},
   "outputs": [
    {
     "name": "stdout",
     "output_type": "stream",
     "text": [
      "Medals won by each gender:\n",
      " Gender\n",
      "Female     74021\n",
      "Male      178544\n",
      "Name: Medal, dtype: int64\n",
      "------------------\n",
      "Percentage of medals won by each gender:\n",
      " Gender\n",
      "Female    29.307703\n",
      "Male      70.692297\n",
      "Name: Medal, dtype: float64\n"
     ]
    }
   ],
   "source": [
    "# Relationship between Gender and Number of Medals won\n",
    "medal_counts_by_gender = df[df['Medal'].notna()].groupby('Gender')['Medal'].count()\n",
    "medal_percentage_by_gender = (medal_counts_by_gender / medal_counts_by_gender.sum()) * 100\n",
    "\n",
    "print(\"Medals won by each gender:\\n\", medal_counts_by_gender)\n",
    "print(\"------------------\")\n",
    "print(\"Percentage of medals won by each gender:\\n\", medal_percentage_by_gender)"
   ]
  },
  {
   "cell_type": "code",
   "execution_count": 105,
   "metadata": {},
   "outputs": [
    {
     "name": "stdout",
     "output_type": "stream",
     "text": [
      "Top 3 countries with the highest number of medals:\n",
      " NOC\n",
      "USA    16774\n",
      "GBR    11998\n",
      "FRA    11972\n",
      "Name: Medal, dtype: int64\n"
     ]
    }
   ],
   "source": [
    "# Top 3 countries with the highest number of Medals\n",
    "top_medal_countries = df[df['Medal'].notna()].groupby('NOC')['Medal'].count().nlargest(3)\n",
    "\n",
    "print(\"Top 3 countries with the highest number of medals:\\n\", top_medal_countries)"
   ]
  },
  {
   "cell_type": "code",
   "execution_count": 106,
   "metadata": {},
   "outputs": [
    {
     "name": "stdout",
     "output_type": "stream",
     "text": [
      "Top 3 teams with the highest number of medals:\n",
      " Team\n",
      "United States    16236\n",
      "Great Britain    11390\n",
      "France           11360\n",
      "Name: Medal, dtype: int64\n"
     ]
    }
   ],
   "source": [
    "# Top 3 teams with the highest number of Medals\n",
    "top_medal_countries = df[df['Medal'].notna()].groupby('Team')['Medal'].count().nlargest(3)\n",
    "\n",
    "print(\"Top 3 teams with the highest number of medals:\\n\", top_medal_countries)"
   ]
  },
  {
   "cell_type": "markdown",
   "metadata": {},
   "source": [
    "## Note \n",
    "\n",
    "*We can see that grouping by NOC results in more medals than grouping by Team, so we will use the NOC column to identify the country in further analysis.*"
   ]
  },
  {
   "cell_type": "code",
   "execution_count": 107,
   "metadata": {},
   "outputs": [
    {
     "name": "stdout",
     "output_type": "stream",
     "text": [
      "Top 3 countries with the highest *Gold* medals:\n",
      " NOC\n",
      "USA    2716\n",
      "URS     832\n",
      "GBR     716\n",
      "Name: Medal, dtype: int64\n",
      "------------------\n",
      "\n",
      "Top 3 countries with the highest *Silver* medals:\n",
      " NOC\n",
      "USA    1539\n",
      "GBR     813\n",
      "FRA     712\n",
      "Name: Medal, dtype: int64\n",
      "------------------\n",
      "\n",
      "Top 3 countries with the highest *Bronze* medals:\n",
      " NOC\n",
      "USA    1366\n",
      "GBR     753\n",
      "GER     721\n",
      "Name: Medal, dtype: int64\n"
     ]
    }
   ],
   "source": [
    "# Top 3 countries with the highest number of each medal type\n",
    "top_gold_countries = df[df['Medal'] == 'Gold'].groupby('NOC')['Medal'].count().nlargest(3)\n",
    "top_silver_countries = df[df['Medal'] == 'Silver'].groupby('NOC')['Medal'].count().nlargest(3)\n",
    "top_bronze_countries = df[df['Medal'] == 'Bronze'].groupby('NOC')['Medal'].count().nlargest(3)\n",
    "\n",
    "print(\"Top 3 countries with the highest *Gold* medals:\\n\", top_gold_countries)\n",
    "print(\"------------------\")\n",
    "print(\"\\nTop 3 countries with the highest *Silver* medals:\\n\", top_silver_countries)\n",
    "print(\"------------------\")\n",
    "print(\"\\nTop 3 countries with the highest *Bronze* medals:\\n\", top_bronze_countries)"
   ]
  },
  {
   "cell_type": "code",
   "execution_count": 108,
   "metadata": {},
   "outputs": [
    {
     "name": "stdout",
     "output_type": "stream",
     "text": [
      "Top 10 sports with the highest number of medals:\n",
      "          Sport  Medal\n",
      "8    Athletics  43294\n",
      "38  Gymnastics  26707\n",
      "63    Swimming  26416\n",
      "58    Shooting  12580\n",
      "54      Rowing  11625\n",
      "34     Fencing  11558\n",
      "22     Cycling  10859\n",
      "36    Football   7906\n",
      "75   Wrestling   7734\n",
      "57     Sailing   7266\n"
     ]
    }
   ],
   "source": [
    "# Total medals by sport across all countries\n",
    "medal_by_sport = df[df['Medal'].notna()].groupby('Sport')['Medal'].count().reset_index()\n",
    "\n",
    "# Sort by the total number of medals and select the top 10\n",
    "top_10_sports = medal_by_sport.sort_values(by='Medal', ascending=False).head(10)\n",
    "\n",
    "print(\"Top 10 sports with the highest number of medals:\\n\", top_10_sports)\n"
   ]
  },
  {
   "cell_type": "code",
   "execution_count": 109,
   "metadata": {},
   "outputs": [
    {
     "name": "stdout",
     "output_type": "stream",
     "text": [
      "Top 5 sports with the highest number of *Gold* medals:\n",
      "          Sport  Medal\n",
      "7    Athletics   1500\n",
      "58    Swimming   1241\n",
      "49      Rowing   1074\n",
      "34  Gymnastics    791\n",
      "30     Fencing    654\n",
      "------------------\n",
      "\n",
      "Top 5 sports with the highest number of *Silver* medals:\n",
      "          Sport  Medal\n",
      "5    Athletics   1477\n",
      "54    Swimming   1133\n",
      "45      Rowing   1073\n",
      "31  Gymnastics    746\n",
      "27     Fencing    643\n",
      "------------------\n",
      "\n",
      "Top 5 sports with the highest number of *Bronze* medals:\n",
      "          Sport  Medal\n",
      "5    Athletics   1452\n",
      "53    Swimming   1096\n",
      "44      Rowing   1086\n",
      "30  Gymnastics    719\n",
      "26     Fencing    626\n"
     ]
    }
   ],
   "source": [
    "# Filter for gold, silver, and bronze medals\n",
    "gold_medals = df[df['Medal'] == 'Gold']\n",
    "silver_medals = df[df['Medal'] == 'Silver']\n",
    "bronze_medals = df[df['Medal'] == 'Bronze']\n",
    "\n",
    "# Count the number of medals by sport for each type\n",
    "gold_medals_by_sport = gold_medals.groupby('Sport')['Medal'].count().reset_index()\n",
    "silver_medals_by_sport = silver_medals.groupby('Sport')['Medal'].count().reset_index()\n",
    "bronze_medals_by_sport = bronze_medals.groupby('Sport')['Medal'].count().reset_index()\n",
    "\n",
    "# Sort and get the top 5 sports for each medal type\n",
    "top_5_gold = gold_medals_by_sport.sort_values(by='Medal', ascending=False).head(5)\n",
    "top_5_silver = silver_medals_by_sport.sort_values(by='Medal', ascending=False).head(5)\n",
    "top_5_bronze = bronze_medals_by_sport.sort_values(by='Medal', ascending=False).head(5)\n",
    "\n",
    "# Print the results\n",
    "print(\"Top 5 sports with the highest number of *Gold* medals:\\n\", top_5_gold)\n",
    "print(\"------------------\")\n",
    "print(\"\\nTop 5 sports with the highest number of *Silver* medals:\\n\", top_5_silver)\n",
    "print(\"------------------\")\n",
    "print(\"\\nTop 5 sports with the highest number of *Bronze* medals:\\n\", top_5_bronze)"
   ]
  },
  {
   "cell_type": "code",
   "execution_count": 115,
   "metadata": {},
   "outputs": [
    {
     "name": "stdout",
     "output_type": "stream",
     "text": [
      "Participant with the highest number of medals: John Jr.\n",
      "Country: USA\n",
      "Sports: Shooting, Sailing, Gymnastics, Golf, Athletics, Weightlifting, Canoeing, Rowing, Wrestling, Rugby, Hockey, Art Competitions, Equestrianism, Swimming\n",
      "Total number of medals: 76\n",
      "Years won: [1900, 1904, 1908, 1912, 1920, 1924, 1928, 1932, 1936, 1948, 1952, 1956, 1960, 1964, 1972, 1976, 1984, 1988, 1992, 1996, 2000, 2004]\n"
     ]
    }
   ],
   "source": [
    "# Participant with the highest number of medals\n",
    "top_medalist = df[df['Medal'].notna()].groupby('Name')['Medal'].count().idxmax()\n",
    "\n",
    "# Filter the dataset for the top medalist\n",
    "top_medalist_data = df[(df['Name'] == top_medalist) & (df['Medal'].notna())]\n",
    "\n",
    "# Count the total number of medals for the top medalist\n",
    "total_medals = top_medalist_data['Medal'].count()\n",
    "\n",
    "# Get the list of years the top medalist won\n",
    "years_won = top_medalist_data['Year'].unique()\n",
    "\n",
    "# Get the country of the top medalist (assuming the country is consistent)\n",
    "country = top_medalist_data['NOC'].iloc[0]\n",
    "\n",
    "# Get the sports the top medalist participated in\n",
    "sports = top_medalist_data['Sport'].unique()\n",
    "\n",
    "print(f\"Participant with the highest number of medals: {top_medalist}\")\n",
    "print(f\"Country: {country}\")\n",
    "print(f\"Sports: {', '.join(sports)}\")\n",
    "print(f\"Total number of medals: {total_medals}\")\n",
    "print(f\"Years won: {sorted(years_won)}\")"
   ]
  },
  {
   "cell_type": "markdown",
   "metadata": {},
   "source": [
    "## Note\n",
    "\n",
    "*Due to the incorrect IDs and the presence of multiple athletes with the same name, the Name column, which does not show accurate data, cannot be used for real analysis. However, it is great for learning purposes.*\n"
   ]
  },
  {
   "cell_type": "code",
   "execution_count": 117,
   "metadata": {},
   "outputs": [
    {
     "name": "stdout",
     "output_type": "stream",
     "text": [
      "Participant with the highest number of Gold medals: Michael Ii\n",
      "Country: USA\n",
      "Sports: Swimming\n",
      "Total number of Gold medals: 23\n",
      "Years won Gold medals: [2004, 2008, 2012, 2016]\n"
     ]
    }
   ],
   "source": [
    "# Participant with the highest number of Gold Medals\n",
    "top_gold_medalist = df[df['Medal'] == 'Gold'].groupby('Name')['Medal'].count().idxmax()\n",
    "\n",
    "# Filter the dataset for the top gold medalist\n",
    "top_gold_medalist_data = df[(df['Name'] == top_gold_medalist) & (df['Medal'] == 'Gold')]\n",
    "\n",
    "# Count the total number of Gold medals for the top gold medalist\n",
    "total_gold_medals = top_gold_medalist_data['Medal'].count()\n",
    "\n",
    "# Get the list of years the top gold medalist won Gold medals\n",
    "years_gold_won = top_gold_medalist_data['Year'].unique()\n",
    "\n",
    "# Get the country of the top gold medalist (assuming the country is consistent)\n",
    "country_gold = top_gold_medalist_data['NOC'].iloc[0]\n",
    "\n",
    "# Get the sports the top gold medalist participated in\n",
    "sports_gold = top_gold_medalist_data['Sport'].unique()\n",
    "\n",
    "print(f\"Participant with the highest number of Gold medals: {top_gold_medalist}\")\n",
    "print(f\"Country: {country_gold}\")\n",
    "print(f\"Sports: {', '.join(sports_gold)}\")\n",
    "print(f\"Total number of Gold medals: {total_gold_medals}\")\n",
    "print(f\"Years won Gold medals: {sorted(years_gold_won)}\")"
   ]
  },
  {
   "cell_type": "markdown",
   "metadata": {},
   "source": [
    "## Note\n",
    "\n",
    "*Real data: The athlete with the most medals in the history of the Olympic Games is the American swimmer Michael Phelps, who accumulated a total of 28 medals: 23 gold, 3 silver, and 2 bronze.\n",
    "\n",
    "In the realm of the Paralympic Games, Spanish swimmer Teresa Perales has achieved a total of 28 medals, matching Phelps' record. In the 2024 Paris Paralympic Games, Perales earned her 28th medal by winning a bronze in the 50-meter backstroke.\n",
    "\n",
    "Therefore, both **Michael Phelps** and **Teresa Perales** hold the medal record in their respective Olympic competitions."
   ]
  },
  {
   "cell_type": "code",
   "execution_count": 118,
   "metadata": {},
   "outputs": [
    {
     "data": {
      "image/png": "[encoded data removed]",
      "text/plain": [
       "<Figure size 1000x600 with 1 Axes>"
      ]
     },
     "metadata": {},
     "output_type": "display_data"
    }
   ],
   "source": [
    "import seaborn as sns\n",
    "import matplotlib.pyplot as plt\n",
    "\n",
    "# Evolution of the Total Number of Medals by Year\n",
    "\n",
    "# Filter out rows where 'Medal' is \"No medal\"\n",
    "df_filtered = df[df['Medal'] != 'No medal']\n",
    "\n",
    "# Group by Year to get total medals per year (Gold + Silver + Bronze), excluding \"No medal\"\n",
    "total_medals_by_year = df_filtered.groupby('Year')['Medal'].count().reset_index(name='Total Medals')\n",
    "\n",
    "# Create a line plot showing the evolution of the total number of medals over time\n",
    "plt.figure(figsize=(10, 6))\n",
    "sns.lineplot(data=total_medals_by_year, x='Year', y='Total Medals', marker='o', color='blue')\n",
    "\n",
    "# Add title and labels\n",
    "plt.title('Evolution of the Total Number of Medals by Year', fontsize=16)\n",
    "plt.xlabel('Year', fontsize=12)\n",
    "plt.ylabel('Total Medals', fontsize=12)\n",
    "\n",
    "# Display the plot\n",
    "plt.show()"
   ]
  },
  {
   "cell_type": "code",
   "execution_count": 119,
   "metadata": {},
   "outputs": [
    {
     "data": {
      "image/png": "[encoded data removed]",
      "text/plain": [
       "<Figure size 1000x600 with 1 Axes>"
      ]
     },
     "metadata": {},
     "output_type": "display_data"
    }
   ],
   "source": [
    "# Evolution of the Number of Medals by Year and Medal Type\n",
    "\n",
    "# Filter out rows where 'Medal' is \"No medal\"\n",
    "df_filtered = df[df['Medal'] != 'No medal']\n",
    "\n",
    "# Group by Year and Medal type, counting the number of medals\n",
    "medals_by_year_type = df_filtered.groupby(['Year', 'Medal'])['Medal'].count().reset_index(name='Total Medals')\n",
    "\n",
    "# Create a line plot showing the evolution of medal counts over time for each medal type\n",
    "plt.figure(figsize=(10, 6))\n",
    "sns.lineplot(data=medals_by_year_type, x='Year', y='Total Medals', hue='Medal', \n",
    "             marker='o', hue_order=['Gold', 'Silver', 'Bronze'])\n",
    "\n",
    "# Add title and labels\n",
    "plt.title('Evolution of the Number of Medals by Year and Medal Type', fontsize=16)\n",
    "plt.xlabel('Year', fontsize=12)\n",
    "plt.ylabel('Total Medals', fontsize=12)\n",
    "\n",
    "# Display the plot\n",
    "plt.legend(title='Medal Type')\n",
    "plt.xticks(rotation=45)  # Rotate x-axis labels for better readability\n",
    "plt.tight_layout()\n",
    "plt.show()"
   ]
  }
 ],
 "metadata": {
  "kernelspec": {
   "display_name": "Python 3",
   "language": "python",
   "name": "python3"
  },
  "language_info": {
   "codemirror_mode": {
    "name": "ipython",
    "version": 3
   },
   "file_extension": ".py",
   "mimetype": "text/x-python",
   "name": "python",
   "nbconvert_exporter": "python",
   "pygments_lexer": "ipython3",
   "version": "3.11.9"
  }
 },
 "nbformat": 4,
 "nbformat_minor": 2
}
