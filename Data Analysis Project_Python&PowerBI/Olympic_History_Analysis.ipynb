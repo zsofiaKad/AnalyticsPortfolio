{
 "cells": [
  {
   "cell_type": "markdown",
   "metadata": {},
   "source": [
    "**Olympic Games History**\n",
    "\n",
    "*From 1896 to 2000.*\n",
    "\n",
    "Dataset from Kaggle: https://www.kaggle.com/datasets/fearsomejockey/olympics-dataset-2020-tokyo-dataset \n",
    "\n",
    "Data Analysis made by Zsofia Kadler - https://github.com/zsofiaKad/AnalyticsPortfolio "
   ]
  },
  {
   "cell_type": "markdown",
   "metadata": {},
   "source": [
    "# Install libraries & load data"
   ]
  },
  {
   "cell_type": "code",
   "execution_count": 1,
   "metadata": {},
   "outputs": [],
   "source": [
    "# Import libreries\n",
    "import pandas as pd\n",
    "import numpy as np\n",
    "import matplotlib.pyplot as plt\n",
    "import seaborn as sns"
   ]
  },
  {
   "cell_type": "code",
   "execution_count": 55,
   "metadata": {},
   "outputs": [],
   "source": [
    "df = pd.read_csv(\"C:\\\\Users\\\\Usuario\\\\OneDrive\\\\Documentos\\\\Zsofia Data Analytics\\\\PowerBI\\\\Olympic data\\\\Olympic Historical data until 2020\\\\All Year Olympic Dataset (with 2020 Tokyo Olympics).csv\")"
   ]
  },
  {
   "cell_type": "code",
   "execution_count": 56,
   "metadata": {},
   "outputs": [
    {
     "data": {
      "text/html": [
       "<div>\n",
       "<style scoped>\n",
       "    .dataframe tbody tr th:only-of-type {\n",
       "        vertical-align: middle;\n",
       "    }\n",
       "\n",
       "    .dataframe tbody tr th {\n",
       "        vertical-align: top;\n",
       "    }\n",
       "\n",
       "    .dataframe thead th {\n",
       "        text-align: right;\n",
       "    }\n",
       "</style>\n",
       "<table border=\"1\" class=\"dataframe\">\n",
       "  <thead>\n",
       "    <tr style=\"text-align: right;\">\n",
       "      <th></th>\n",
       "      <th>Unnamed: 0</th>\n",
       "      <th>Name</th>\n",
       "      <th>Sex</th>\n",
       "      <th>Age</th>\n",
       "      <th>Team</th>\n",
       "      <th>Games</th>\n",
       "      <th>Year</th>\n",
       "      <th>Season</th>\n",
       "      <th>Sport</th>\n",
       "      <th>Medal</th>\n",
       "    </tr>\n",
       "  </thead>\n",
       "  <tbody>\n",
       "    <tr>\n",
       "      <th>0</th>\n",
       "      <td>0</td>\n",
       "      <td>A Dijiang</td>\n",
       "      <td>M</td>\n",
       "      <td>24.0</td>\n",
       "      <td>China</td>\n",
       "      <td>1992 Summer</td>\n",
       "      <td>1992</td>\n",
       "      <td>Summer</td>\n",
       "      <td>Basketball</td>\n",
       "      <td>0</td>\n",
       "    </tr>\n",
       "    <tr>\n",
       "      <th>1</th>\n",
       "      <td>1</td>\n",
       "      <td>A Lamusi</td>\n",
       "      <td>M</td>\n",
       "      <td>23.0</td>\n",
       "      <td>China</td>\n",
       "      <td>2012 Summer</td>\n",
       "      <td>2012</td>\n",
       "      <td>Summer</td>\n",
       "      <td>Judo</td>\n",
       "      <td>0</td>\n",
       "    </tr>\n",
       "    <tr>\n",
       "      <th>2</th>\n",
       "      <td>2</td>\n",
       "      <td>Gunnar Nielsen Aaby</td>\n",
       "      <td>M</td>\n",
       "      <td>24.0</td>\n",
       "      <td>Denmark</td>\n",
       "      <td>1920 Summer</td>\n",
       "      <td>1920</td>\n",
       "      <td>Summer</td>\n",
       "      <td>Football</td>\n",
       "      <td>0</td>\n",
       "    </tr>\n",
       "    <tr>\n",
       "      <th>3</th>\n",
       "      <td>3</td>\n",
       "      <td>Edgar Lindenau Aabye</td>\n",
       "      <td>M</td>\n",
       "      <td>34.0</td>\n",
       "      <td>Denmark/Sweden</td>\n",
       "      <td>1900 Summer</td>\n",
       "      <td>1900</td>\n",
       "      <td>Summer</td>\n",
       "      <td>Tug-Of-War</td>\n",
       "      <td>3</td>\n",
       "    </tr>\n",
       "    <tr>\n",
       "      <th>4</th>\n",
       "      <td>4</td>\n",
       "      <td>Christine Jacoba Aaftink</td>\n",
       "      <td>F</td>\n",
       "      <td>21.0</td>\n",
       "      <td>Netherlands</td>\n",
       "      <td>1988 Winter</td>\n",
       "      <td>1988</td>\n",
       "      <td>Winter</td>\n",
       "      <td>Speed Skating</td>\n",
       "      <td>0</td>\n",
       "    </tr>\n",
       "  </tbody>\n",
       "</table>\n",
       "</div>"
      ],
      "text/plain": [
       "   Unnamed: 0                      Name Sex   Age            Team  \\\n",
       "0           0                 A Dijiang   M  24.0           China   \n",
       "1           1                  A Lamusi   M  23.0           China   \n",
       "2           2       Gunnar Nielsen Aaby   M  24.0         Denmark   \n",
       "3           3      Edgar Lindenau Aabye   M  34.0  Denmark/Sweden   \n",
       "4           4  Christine Jacoba Aaftink   F  21.0     Netherlands   \n",
       "\n",
       "         Games  Year  Season          Sport  Medal  \n",
       "0  1992 Summer  1992  Summer     Basketball      0  \n",
       "1  2012 Summer  2012  Summer           Judo      0  \n",
       "2  1920 Summer  1920  Summer       Football      0  \n",
       "3  1900 Summer  1900  Summer     Tug-Of-War      3  \n",
       "4  1988 Winter  1988  Winter  Speed Skating      0  "
      ]
     },
     "execution_count": 56,
     "metadata": {},
     "output_type": "execute_result"
    }
   ],
   "source": [
    "df.head(5)"
   ]
  },
  {
   "cell_type": "markdown",
   "metadata": {},
   "source": [
    "# Data cleaning & preparation"
   ]
  },
  {
   "cell_type": "markdown",
   "metadata": {},
   "source": [
    "## Checking structure & columns "
   ]
  },
  {
   "cell_type": "code",
   "execution_count": 57,
   "metadata": {},
   "outputs": [
    {
     "name": "stdout",
     "output_type": "stream",
     "text": [
      "<class 'pandas.core.frame.DataFrame'>\n",
      "RangeIndex: 275643 entries, 0 to 275642\n",
      "Data columns (total 10 columns):\n",
      " #   Column      Non-Null Count   Dtype  \n",
      "---  ------      --------------   -----  \n",
      " 0   Unnamed: 0  275643 non-null  int64  \n",
      " 1   Name        275643 non-null  object \n",
      " 2   Sex         275643 non-null  object \n",
      " 3   Age         266169 non-null  float64\n",
      " 4   Team        275643 non-null  object \n",
      " 5   Games       275643 non-null  object \n",
      " 6   Year        275643 non-null  int64  \n",
      " 7   Season      275643 non-null  object \n",
      " 8   Sport       275643 non-null  object \n",
      " 9   Medal       275643 non-null  int64  \n",
      "dtypes: float64(1), int64(3), object(6)\n",
      "memory usage: 21.0+ MB\n"
     ]
    },
    {
     "data": {
      "text/plain": [
       "(275643, 10)"
      ]
     },
     "execution_count": 57,
     "metadata": {},
     "output_type": "execute_result"
    }
   ],
   "source": [
    "# Check structure\n",
    "df.info()\n",
    "df.shape"
   ]
  },
  {
   "cell_type": "code",
   "execution_count": 58,
   "metadata": {},
   "outputs": [],
   "source": [
    "# Drop 'Unnamed: 0' column\n",
    "df.drop(columns=['Unnamed: 0'], inplace=True)"
   ]
  },
  {
   "cell_type": "code",
   "execution_count": 59,
   "metadata": {},
   "outputs": [
    {
     "data": {
      "text/plain": [
       "(204872, 9)"
      ]
     },
     "execution_count": 59,
     "metadata": {},
     "output_type": "execute_result"
    }
   ],
   "source": [
    "# Remove duplicates\n",
    "df.drop_duplicates(inplace=True)\n",
    "df.shape"
   ]
  },
  {
   "cell_type": "code",
   "execution_count": 60,
   "metadata": {},
   "outputs": [
    {
     "name": "stdout",
     "output_type": "stream",
     "text": [
      "Missing values per column:\n",
      "        Missing Values  Percentage\n",
      "Name                 0    0.000000\n",
      "Sex                  0    0.000000\n",
      "Age               7098    3.464602\n",
      "Team                 0    0.000000\n",
      "Games                0    0.000000\n",
      "Year                 0    0.000000\n",
      "Season               0    0.000000\n",
      "Sport                0    0.000000\n",
      "Medal                0    0.000000\n"
     ]
    }
   ],
   "source": [
    "# Check for missing values\n",
    "missing_values = df.isnull().sum()\n",
    "total_entries = df.shape[0]\n",
    "missing_percentage = (missing_values / total_entries) * 100\n",
    "print(\"Missing values per column:\")\n",
    "print(pd.DataFrame({'Missing Values': missing_values, 'Percentage': missing_percentage}))"
   ]
  },
  {
   "cell_type": "code",
   "execution_count": 61,
   "metadata": {},
   "outputs": [],
   "source": [
    "# Handle inconsistencies\n",
    "df.rename(columns={'Sex': 'Gender'}, inplace=True)\n",
    "df['Sex'] = df['Sex'].replace({'M': 'Male', 'F': 'Female'})"
   ]
  },
  {
   "cell_type": "code",
   "execution_count": 62,
   "metadata": {},
   "outputs": [],
   "source": [
    "# Rename 'medal' column for clarity\n",
    "medal_map = {3: 'Gold', 2: 'Silver', 1: 'Bronze', 0: 'None'}\n",
    "df['Medal'] = df['Medal'].map(medal_map)"
   ]
  },
  {
   "cell_type": "code",
   "execution_count": 63,
   "metadata": {},
   "outputs": [
    {
     "data": {
      "text/html": [
       "<div>\n",
       "<style scoped>\n",
       "    .dataframe tbody tr th:only-of-type {\n",
       "        vertical-align: middle;\n",
       "    }\n",
       "\n",
       "    .dataframe tbody tr th {\n",
       "        vertical-align: top;\n",
       "    }\n",
       "\n",
       "    .dataframe thead th {\n",
       "        text-align: right;\n",
       "    }\n",
       "</style>\n",
       "<table border=\"1\" class=\"dataframe\">\n",
       "  <thead>\n",
       "    <tr style=\"text-align: right;\">\n",
       "      <th></th>\n",
       "      <th>Name</th>\n",
       "      <th>Sex</th>\n",
       "      <th>Age</th>\n",
       "      <th>Team</th>\n",
       "      <th>Games</th>\n",
       "      <th>Year</th>\n",
       "      <th>Season</th>\n",
       "      <th>Sport</th>\n",
       "      <th>Medal</th>\n",
       "    </tr>\n",
       "  </thead>\n",
       "  <tbody>\n",
       "    <tr>\n",
       "      <th>0</th>\n",
       "      <td>A Dijiang</td>\n",
       "      <td>Male</td>\n",
       "      <td>24.0</td>\n",
       "      <td>China</td>\n",
       "      <td>1992 Summer</td>\n",
       "      <td>1992</td>\n",
       "      <td>Summer</td>\n",
       "      <td>Basketball</td>\n",
       "      <td>None</td>\n",
       "    </tr>\n",
       "    <tr>\n",
       "      <th>1</th>\n",
       "      <td>A Lamusi</td>\n",
       "      <td>Male</td>\n",
       "      <td>23.0</td>\n",
       "      <td>China</td>\n",
       "      <td>2012 Summer</td>\n",
       "      <td>2012</td>\n",
       "      <td>Summer</td>\n",
       "      <td>Judo</td>\n",
       "      <td>None</td>\n",
       "    </tr>\n",
       "    <tr>\n",
       "      <th>2</th>\n",
       "      <td>Gunnar Nielsen Aaby</td>\n",
       "      <td>Male</td>\n",
       "      <td>24.0</td>\n",
       "      <td>Denmark</td>\n",
       "      <td>1920 Summer</td>\n",
       "      <td>1920</td>\n",
       "      <td>Summer</td>\n",
       "      <td>Football</td>\n",
       "      <td>None</td>\n",
       "    </tr>\n",
       "    <tr>\n",
       "      <th>3</th>\n",
       "      <td>Edgar Lindenau Aabye</td>\n",
       "      <td>Male</td>\n",
       "      <td>34.0</td>\n",
       "      <td>Denmark/Sweden</td>\n",
       "      <td>1900 Summer</td>\n",
       "      <td>1900</td>\n",
       "      <td>Summer</td>\n",
       "      <td>Tug-Of-War</td>\n",
       "      <td>Gold</td>\n",
       "    </tr>\n",
       "    <tr>\n",
       "      <th>4</th>\n",
       "      <td>Christine Jacoba Aaftink</td>\n",
       "      <td>Female</td>\n",
       "      <td>21.0</td>\n",
       "      <td>Netherlands</td>\n",
       "      <td>1988 Winter</td>\n",
       "      <td>1988</td>\n",
       "      <td>Winter</td>\n",
       "      <td>Speed Skating</td>\n",
       "      <td>None</td>\n",
       "    </tr>\n",
       "  </tbody>\n",
       "</table>\n",
       "</div>"
      ],
      "text/plain": [
       "                       Name     Sex   Age            Team        Games  Year  \\\n",
       "0                 A Dijiang    Male  24.0           China  1992 Summer  1992   \n",
       "1                  A Lamusi    Male  23.0           China  2012 Summer  2012   \n",
       "2       Gunnar Nielsen Aaby    Male  24.0         Denmark  1920 Summer  1920   \n",
       "3      Edgar Lindenau Aabye    Male  34.0  Denmark/Sweden  1900 Summer  1900   \n",
       "4  Christine Jacoba Aaftink  Female  21.0     Netherlands  1988 Winter  1988   \n",
       "\n",
       "   Season          Sport Medal  \n",
       "0  Summer     Basketball  None  \n",
       "1  Summer           Judo  None  \n",
       "2  Summer       Football  None  \n",
       "3  Summer     Tug-Of-War  Gold  \n",
       "4  Winter  Speed Skating  None  "
      ]
     },
     "execution_count": 63,
     "metadata": {},
     "output_type": "execute_result"
    }
   ],
   "source": [
    "# Check \n",
    "df.head(5)"
   ]
  },
  {
   "cell_type": "code",
   "execution_count": 64,
   "metadata": {},
   "outputs": [
    {
     "data": {
      "text/plain": [
       "Name       object\n",
       "Sex        object\n",
       "Age       float64\n",
       "Team       object\n",
       "Games      object\n",
       "Year        int64\n",
       "Season     object\n",
       "Sport      object\n",
       "Medal      object\n",
       "dtype: object"
      ]
     },
     "execution_count": 64,
     "metadata": {},
     "output_type": "execute_result"
    }
   ],
   "source": [
    "# Check datatypes\n",
    "df.dtypes # we don´t change the data tyepes as we will correct them later in PowerBI"
   ]
  },
  {
   "cell_type": "markdown",
   "metadata": {},
   "source": [
    "## Deep Dive"
   ]
  },
  {
   "cell_type": "code",
   "execution_count": 65,
   "metadata": {},
   "outputs": [
    {
     "name": "stdout",
     "output_type": "stream",
     "text": [
      "Distinct values in 'Name':\n",
      "['A Dijiang' 'A Lamusi' 'Gunnar Nielsen Aaby' ... 'ZVINOWANDA Vimbai'\n",
      " 'ZWOUKHI Fathi' 'ZYLKA Krzysztof']\n",
      "\n",
      "Distinct values in 'Sex':\n",
      "['Male' 'Female']\n",
      "\n",
      "Distinct values in 'Age':\n",
      "[24. 23. 34. 21. 25. 27. 31. 33. 18. 26. 22. 30. 32. 28. 54. 20. 17. 43.\n",
      " 47. 29. 41. 45. 49. 53. 57. nan 19. 38. 35. 16. 37. 15. 42. 46. 40. 36.\n",
      " 14. 39. 48. 52. 44. 55. 50. 71. 63. 51. 58. 13. 60. 75. 65. 56. 64. 68.\n",
      " 84. 12. 72. 59. 61. 70. 74. 62. 67. 69. 73. 66. 11. 76. 88. 96. 80. 10.\n",
      " 81. 77. 97.]\n",
      "\n",
      "Distinct values in 'Team':\n",
      "['China' 'Denmark' 'Denmark/Sweden' ... 'Virgin Islands, US'\n",
      " \"Lao People's Democratic Republic\" 'Faroe Islands']\n",
      "\n",
      "Distinct values in 'Games':\n",
      "['1992 Summer' '2012 Summer' '1920 Summer' '1900 Summer' '1988 Winter'\n",
      " '1992 Winter' '1994 Winter' '1932 Summer' '2002 Winter' '1952 Summer'\n",
      " '1980 Winter' '2000 Summer' '1996 Summer' '1912 Summer' '1924 Summer'\n",
      " '2014 Winter' '1948 Summer' '1998 Winter' '2006 Winter' '2008 Summer'\n",
      " '2016 Summer' '2004 Summer' '1960 Winter' '1964 Winter' '1984 Winter'\n",
      " '1984 Summer' '1968 Summer' '1972 Summer' '1988 Summer' '1936 Summer'\n",
      " '1952 Winter' '1956 Winter' '1956 Summer' '1960 Summer' '1928 Summer'\n",
      " '1976 Summer' '1980 Summer' '1964 Summer' '2010 Winter' '1968 Winter'\n",
      " '1906 Summer' '1972 Winter' '1976 Winter' '1924 Winter' '1904 Summer'\n",
      " '1928 Winter' '1908 Summer' '1948 Winter' '1932 Winter' '1936 Winter'\n",
      " '1896 Summer' '2020 Summer']\n",
      "\n",
      "Distinct values in 'Year':\n",
      "[1992 2012 1920 1900 1988 1994 1932 2002 1952 1980 2000 1996 1912 1924\n",
      " 2014 1948 1998 2006 2008 2016 2004 1960 1964 1984 1968 1972 1936 1956\n",
      " 1928 1976 2010 1906 1904 1908 1896 2020]\n",
      "\n",
      "Distinct values in 'Season':\n",
      "['Summer' 'Winter']\n",
      "\n",
      "Distinct values in 'Sport':\n",
      "['Basketball' 'Judo' 'Football' 'Tug-Of-War' 'Speed Skating'\n",
      " 'Cross Country Skiing' 'Athletics' 'Ice Hockey' 'Swimming' 'Badminton'\n",
      " 'Sailing' 'Biathlon' 'Gymnastics' 'Art Competitions' 'Alpine Skiing'\n",
      " 'Handball' 'Weightlifting' 'Wrestling' 'Luge' 'Water Polo' 'Hockey'\n",
      " 'Rowing' 'Bobsleigh' 'Fencing' 'Equestrianism' 'Shooting' 'Boxing'\n",
      " 'Taekwondo' 'Cycling' 'Diving' 'Canoeing' 'Tennis' 'Modern Pentathlon'\n",
      " 'Figure Skating' 'Golf' 'Softball' 'Archery' 'Volleyball'\n",
      " 'Synchronized Swimming' 'Table Tennis' 'Nordic Combined' 'Baseball'\n",
      " 'Rhythmic Gymnastics' 'Freestyle Skiing' 'Rugby Sevens' 'Trampolining'\n",
      " 'Beach Volleyball' 'Triathlon' 'Ski Jumping' 'Curling' 'Snowboarding'\n",
      " 'Rugby' 'Short Track Speed Skating' 'Skeleton' 'Lacrosse' 'Polo'\n",
      " 'Cricket' 'Racquets' 'Motorboating' 'Military Ski Patrol' 'Croquet'\n",
      " 'Jeu De Paume' 'Roque' 'Alpinism' 'Basque Pelota' 'Aeronautics'\n",
      " 'Wheelchair Basketball' 'Sitting Volleyball' 'Powerlifting'\n",
      " 'Canoe Sprint' 'Wheelchair Fencing' 'Cycling Road' 'Cycling Track'\n",
      " 'Football 5-a-side' 'Equestrian' 'Boccia' 'Goalball' 'Wheelchair Tennis'\n",
      " 'Wheelchair Rugby']\n",
      "\n",
      "Distinct values in 'Medal':\n",
      "['None' 'Gold' 'Bronze' 'Silver']\n",
      "\n"
     ]
    }
   ],
   "source": [
    "# Display distinct values for each column\n",
    "for column in df.columns:\n",
    "    print(f\"Distinct values in '{column}':\")\n",
    "    print(df[column].unique())\n",
    "    print()"
   ]
  },
  {
   "cell_type": "markdown",
   "metadata": {},
   "source": [
    "### Team / Country"
   ]
  },
  {
   "cell_type": "code",
   "execution_count": 66,
   "metadata": {},
   "outputs": [
    {
     "name": "stdout",
     "output_type": "stream",
     "text": [
      "Total number of distinct values in 'Team': 1203\n"
     ]
    }
   ],
   "source": [
    "# Get the total number of distinct values in the 'Team' column\n",
    "total_distinct_teams = df['Team'].nunique()\n",
    "print(f\"Total number of distinct values in 'Team': {total_distinct_teams}\")"
   ]
  },
  {
   "cell_type": "code",
   "execution_count": null,
   "metadata": {},
   "outputs": [],
   "source": [
    "# Assuming df is your DataFrame\n",
    "unique_teams = df['Team'].unique()\n",
    "\n",
    "# Display all unique values\n",
    "for team in unique_teams:\n",
    "    print(team)"
   ]
  },
  {
   "cell_type": "markdown",
   "metadata": {},
   "source": [
    "#### Note 1\n",
    "\n",
    "These are too many distinct values to create manual a country column. I will use another dataset whit the Olympic data until Rio 2016. And use this information to my Country column. "
   ]
  },
  {
   "cell_type": "code",
   "execution_count": 85,
   "metadata": {},
   "outputs": [
    {
     "name": "stdout",
     "output_type": "stream",
     "text": [
      "              Team  NOC\n",
      "0            China  CHN\n",
      "2          Denmark  DEN\n",
      "3   Denmark/Sweden  DEN\n",
      "4      Netherlands  NED\n",
      "10   United States  USA\n",
      "28         Finland  FIN\n",
      "59          Norway  NOR\n",
      "80         Romania  ROU\n",
      "94         Estonia  EST\n",
      "98          France  FRA\n"
     ]
    }
   ],
   "source": [
    "# Read the earlier Olympic data CSV file - until 2016.\n",
    "old_data = pd.read_csv(\"C:\\\\Users\\\\Usuario\\\\Downloads\\\\archive (1)\\\\athlete_events.csv\")\n",
    "\n",
    "# Extract the Team and Country columns\n",
    "team_country_guide = old_data[['Team', 'NOC']].drop_duplicates()\n",
    "\n",
    "# Display the first few rows of the guide DataFrame\n",
    "print(team_country_guide.head(10))"
   ]
  },
  {
   "cell_type": "code",
   "execution_count": 87,
   "metadata": {},
   "outputs": [
    {
     "name": "stdout",
     "output_type": "stream",
     "text": [
      "Total number of distinct values in 'Team': 1203\n"
     ]
    }
   ],
   "source": [
    "# Get the total number of distinct values in the 'Team' column\n",
    "team_country_guide_unique = df['Team'].nunique()\n",
    "print(f\"Total number of distinct values in 'Team': {team_country_guide_unique}\")"
   ]
  },
  {
   "cell_type": "markdown",
   "metadata": {},
   "source": [
    "#### Note 2\n",
    "\n",
    "It seems to be okay. Now we will create a dictionary with this data and create a Country column with the 3-Letter Code."
   ]
  },
  {
   "cell_type": "code",
   "execution_count": 88,
   "metadata": {},
   "outputs": [],
   "source": [
    "new_data = df.copy()"
   ]
  },
  {
   "cell_type": "code",
   "execution_count": 91,
   "metadata": {},
   "outputs": [
    {
     "data": {
      "text/html": [
       "<div>\n",
       "<style scoped>\n",
       "    .dataframe tbody tr th:only-of-type {\n",
       "        vertical-align: middle;\n",
       "    }\n",
       "\n",
       "    .dataframe tbody tr th {\n",
       "        vertical-align: top;\n",
       "    }\n",
       "\n",
       "    .dataframe thead th {\n",
       "        text-align: right;\n",
       "    }\n",
       "</style>\n",
       "<table border=\"1\" class=\"dataframe\">\n",
       "  <thead>\n",
       "    <tr style=\"text-align: right;\">\n",
       "      <th></th>\n",
       "      <th>Name</th>\n",
       "      <th>Sex</th>\n",
       "      <th>Age</th>\n",
       "      <th>Team</th>\n",
       "      <th>Games</th>\n",
       "      <th>Year</th>\n",
       "      <th>Season</th>\n",
       "      <th>Sport</th>\n",
       "      <th>Medal</th>\n",
       "      <th>Country</th>\n",
       "    </tr>\n",
       "  </thead>\n",
       "  <tbody>\n",
       "    <tr>\n",
       "      <th>0</th>\n",
       "      <td>A Dijiang</td>\n",
       "      <td>Male</td>\n",
       "      <td>24.0</td>\n",
       "      <td>China</td>\n",
       "      <td>1992 Summer</td>\n",
       "      <td>1992</td>\n",
       "      <td>Summer</td>\n",
       "      <td>Basketball</td>\n",
       "      <td>None</td>\n",
       "      <td>CHN</td>\n",
       "    </tr>\n",
       "    <tr>\n",
       "      <th>1</th>\n",
       "      <td>A Lamusi</td>\n",
       "      <td>Male</td>\n",
       "      <td>23.0</td>\n",
       "      <td>China</td>\n",
       "      <td>2012 Summer</td>\n",
       "      <td>2012</td>\n",
       "      <td>Summer</td>\n",
       "      <td>Judo</td>\n",
       "      <td>None</td>\n",
       "      <td>CHN</td>\n",
       "    </tr>\n",
       "    <tr>\n",
       "      <th>2</th>\n",
       "      <td>Gunnar Nielsen Aaby</td>\n",
       "      <td>Male</td>\n",
       "      <td>24.0</td>\n",
       "      <td>Denmark</td>\n",
       "      <td>1920 Summer</td>\n",
       "      <td>1920</td>\n",
       "      <td>Summer</td>\n",
       "      <td>Football</td>\n",
       "      <td>None</td>\n",
       "      <td>DEN</td>\n",
       "    </tr>\n",
       "  </tbody>\n",
       "</table>\n",
       "</div>"
      ],
      "text/plain": [
       "                  Name   Sex   Age     Team        Games  Year  Season  \\\n",
       "0            A Dijiang  Male  24.0    China  1992 Summer  1992  Summer   \n",
       "1             A Lamusi  Male  23.0    China  2012 Summer  2012  Summer   \n",
       "2  Gunnar Nielsen Aaby  Male  24.0  Denmark  1920 Summer  1920  Summer   \n",
       "\n",
       "        Sport Medal Country  \n",
       "0  Basketball  None     CHN  \n",
       "1        Judo  None     CHN  \n",
       "2    Football  None     DEN  "
      ]
     },
     "execution_count": 91,
     "metadata": {},
     "output_type": "execute_result"
    }
   ],
   "source": [
    "# Create a dictionary to map teams to countries\n",
    "team_to_country = dict(zip(old_data['Team'], old_data['NOC']))\n",
    "\n",
    "# Add the 'Country' column to the new_data DataFrame using the mapping\n",
    "new_data['Country'] = new_data['Team'].map(team_to_country)\n",
    "\n",
    "new_data.head(3)"
   ]
  },
  {
   "cell_type": "code",
   "execution_count": 95,
   "metadata": {},
   "outputs": [
    {
     "name": "stdout",
     "output_type": "stream",
     "text": [
      "230\n",
      "['CHN' 'DEN' 'NED' 'USA' 'FIN' 'NOR' 'ROU' 'EST' 'FRA' 'URS' 'MAR' 'ESP'\n",
      " 'EGY' 'IRI' 'BUL' 'ITA' 'CHA' 'AZE' 'SUD' 'RUS' 'ARG' 'CUB' 'BLR' 'GRE'\n",
      " 'CMR' 'TUR' 'CHI' 'MEX' 'NCA' 'HUN' 'NGR' 'ALG' 'KUW' 'BRN' 'PAK' 'IRQ'\n",
      " 'UAR' 'LIB' 'QAT' 'MAS' 'GER' 'CAN' 'IRL' 'AUS' 'RSA' 'ERI' 'TAN' 'JOR'\n",
      " 'TUN' 'LBA' 'BEL' 'DJI' 'PLE' 'COM' 'KAZ' 'BRU' 'IND' 'KSA' 'SYR' 'MDV'\n",
      " 'ETH' 'UAE' 'YAR' 'INA' 'PHI' 'SGP' 'UZB' 'KGZ' 'TJK' 'EUN' 'JPN' 'CGO'\n",
      " 'SUI' 'BRA' 'FRG' 'GDR' 'MON' 'ISR' 'URU' 'SWE' 'ISV' 'SRI' 'ARM' 'CIV'\n",
      " 'KEN' 'BEN' 'UKR' 'GBR' 'GHA' 'SOM' 'LAT' 'NIG' 'MLI' 'AFG' 'POL' 'CRC'\n",
      " 'PAN' 'GEO' 'SLO' 'CRO' 'GUY' 'NZL' 'POR' 'PAR' 'ANG' 'VEN' 'COL' 'BAN'\n",
      " 'PER' 'ESA' 'PUR' 'UGA' 'HON' 'ECU' 'TKM' 'MRI' 'SEY' 'TCH' 'LUX' 'MTN'\n",
      " 'CZE' 'SKN' 'TTO' 'DOM' 'VIN' 'JAM' 'LBR' 'SUR' 'NEP' 'MGL' 'AUT' 'PLW'\n",
      " 'LTU' 'TOG' 'NAM' 'AHO' 'ISL' 'ASA' 'SAM' 'RWA' 'DMA' 'HAI' 'MLT' 'CYP'\n",
      " 'GUI' 'BIZ' 'YMD' 'KOR' 'THA' 'BER' 'ANZ' 'SCG' 'SLE' 'PNG' 'YEM' 'IOA'\n",
      " 'OMA' 'FIJ' 'VAN' 'MDA' 'YUG' 'BAH' 'GUA' 'SRB' 'IVB' 'MOZ' 'CAF' 'MAD'\n",
      " 'MAL' 'BIH' 'GUM' 'CAY' 'SVK' 'BAR' 'GBS' 'TLS' 'COD' 'GAB' 'SMR' 'LAO'\n",
      " 'BOT' 'ROT' 'CAM' 'PRK' 'SOL' 'SEN' 'CPV' 'CRT' 'GEQ' 'BOL' 'SAA' 'AND'\n",
      " 'ANT' 'ZIM' 'GRN' 'HKG' 'LCA' 'FSM' 'MYA' 'MAW' 'ZAM' 'RHO' 'TPE' 'STP'\n",
      " 'MKD' 'BOH' 'TGA' 'LIE' 'MNE' 'GAM' 'COK' 'ALB' 'WIF' 'SWZ' 'BUR' 'NBO'\n",
      " 'BDI' 'ARU' 'NRU' 'VNM' 'VIE' 'BHU' 'MHL' 'KIR' 'UNK' 'TUV' 'NFL' 'KOS'\n",
      " 'SSD' 'LES' nan]\n"
     ]
    }
   ],
   "source": [
    "# Count the unique values in the Country column\n",
    "unique_country_count = new_data['Country'].nunique()\n",
    "\n",
    "# Get all unique values in the Country column\n",
    "unique_countries = new_data['Country'].unique()\n",
    "\n",
    "# Display the count of unique values\n",
    "print(unique_country_count)\n",
    "\n",
    "# Display all unique values\n",
    "print(unique_countries)"
   ]
  },
  {
   "cell_type": "code",
   "execution_count": 96,
   "metadata": {},
   "outputs": [
    {
     "name": "stdout",
     "output_type": "stream",
     "text": [
      "Number of rows with NaN values in the Country column: 948\n",
      "                        Name     Sex   Age                        Team  \\\n",
      "271132           ABDI Hassan    Male  35.0    Islamic Republic of Iran   \n",
      "271147  ABRAHAMS David Henry    Male  19.0    United States of America   \n",
      "271169         ADONINA Daria  Female  18.0                         RPC   \n",
      "271173          AFROOZ Saeid    Male  30.0    Islamic Republic of Iran   \n",
      "271182       AHMADI Amirreza    Male  20.0    Islamic Republic of Iran   \n",
      "...                      ...     ...   ...                         ...   \n",
      "275626          ZOU Liankang    Male  25.0  People's Republic of China   \n",
      "275627            ZOU Lihong  Female  37.0  People's Republic of China   \n",
      "275628            ZOU Lijuan  Female  26.0  People's Republic of China   \n",
      "275636         ZUMMO Bethany  Female  28.0    United States of America   \n",
      "275639      ZURBRUGG Lindsey  Female  22.0    United States of America   \n",
      "\n",
      "              Games  Year  Season                  Sport   Medal Country  \n",
      "271132  2020 Summer  2020  Summer  Wheelchair Basketball    None     NaN  \n",
      "271147  2020 Summer  2020  Summer               Swimming  Silver     NaN  \n",
      "271169  2020 Summer  2020  Summer                 Boccia  Bronze     NaN  \n",
      "271173  2020 Summer  2020  Summer              Athletics    Gold     NaN  \n",
      "271182  2020 Summer  2020  Summer  Wheelchair Basketball    None     NaN  \n",
      "...             ...   ...     ...                    ...     ...     ...  \n",
      "275626  2020 Summer  2020  Summer               Swimming    Gold     NaN  \n",
      "275627  2020 Summer  2020  Summer              Athletics    None     NaN  \n",
      "275628  2020 Summer  2020  Summer              Athletics    Gold     NaN  \n",
      "275636  2020 Summer  2020  Summer     Sitting Volleyball    Gold     NaN  \n",
      "275639  2020 Summer  2020  Summer  Wheelchair Basketball  Bronze     NaN  \n",
      "\n",
      "[948 rows x 10 columns]\n"
     ]
    }
   ],
   "source": [
    "# Check for NaN values in the Country column\n",
    "nan_rows = new_data[new_data['Country'].isna()]\n",
    "\n",
    "# Count the number of rows with NaN values in the Country column\n",
    "nan_count = nan_rows.shape[0]\n",
    "\n",
    "# Display the count of rows with NaN values and the rows themselves\n",
    "print(f\"Number of rows with NaN values in the Country column: {nan_count}\")\n",
    "print(nan_rows)"
   ]
  },
  {
   "cell_type": "code",
   "execution_count": 97,
   "metadata": {},
   "outputs": [
    {
     "name": "stdout",
     "output_type": "stream",
     "text": [
      "Number of unique values in the Team column of nan_rows: 19\n"
     ]
    }
   ],
   "source": [
    "# Count the unique values in the Team column of the nan_rows DataFrame\n",
    "unique_teams_nan_rows = nan_rows['Team'].nunique()\n",
    "\n",
    "# Display the count of unique values in the Team column of the nan_rows DataFrame\n",
    "print(f\"Number of unique values in the Team column of nan_rows: {unique_teams_nan_rows}\")"
   ]
  },
  {
   "cell_type": "markdown",
   "metadata": {},
   "source": [
    "#### Note 3\n",
    "\n",
    "Great. There are only 19 unique values in Teams where the Country is NaN. We will replace it manually to have all the data correct."
   ]
  },
  {
   "cell_type": "code",
   "execution_count": 99,
   "metadata": {},
   "outputs": [
    {
     "data": {
      "text/plain": [
       "array(['Islamic Republic of Iran', 'United States of America', 'RPC',\n",
       "       \"People's Republic of China\", 'Refugee Paralympic Team',\n",
       "       'Syrian Arab Republic', \"Côte d'Ivoire\", 'Republic of Korea',\n",
       "       'Guinea-Bissau', 'Republic of Moldova', 'Hong Kong, China',\n",
       "       'St Vincent and the Grenadines', 'Congo',\n",
       "       'Democratic Republic of the Congo', 'United Republic of Tanzania',\n",
       "       'North Macedonia', 'Virgin Islands, US',\n",
       "       \"Lao People's Democratic Republic\", 'Faroe Islands'], dtype=object)"
      ]
     },
     "execution_count": 99,
     "metadata": {},
     "output_type": "execute_result"
    }
   ],
   "source": [
    "# Display the unique values in the Team column of the nan_rows DataFrame\n",
    "unique_teams_nan_rows = nan_rows['Team'].unique()\n",
    "\n",
    "unique_teams_nan_rows"
   ]
  },
  {
   "cell_type": "code",
   "execution_count": 101,
   "metadata": {},
   "outputs": [],
   "source": [
    "# Dictionary with the 3-letter country codes\n",
    "country_codes2 = {\n",
    "    'Islamic Republic of Iran': 'IRN',\n",
    "    'United States of America': 'USA',\n",
    "    'RPC': 'RPC',\n",
    "    \"People's Republic of China\": 'CHN',\n",
    "    'Refugee Paralympic Team': 'RPT',\n",
    "    'Syrian Arab Republic': 'SYR',\n",
    "    \"Côte d'Ivoire\": 'CIV',\n",
    "    'Republic of Korea': 'KOR',\n",
    "    'Guinea-Bissau': 'GBS',\n",
    "    'Republic of Moldova': 'MDA',\n",
    "    'Hong Kong, China': 'HKG',\n",
    "    'St Vincent and the Grenadines': 'VIN',\n",
    "    'Congo': 'COD',\n",
    "    'Democratic Republic of the Congo': 'COD',\n",
    "    'United Republic of Tanzania': 'TZA',\n",
    "    'North Macedonia': 'MKD',\n",
    "    'Virgin Islands, US': 'ISV',\n",
    "    \"Lao People's Democratic Republic\": 'LAO',\n",
    "    'Faroe Islands': 'DNK'\n",
    "}\n",
    "\n",
    "# Fill in the NaN values in the Country column with the corresponding country codes\n",
    "new_data['Country'] = new_data['Country'].fillna(new_data['Team'].map(country_codes2))"
   ]
  },
  {
   "cell_type": "code",
   "execution_count": 104,
   "metadata": {},
   "outputs": [
    {
     "name": "stdout",
     "output_type": "stream",
     "text": [
      "Number of rows with NaN values in the Country column: 0\n"
     ]
    }
   ],
   "source": [
    "#Double check\n",
    "# Count the number of rows with NaN values in the Country column\n",
    "nan_count = nan_rows.shape[0]\n",
    "# Display \n",
    "print(f\"Number of rows with NaN values in the Country column: {nan_count}\")\n"
   ]
  },
  {
   "cell_type": "markdown",
   "metadata": {},
   "source": [
    "### Sport"
   ]
  },
  {
   "cell_type": "code",
   "execution_count": 105,
   "metadata": {},
   "outputs": [],
   "source": [
    "df = new_data.copy()"
   ]
  },
  {
   "cell_type": "code",
   "execution_count": 109,
   "metadata": {},
   "outputs": [
    {
     "name": "stdout",
     "output_type": "stream",
     "text": [
      "Number of unique values in the Sport column: 79\n",
      "['Basketball' 'Judo' 'Football' 'Tug-Of-War' 'Speed Skating'\n",
      " 'Cross Country Skiing' 'Athletics' 'Ice Hockey' 'Swimming' 'Badminton'\n",
      " 'Sailing' 'Biathlon' 'Gymnastics' 'Art Competitions' 'Alpine Skiing'\n",
      " 'Handball' 'Weightlifting' 'Wrestling' 'Luge' 'Water Polo' 'Hockey'\n",
      " 'Rowing' 'Bobsleigh' 'Fencing' 'Equestrianism' 'Shooting' 'Boxing'\n",
      " 'Taekwondo' 'Cycling' 'Diving' 'Canoeing' 'Tennis' 'Modern Pentathlon'\n",
      " 'Figure Skating' 'Golf' 'Softball' 'Archery' 'Volleyball'\n",
      " 'Synchronized Swimming' 'Table Tennis' 'Nordic Combined' 'Baseball'\n",
      " 'Rhythmic Gymnastics' 'Freestyle Skiing' 'Rugby Sevens' 'Trampolining'\n",
      " 'Beach Volleyball' 'Triathlon' 'Ski Jumping' 'Curling' 'Snowboarding'\n",
      " 'Rugby' 'Short Track Speed Skating' 'Skeleton' 'Lacrosse' 'Polo'\n",
      " 'Cricket' 'Racquets' 'Motorboating' 'Military Ski Patrol' 'Croquet'\n",
      " 'Jeu De Paume' 'Roque' 'Alpinism' 'Basque Pelota' 'Aeronautics'\n",
      " 'Wheelchair Basketball' 'Sitting Volleyball' 'Powerlifting'\n",
      " 'Canoe Sprint' 'Wheelchair Fencing' 'Cycling Road' 'Cycling Track'\n",
      " 'Football 5-a-side' 'Equestrian' 'Boccia' 'Goalball' 'Wheelchair Tennis'\n",
      " 'Wheelchair Rugby']\n"
     ]
    }
   ],
   "source": [
    "# Count the unique values in the Sport column\n",
    "unique_sports_count = df['Sport'].nunique()\n",
    "\n",
    "# Display the count of unique values\n",
    "print(f\"Number of unique values in the Sport column: {unique_sports_count}\")\n",
    "\n",
    "# Display the unique values in the Sport column\n",
    "print(df['Sport'].unique())"
   ]
  },
  {
   "cell_type": "markdown",
   "metadata": {},
   "source": [
    "#### Note 4\n",
    "\n",
    "As of the latest updates, there are 35 sports in the Summer Olympics and 8 sports in the Winter Olympics. Some sports in the list, like Tug-Of-War and Croquet, were part of the Olympics in the past but are no longer included. Others are part of the Paralympic Games.\n",
    "\n",
    "**Current Olympic Sports**\n",
    "- **Summer Olympics**: Basketball, Judo, Football, Athletics, Swimming, Badminton, Sailing, Gymnastics, Handball, Weightlifting, Wrestling, Water Polo, Rowing, Fencing, Equestrian, Shooting, Boxing, Taekwondo, Cycling, Diving, Canoeing, Tennis, Modern Pentathlon, Golf, Archery, Volleyball, Table Tennis, Triathlon, Rugby Sevens, Beach Volleyball, Skateboarding, Sport Climbing, Surfing, Breaking (Breakdancing).\n",
    "- **Winter Olympics**: Speed Skating, Cross Country Skiing, Ice Hockey, Biathlon, Alpine Skiing, Luge, Bobsleigh, Figure Skating, Freestyle Skiing, Nordic Combined, Ski Jumping, Curling, Snowboarding, Short Track Speed Skating, Skeleton.\n",
    "\n",
    "**Historical Olympic Sports**\n",
    "- Tug-Of-War, Art Competitions, Polo, Cricket, Racquets, Motorboating, Military Ski Patrol, Croquet, Jeu De Paume, Roque, Alpinism, Basque Pelota, Aeronautics.\n",
    "\n",
    "**Paralympic Sports**\n",
    "- Wheelchair Basketball, Sitting Volleyball, Powerlifting, Wheelchair Fencing, Boccia, Goalball, Wheelchair Tennis, Wheelchair Rugby, Football 5-a-side.\n",
    "\n",
    "Counting these options, 79 unique values seem to be correct."
   ]
  },
  {
   "cell_type": "markdown",
   "metadata": {},
   "source": [
    "# Create a csv"
   ]
  },
  {
   "cell_type": "code",
   "execution_count": 111,
   "metadata": {},
   "outputs": [],
   "source": [
    "# Save the DataFrame to a CSV file\n",
    "df.to_csv('olympic_dataset_1986_2020.csv', index=False)"
   ]
  },
  {
   "cell_type": "markdown",
   "metadata": {},
   "source": [
    "# Data Analysis"
   ]
  },
  {
   "cell_type": "code",
   "execution_count": 112,
   "metadata": {},
   "outputs": [],
   "source": [
    "df = pd.read_csv(\"C:\\\\Users\\\\Usuario\\\\OneDrive\\\\Documentos\\\\Zsofia Data Analytics\\\\PowerBI\\\\Olympic data\\\\olympic_dataset_1986_2020.csv\")"
   ]
  },
  {
   "cell_type": "code",
   "execution_count": 113,
   "metadata": {},
   "outputs": [
    {
     "data": {
      "text/html": [
       "<div>\n",
       "<style scoped>\n",
       "    .dataframe tbody tr th:only-of-type {\n",
       "        vertical-align: middle;\n",
       "    }\n",
       "\n",
       "    .dataframe tbody tr th {\n",
       "        vertical-align: top;\n",
       "    }\n",
       "\n",
       "    .dataframe thead th {\n",
       "        text-align: right;\n",
       "    }\n",
       "</style>\n",
       "<table border=\"1\" class=\"dataframe\">\n",
       "  <thead>\n",
       "    <tr style=\"text-align: right;\">\n",
       "      <th></th>\n",
       "      <th>Name</th>\n",
       "      <th>Sex</th>\n",
       "      <th>Age</th>\n",
       "      <th>Team</th>\n",
       "      <th>Games</th>\n",
       "      <th>Year</th>\n",
       "      <th>Season</th>\n",
       "      <th>Sport</th>\n",
       "      <th>Medal</th>\n",
       "      <th>Country</th>\n",
       "    </tr>\n",
       "  </thead>\n",
       "  <tbody>\n",
       "    <tr>\n",
       "      <th>0</th>\n",
       "      <td>A Dijiang</td>\n",
       "      <td>Male</td>\n",
       "      <td>24.0</td>\n",
       "      <td>China</td>\n",
       "      <td>1992 Summer</td>\n",
       "      <td>1992</td>\n",
       "      <td>Summer</td>\n",
       "      <td>Basketball</td>\n",
       "      <td>NaN</td>\n",
       "      <td>CHN</td>\n",
       "    </tr>\n",
       "    <tr>\n",
       "      <th>1</th>\n",
       "      <td>A Lamusi</td>\n",
       "      <td>Male</td>\n",
       "      <td>23.0</td>\n",
       "      <td>China</td>\n",
       "      <td>2012 Summer</td>\n",
       "      <td>2012</td>\n",
       "      <td>Summer</td>\n",
       "      <td>Judo</td>\n",
       "      <td>NaN</td>\n",
       "      <td>CHN</td>\n",
       "    </tr>\n",
       "  </tbody>\n",
       "</table>\n",
       "</div>"
      ],
      "text/plain": [
       "        Name   Sex   Age   Team        Games  Year  Season       Sport Medal  \\\n",
       "0  A Dijiang  Male  24.0  China  1992 Summer  1992  Summer  Basketball   NaN   \n",
       "1   A Lamusi  Male  23.0  China  2012 Summer  2012  Summer        Judo   NaN   \n",
       "\n",
       "  Country  \n",
       "0     CHN  \n",
       "1     CHN  "
      ]
     },
     "execution_count": 113,
     "metadata": {},
     "output_type": "execute_result"
    }
   ],
   "source": [
    "df.head(2)"
   ]
  },
  {
   "cell_type": "code",
   "execution_count": 117,
   "metadata": {},
   "outputs": [
    {
     "name": "stdout",
     "output_type": "stream",
     "text": [
      "Percentage of Male to Female participants:\n",
      " Gender\n",
      "Male      73.399488\n",
      "Female    26.600512\n",
      "Name: proportion, dtype: float64\n"
     ]
    }
   ],
   "source": [
    "# Percentage of Male to Female participants\n",
    "gender_counts = df['Gender'].value_counts(normalize=True) * 100\n",
    "print(\"Percentage of Male to Female participants:\\n\", gender_counts)"
   ]
  },
  {
   "cell_type": "code",
   "execution_count": 123,
   "metadata": {},
   "outputs": [
    {
     "name": "stdout",
     "output_type": "stream",
     "text": [
      "Medals won by each gender:\n",
      " Gender\n",
      "Female    11229\n",
      "Male      28094\n",
      "Name: Medal, dtype: int64\n",
      "------------------\n",
      "Percentage of medals won by each gender:\n",
      " Gender\n",
      "Female    28.555807\n",
      "Male      71.444193\n",
      "Name: Medal, dtype: float64\n"
     ]
    }
   ],
   "source": [
    "# Relationship between Gender and Number of Medals won\n",
    "medal_counts_by_gender = df[df['Medal'].notna()].groupby('Gender')['Medal'].count()\n",
    "medal_percentage_by_gender = (medal_counts_by_gender / medal_counts_by_gender.sum()) * 100\n",
    "\n",
    "print(\"Medals won by each gender:\\n\", medal_counts_by_gender)\n",
    "print(\"------------------\")\n",
    "print(\"Percentage of medals won by each gender:\\n\", medal_percentage_by_gender)"
   ]
  },
  {
   "cell_type": "code",
   "execution_count": 119,
   "metadata": {},
   "outputs": [
    {
     "name": "stdout",
     "output_type": "stream",
     "text": [
      "Age statistics:\n",
      " min     10.00000\n",
      "max     97.00000\n",
      "mean    25.94384\n",
      "Name: Age, dtype: float64\n"
     ]
    }
   ],
   "source": [
    "# Minimum, Maximum, and Average Age of Participants\n",
    "age_stats = df['Age'].agg(['min', 'max', 'mean'])\n",
    "print(\"Age statistics:\\n\", age_stats)"
   ]
  },
  {
   "cell_type": "code",
   "execution_count": 124,
   "metadata": {},
   "outputs": [
    {
     "data": {
      "image/png": "[encoded data removed]",
      "text/plain": [
       "<Figure size 1200x600 with 1 Axes>"
      ]
     },
     "metadata": {},
     "output_type": "display_data"
    }
   ],
   "source": [
    "import matplotlib.pyplot as plt\n",
    "\n",
    "# Relationship between Age and Number of Medals won\n",
    "age_medal_relationship = df[df['Medal'].notna()].groupby('Age')['Medal'].count()\n",
    "\n",
    "# Visualization\n",
    "plt.figure(figsize=(12, 6))\n",
    "plt.bar(age_medal_relationship.index, age_medal_relationship.values, color='skyblue')\n",
    "plt.xlabel(\"Age\")\n",
    "plt.ylabel(\"Number of Medals Won\")\n",
    "plt.title(\"Relationship Between Age and Number of Medals Won\")\n",
    "plt.xticks(rotation=45)\n",
    "plt.grid(axis='y', linestyle='--', alpha=0.7)\n",
    "plt.show()\n"
   ]
  },
  {
   "cell_type": "code",
   "execution_count": 128,
   "metadata": {},
   "outputs": [
    {
     "name": "stdout",
     "output_type": "stream",
     "text": [
      "Top 3 countries with the highest number of medals:\n",
      " Country\n",
      "USA    5268\n",
      "URS    2338\n",
      "GBR    2097\n",
      "Name: Medal, dtype: int64\n"
     ]
    }
   ],
   "source": [
    "# Top 3 countries with the highest number of Medals\n",
    "top_medal_countries = df[df['Medal'].notna()].groupby('Country')['Medal'].count().nlargest(3)\n",
    "\n",
    "print(\"Top 3 countries with the highest number of medals:\\n\", top_medal_countries)"
   ]
  },
  {
   "cell_type": "code",
   "execution_count": 131,
   "metadata": {},
   "outputs": [
    {
     "name": "stdout",
     "output_type": "stream",
     "text": [
      "Top 3 countries with the highest *Gold* medals:\n",
      " Country\n",
      "USA    2322\n",
      "URS     994\n",
      "GER     706\n",
      "Name: Medal, dtype: int64\n",
      "------------------\n",
      "\n",
      "Top 3 countries with the highest *Silver* medals:\n",
      " Country\n",
      "USA    1609\n",
      "GBR     729\n",
      "URS     686\n",
      "Name: Medal, dtype: int64\n",
      "------------------\n",
      "\n",
      "Top 3 countries with the highest *Bronze* medals:\n",
      " Country\n",
      "USA    1337\n",
      "GER     730\n",
      "FRA     680\n",
      "Name: Medal, dtype: int64\n"
     ]
    }
   ],
   "source": [
    "# Top 3 countries with the highest number of each medal type\n",
    "top_gold_countries = df[df['Medal'] == 'Gold'].groupby('Country')['Medal'].count().nlargest(3)\n",
    "top_silver_countries = df[df['Medal'] == 'Silver'].groupby('Country')['Medal'].count().nlargest(3)\n",
    "top_bronze_countries = df[df['Medal'] == 'Bronze'].groupby('Country')['Medal'].count().nlargest(3)\n",
    "\n",
    "print(\"Top 3 countries with the highest *Gold* medals:\\n\", top_gold_countries)\n",
    "print(\"------------------\")\n",
    "print(\"\\nTop 3 countries with the highest *Silver* medals:\\n\", top_silver_countries)\n",
    "print(\"------------------\")\n",
    "print(\"\\nTop 3 countries with the highest *Bronze* medals:\\n\", top_bronze_countries)"
   ]
  },
  {
   "cell_type": "code",
   "execution_count": 134,
   "metadata": {},
   "outputs": [
    {
     "name": "stdout",
     "output_type": "stream",
     "text": [
      "Top 10 sports with the highest number of medals:\n",
      "          Sport  Medal\n",
      "5    Athletics   4123\n",
      "51      Rowing   2951\n",
      "63    Swimming   2788\n",
      "34  Gymnastics   1909\n",
      "27     Fencing   1621\n",
      "29    Football   1571\n",
      "37  Ice Hockey   1530\n",
      "36      Hockey   1527\n",
      "78   Wrestling   1290\n",
      "54     Sailing   1218\n"
     ]
    }
   ],
   "source": [
    "# Total medals by sport across all countries\n",
    "medal_by_sport = df[df['Medal'].notna()].groupby('Sport')['Medal'].count().reset_index()\n",
    "\n",
    "# Sort by the total number of medals and select the top 10\n",
    "top_10_sports = medal_by_sport.sort_values(by='Medal', ascending=False).head(10)\n",
    "\n",
    "print(\"Top 10 sports with the highest number of medals:\\n\", top_10_sports)\n"
   ]
  },
  {
   "cell_type": "code",
   "execution_count": 139,
   "metadata": {},
   "outputs": [
    {
     "name": "stdout",
     "output_type": "stream",
     "text": [
      "Top 5 sports with the highest number of *Gold* medals:\n",
      "          Sport  Medal\n",
      "5    Athletics   1329\n",
      "51      Rowing    971\n",
      "63    Swimming    905\n",
      "34  Gymnastics    623\n",
      "27     Fencing    531\n",
      "------------------\n",
      "\n",
      "Top 5 sports with the highest number of *Silver* medals:\n",
      "          Sport  Medal\n",
      "3    Athletics   1410\n",
      "47      Rowing    983\n",
      "59    Swimming    943\n",
      "31  Gymnastics    642\n",
      "24     Fencing    555\n",
      "------------------\n",
      "\n",
      "Top 5 sports with the highest number of *Bronze* medals:\n",
      "          Sport  Medal\n",
      "3    Athletics   1384\n",
      "46      Rowing    997\n",
      "58    Swimming    940\n",
      "30  Gymnastics    644\n",
      "25    Football    543\n"
     ]
    }
   ],
   "source": [
    "# Filter for gold, silver, and bronze medals\n",
    "gold_medals = df[df['Medal'] == 'Gold']\n",
    "silver_medals = df[df['Medal'] == 'Silver']\n",
    "bronze_medals = df[df['Medal'] == 'Bronze']\n",
    "\n",
    "# Count the number of medals by sport for each type\n",
    "gold_medals_by_sport = gold_medals.groupby('Sport')['Medal'].count().reset_index()\n",
    "silver_medals_by_sport = silver_medals.groupby('Sport')['Medal'].count().reset_index()\n",
    "bronze_medals_by_sport = bronze_medals.groupby('Sport')['Medal'].count().reset_index()\n",
    "\n",
    "# Sort and get the top 5 sports for each medal type\n",
    "top_5_gold = gold_medals_by_sport.sort_values(by='Medal', ascending=False).head(5)\n",
    "top_5_silver = silver_medals_by_sport.sort_values(by='Medal', ascending=False).head(5)\n",
    "top_5_bronze = bronze_medals_by_sport.sort_values(by='Medal', ascending=False).head(5)\n",
    "\n",
    "# Print the results\n",
    "print(\"Top 5 sports with the highest number of *Gold* medals:\\n\", top_5_gold)\n",
    "print(\"------------------\")\n",
    "print(\"\\nTop 5 sports with the highest number of *Silver* medals:\\n\", top_5_silver)\n",
    "print(\"------------------\")\n",
    "print(\"\\nTop 5 sports with the highest number of *Bronze* medals:\\n\", top_5_bronze)"
   ]
  },
  {
   "cell_type": "code",
   "execution_count": 144,
   "metadata": {},
   "outputs": [
    {
     "name": "stdout",
     "output_type": "stream",
     "text": [
      "Participant with the highest number of medals: Birgit Fischer-Schmidt\n",
      "Country: GDR\n",
      "Sports: Canoeing\n",
      "Total number of medals: 10\n",
      "Years won: [1980, 1988, 1992, 1996, 2000, 2004]\n"
     ]
    }
   ],
   "source": [
    "# Participant with the highest number of medals\n",
    "top_medalist = df[df['Medal'].notna()].groupby('Name')['Medal'].count().idxmax()\n",
    "\n",
    "# Filter the dataset for the top medalist\n",
    "top_medalist_data = df[(df['Name'] == top_medalist) & (df['Medal'].notna())]\n",
    "\n",
    "# Count the total number of medals for the top medalist\n",
    "total_medals = top_medalist_data['Medal'].count()\n",
    "\n",
    "# Get the list of years the top medalist won\n",
    "years_won = top_medalist_data['Year'].unique()\n",
    "\n",
    "# Get the country of the top medalist (assuming the country is consistent)\n",
    "country = top_medalist_data['Country'].iloc[0]\n",
    "\n",
    "# Get the sports the top medalist participated in\n",
    "sports = top_medalist_data['Sport'].unique()\n",
    "\n",
    "print(f\"Participant with the highest number of medals: {top_medalist}\")\n",
    "print(f\"Country: {country}\")\n",
    "print(f\"Sports: {', '.join(sports)}\")\n",
    "print(f\"Total number of medals: {total_medals}\")\n",
    "print(f\"Years won: {sorted(years_won)}\")"
   ]
  },
  {
   "cell_type": "code",
   "execution_count": 145,
   "metadata": {},
   "outputs": [
    {
     "name": "stdout",
     "output_type": "stream",
     "text": [
      "Participant with the highest number of Gold medals: Aladr Gerevich (-Gerei)\n",
      "Country: HUN\n",
      "Sports: Fencing\n",
      "Total number of Gold medals: 6\n",
      "Years won Gold medals: [1932, 1936, 1948, 1952, 1956, 1960]\n"
     ]
    }
   ],
   "source": [
    "# Participant with the highest number of Gold Medals\n",
    "top_gold_medalist = df[df['Medal'] == 'Gold'].groupby('Name')['Medal'].count().idxmax()\n",
    "\n",
    "# Filter the dataset for the top gold medalist\n",
    "top_gold_medalist_data = df[(df['Name'] == top_gold_medalist) & (df['Medal'] == 'Gold')]\n",
    "\n",
    "# Count the total number of Gold medals for the top gold medalist\n",
    "total_gold_medals = top_gold_medalist_data['Medal'].count()\n",
    "\n",
    "# Get the list of years the top gold medalist won Gold medals\n",
    "years_gold_won = top_gold_medalist_data['Year'].unique()\n",
    "\n",
    "# Get the country of the top gold medalist (assuming the country is consistent)\n",
    "country_gold = top_gold_medalist_data['Country'].iloc[0]\n",
    "\n",
    "# Get the sports the top gold medalist participated in\n",
    "sports_gold = top_gold_medalist_data['Sport'].unique()\n",
    "\n",
    "print(f\"Participant with the highest number of Gold medals: {top_gold_medalist}\")\n",
    "print(f\"Country: {country_gold}\")\n",
    "print(f\"Sports: {', '.join(sports_gold)}\")\n",
    "print(f\"Total number of Gold medals: {total_gold_medals}\")\n",
    "print(f\"Years won Gold medals: {sorted(years_gold_won)}\")"
   ]
  },
  {
   "cell_type": "code",
   "execution_count": 146,
   "metadata": {},
   "outputs": [
    {
     "data": {
      "image/png": "[encoded data removed]",
      "text/plain": [
       "<Figure size 1000x600 with 1 Axes>"
      ]
     },
     "metadata": {},
     "output_type": "display_data"
    }
   ],
   "source": [
    "#Evolution of the Number od Medals by Year and Season\n",
    "\n",
    "import seaborn as sns\n",
    "import matplotlib.pyplot as plt\n",
    "\n",
    "# Group the data by Year and Season, counting the number of medals\n",
    "medals_by_year_season = df[df['Medal'].notna()].groupby(['Year', 'Season'])['Medal'].count().reset_index()\n",
    "\n",
    "# Rename the columns for clarity\n",
    "medals_by_year_season.columns = ['Year', 'Season', 'Total Medals']\n",
    "\n",
    "# Set up the seaborn style\n",
    "sns.set(style=\"whitegrid\")\n",
    "\n",
    "# Create a line plot or bar plot for the evolution of the number of medals by Year and Season\n",
    "plt.figure(figsize=(10, 6))\n",
    "sns.lineplot(data=medals_by_year_season, x='Year', y='Total Medals', hue='Season', marker='o')\n",
    "\n",
    "# Add title and labels\n",
    "plt.title('Evolution of the Number of Medals by Year and Season', fontsize=16)\n",
    "plt.xlabel('Year', fontsize=12)\n",
    "plt.ylabel('Total Medals', fontsize=12)\n",
    "\n",
    "# Display the plot\n",
    "plt.legend(title='Season')\n",
    "plt.xticks(rotation=45)  # Rotate x-axis labels for better readability\n",
    "plt.tight_layout()\n",
    "plt.show()\n"
   ]
  }
 ],
 "metadata": {
  "kernelspec": {
   "display_name": "Python 3",
   "language": "python",
   "name": "python3"
  },
  "language_info": {
   "codemirror_mode": {
    "name": "ipython",
    "version": 3
   },
   "file_extension": ".py",
   "mimetype": "text/x-python",
   "name": "python",
   "nbconvert_exporter": "python",
   "pygments_lexer": "ipython3",
   "version": "3.11.9"
  }
 },
 "nbformat": 4,
 "nbformat_minor": 2
}
